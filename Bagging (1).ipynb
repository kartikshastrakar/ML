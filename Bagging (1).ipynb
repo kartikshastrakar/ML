{
  "nbformat": 4,
  "nbformat_minor": 0,
  "metadata": {
    "kernelspec": {
      "display_name": "Python 3",
      "language": "python",
      "name": "python3"
    },
    "language_info": {
      "codemirror_mode": {
        "name": "ipython",
        "version": 3
      },
      "file_extension": ".py",
      "mimetype": "text/x-python",
      "name": "python",
      "nbconvert_exporter": "python",
      "pygments_lexer": "ipython3",
      "version": "3.8.5"
    },
    "colab": {
      "name": "Bagging.ipynb",
      "provenance": [],
      "collapsed_sections": [
        "4GK2mKxkYVUa",
        "jpXxq8bBYVUd",
        "IFaMyB1HYVUo"
      ]
    }
  },
  "cells": [
    {
      "cell_type": "markdown",
      "metadata": {
        "id": "u2Mi2OrCYVTz"
      },
      "source": [
        "## <center><u>Bagging and Random Forest Ensemble Algorithms</u></center>\n"
      ]
    },
    {
      "cell_type": "markdown",
      "metadata": {
        "id": "iLTTPVzyYVT-"
      },
      "source": [
        "Decision trees are a simple and powerful predictive modeling technique, but they suffer from high-variance.\n",
        "\n",
        "This means that trees can get very different results given different training data.\n",
        "\n",
        "A technique to make decision trees more robust and to achieve better performance is called bootstrap aggregation or bagging for short.\n",
        "\n",
        "In this assignment, you will discover how to implement the bagging procedure with Python.\n",
        "\n",
        "To know more about Bagging do refer this video: https://youtu.be/mvNRa-VI7xw\n",
        "\n",
        "![image.png](attachment:image.png)\n",
        "\n",
        "-------------------------\n",
        "\n",
        "Here you will be using 3 different types of boosting methods:\n",
        "\n",
        "1. Bagging classifier: an ensemble meta-estimator\n",
        "2. RandomForest Classifier\n",
        "3. ExtraTree Classifier\n",
        "\n",
        "\n",
        "#### PROBLEM STATEMENT: Credit Default Prediction\n",
        "\n",
        "Build a model to predict whether a given customer defaults or not. Credit default is one of the most important problems in the banking and risk analytics industry. There are various attributes which can be used to predict default, such as demographic data (age, income, employment status, etc.), (credit) behavioural data (past loans, payment, number of times a credit payment has been delayed by the customer etc.).\n",
        "\n"
      ]
    },
    {
      "cell_type": "markdown",
      "metadata": {
        "id": "jYVEEvNaYVUA"
      },
      "source": [
        "### 1. Data Understanding and Cleaning\n",
        "\n",
        "<p style='text-align: right;'> 10 points</p>"
      ]
    },
    {
      "cell_type": "code",
      "metadata": {
        "id": "MnlXAs9IYVUB"
      },
      "source": [
        "# Importing the required libraries\n",
        "import pandas as pd\n",
        "import numpy as np\n",
        "import matplotlib.pyplot as plt\n",
        "import seaborn as sns\n",
        "%matplotlib inline\n",
        "\n",
        "# To ignore warnings\n",
        "import warnings\n",
        "warnings.filterwarnings(\"ignore\")"
      ],
      "execution_count": null,
      "outputs": []
    },
    {
      "cell_type": "code",
      "metadata": {
        "id": "Xzfuy8JEYVUE",
        "outputId": "927cc5d1-5fdf-47d4-c37f-1b3c756c9c02"
      },
      "source": [
        "# Reading the csv file and putting it into 'df' object.\n",
        "df = \n",
        "\n",
        "#printing head\n"
      ],
      "execution_count": null,
      "outputs": [
        {
          "data": {
            "text/html": [
              "<div>\n",
              "<style scoped>\n",
              "    .dataframe tbody tr th:only-of-type {\n",
              "        vertical-align: middle;\n",
              "    }\n",
              "\n",
              "    .dataframe tbody tr th {\n",
              "        vertical-align: top;\n",
              "    }\n",
              "\n",
              "    .dataframe thead th {\n",
              "        text-align: right;\n",
              "    }\n",
              "</style>\n",
              "<table border=\"1\" class=\"dataframe\">\n",
              "  <thead>\n",
              "    <tr style=\"text-align: right;\">\n",
              "      <th></th>\n",
              "      <th>ID</th>\n",
              "      <th>LIMIT_BAL</th>\n",
              "      <th>SEX</th>\n",
              "      <th>EDUCATION</th>\n",
              "      <th>MARRIAGE</th>\n",
              "      <th>AGE</th>\n",
              "      <th>PAY_0</th>\n",
              "      <th>PAY_2</th>\n",
              "      <th>PAY_3</th>\n",
              "      <th>PAY_4</th>\n",
              "      <th>...</th>\n",
              "      <th>BILL_AMT4</th>\n",
              "      <th>BILL_AMT5</th>\n",
              "      <th>BILL_AMT6</th>\n",
              "      <th>PAY_AMT1</th>\n",
              "      <th>PAY_AMT2</th>\n",
              "      <th>PAY_AMT3</th>\n",
              "      <th>PAY_AMT4</th>\n",
              "      <th>PAY_AMT5</th>\n",
              "      <th>PAY_AMT6</th>\n",
              "      <th>defaulted</th>\n",
              "    </tr>\n",
              "  </thead>\n",
              "  <tbody>\n",
              "    <tr>\n",
              "      <th>0</th>\n",
              "      <td>1</td>\n",
              "      <td>20000</td>\n",
              "      <td>2</td>\n",
              "      <td>2</td>\n",
              "      <td>1</td>\n",
              "      <td>24</td>\n",
              "      <td>2</td>\n",
              "      <td>2</td>\n",
              "      <td>-1</td>\n",
              "      <td>-1</td>\n",
              "      <td>...</td>\n",
              "      <td>0</td>\n",
              "      <td>0</td>\n",
              "      <td>0</td>\n",
              "      <td>0</td>\n",
              "      <td>689</td>\n",
              "      <td>0</td>\n",
              "      <td>0</td>\n",
              "      <td>0</td>\n",
              "      <td>0</td>\n",
              "      <td>1</td>\n",
              "    </tr>\n",
              "    <tr>\n",
              "      <th>1</th>\n",
              "      <td>2</td>\n",
              "      <td>120000</td>\n",
              "      <td>2</td>\n",
              "      <td>2</td>\n",
              "      <td>2</td>\n",
              "      <td>26</td>\n",
              "      <td>-1</td>\n",
              "      <td>2</td>\n",
              "      <td>0</td>\n",
              "      <td>0</td>\n",
              "      <td>...</td>\n",
              "      <td>3272</td>\n",
              "      <td>3455</td>\n",
              "      <td>3261</td>\n",
              "      <td>0</td>\n",
              "      <td>1000</td>\n",
              "      <td>1000</td>\n",
              "      <td>1000</td>\n",
              "      <td>0</td>\n",
              "      <td>2000</td>\n",
              "      <td>1</td>\n",
              "    </tr>\n",
              "    <tr>\n",
              "      <th>2</th>\n",
              "      <td>3</td>\n",
              "      <td>90000</td>\n",
              "      <td>2</td>\n",
              "      <td>2</td>\n",
              "      <td>2</td>\n",
              "      <td>34</td>\n",
              "      <td>0</td>\n",
              "      <td>0</td>\n",
              "      <td>0</td>\n",
              "      <td>0</td>\n",
              "      <td>...</td>\n",
              "      <td>14331</td>\n",
              "      <td>14948</td>\n",
              "      <td>15549</td>\n",
              "      <td>1518</td>\n",
              "      <td>1500</td>\n",
              "      <td>1000</td>\n",
              "      <td>1000</td>\n",
              "      <td>1000</td>\n",
              "      <td>5000</td>\n",
              "      <td>0</td>\n",
              "    </tr>\n",
              "    <tr>\n",
              "      <th>3</th>\n",
              "      <td>4</td>\n",
              "      <td>50000</td>\n",
              "      <td>2</td>\n",
              "      <td>2</td>\n",
              "      <td>1</td>\n",
              "      <td>37</td>\n",
              "      <td>0</td>\n",
              "      <td>0</td>\n",
              "      <td>0</td>\n",
              "      <td>0</td>\n",
              "      <td>...</td>\n",
              "      <td>28314</td>\n",
              "      <td>28959</td>\n",
              "      <td>29547</td>\n",
              "      <td>2000</td>\n",
              "      <td>2019</td>\n",
              "      <td>1200</td>\n",
              "      <td>1100</td>\n",
              "      <td>1069</td>\n",
              "      <td>1000</td>\n",
              "      <td>0</td>\n",
              "    </tr>\n",
              "    <tr>\n",
              "      <th>4</th>\n",
              "      <td>5</td>\n",
              "      <td>50000</td>\n",
              "      <td>1</td>\n",
              "      <td>2</td>\n",
              "      <td>1</td>\n",
              "      <td>57</td>\n",
              "      <td>-1</td>\n",
              "      <td>0</td>\n",
              "      <td>-1</td>\n",
              "      <td>0</td>\n",
              "      <td>...</td>\n",
              "      <td>20940</td>\n",
              "      <td>19146</td>\n",
              "      <td>19131</td>\n",
              "      <td>2000</td>\n",
              "      <td>36681</td>\n",
              "      <td>10000</td>\n",
              "      <td>9000</td>\n",
              "      <td>689</td>\n",
              "      <td>679</td>\n",
              "      <td>0</td>\n",
              "    </tr>\n",
              "  </tbody>\n",
              "</table>\n",
              "<p>5 rows × 25 columns</p>\n",
              "</div>"
            ],
            "text/plain": [
              "   ID  LIMIT_BAL  SEX  EDUCATION  MARRIAGE  AGE  PAY_0  PAY_2  PAY_3  PAY_4  \\\n",
              "0   1      20000    2          2         1   24      2      2     -1     -1   \n",
              "1   2     120000    2          2         2   26     -1      2      0      0   \n",
              "2   3      90000    2          2         2   34      0      0      0      0   \n",
              "3   4      50000    2          2         1   37      0      0      0      0   \n",
              "4   5      50000    1          2         1   57     -1      0     -1      0   \n",
              "\n",
              "   ...  BILL_AMT4  BILL_AMT5  BILL_AMT6  PAY_AMT1  PAY_AMT2  PAY_AMT3  \\\n",
              "0  ...          0          0          0         0       689         0   \n",
              "1  ...       3272       3455       3261         0      1000      1000   \n",
              "2  ...      14331      14948      15549      1518      1500      1000   \n",
              "3  ...      28314      28959      29547      2000      2019      1200   \n",
              "4  ...      20940      19146      19131      2000     36681     10000   \n",
              "\n",
              "   PAY_AMT4  PAY_AMT5  PAY_AMT6  defaulted  \n",
              "0         0         0         0          1  \n",
              "1      1000         0      2000          1  \n",
              "2      1000      1000      5000          0  \n",
              "3      1100      1069      1000          0  \n",
              "4      9000       689       679          0  \n",
              "\n",
              "[5 rows x 25 columns]"
            ]
          },
          "execution_count": 2,
          "metadata": {},
          "output_type": "execute_result"
        }
      ]
    },
    {
      "cell_type": "code",
      "metadata": {
        "id": "DszWPJvWYVUG",
        "outputId": "e3115bdf-0db4-479d-b56d-edc9fbff4418"
      },
      "source": [
        "# Let's understand the type of columns\n"
      ],
      "execution_count": null,
      "outputs": [
        {
          "name": "stdout",
          "output_type": "stream",
          "text": [
            "<class 'pandas.core.frame.DataFrame'>\n",
            "RangeIndex: 30000 entries, 0 to 29999\n",
            "Data columns (total 25 columns):\n",
            " #   Column     Non-Null Count  Dtype\n",
            "---  ------     --------------  -----\n",
            " 0   ID         30000 non-null  int64\n",
            " 1   LIMIT_BAL  30000 non-null  int64\n",
            " 2   SEX        30000 non-null  int64\n",
            " 3   EDUCATION  30000 non-null  int64\n",
            " 4   MARRIAGE   30000 non-null  int64\n",
            " 5   AGE        30000 non-null  int64\n",
            " 6   PAY_0      30000 non-null  int64\n",
            " 7   PAY_2      30000 non-null  int64\n",
            " 8   PAY_3      30000 non-null  int64\n",
            " 9   PAY_4      30000 non-null  int64\n",
            " 10  PAY_5      30000 non-null  int64\n",
            " 11  PAY_6      30000 non-null  int64\n",
            " 12  BILL_AMT1  30000 non-null  int64\n",
            " 13  BILL_AMT2  30000 non-null  int64\n",
            " 14  BILL_AMT3  30000 non-null  int64\n",
            " 15  BILL_AMT4  30000 non-null  int64\n",
            " 16  BILL_AMT5  30000 non-null  int64\n",
            " 17  BILL_AMT6  30000 non-null  int64\n",
            " 18  PAY_AMT1   30000 non-null  int64\n",
            " 19  PAY_AMT2   30000 non-null  int64\n",
            " 20  PAY_AMT3   30000 non-null  int64\n",
            " 21  PAY_AMT4   30000 non-null  int64\n",
            " 22  PAY_AMT5   30000 non-null  int64\n",
            " 23  PAY_AMT6   30000 non-null  int64\n",
            " 24  defaulted  30000 non-null  int64\n",
            "dtypes: int64(25)\n",
            "memory usage: 5.7 MB\n"
          ]
        }
      ]
    },
    {
      "cell_type": "markdown",
      "metadata": {
        "id": "oG4jUR4yYVUI"
      },
      "source": [
        "In this case, we know that there are no major data quality issues, so we'll go ahead and build the model."
      ]
    },
    {
      "cell_type": "markdown",
      "metadata": {
        "id": "EM9rMMBqYVUJ"
      },
      "source": [
        "### 2. Data Preparation and Model Building\n",
        "\n",
        "\n",
        "<p style='text-align: right;'> 10 points</p>"
      ]
    },
    {
      "cell_type": "code",
      "metadata": {
        "id": "lEI3M6roYVUL"
      },
      "source": [
        "# Importing test_train_split from sklearn library\n"
      ],
      "execution_count": null,
      "outputs": []
    },
    {
      "cell_type": "code",
      "metadata": {
        "id": "Obu0I9uoYVUN"
      },
      "source": [
        "# Putting feature variable to X\n",
        "X = \n",
        "\n",
        "# Putting response variable to y\n",
        "y = \n",
        "# Splitting the data into train and test with test size as 30% and random state as 101\n",
        "X_train, X_test, y_train, y_test = "
      ],
      "execution_count": null,
      "outputs": []
    },
    {
      "cell_type": "markdown",
      "metadata": {
        "id": "XH08jEIoYVUO"
      },
      "source": [
        "### 3. Applying Bagging"
      ]
    },
    {
      "cell_type": "markdown",
      "metadata": {
        "id": "hJleI7FGYVUP"
      },
      "source": [
        "\n",
        "##### 1. Bagging classifier: an ensemble meta-estimator\n",
        "\n",
        "<p style='text-align: right;'> 20 points</p>\n",
        "\n",
        "\n",
        "Bagging classifier can be called as an ensemble meta-estimator which is created by fitting multiple versions of base estimator, trained with modified training data set created using bagging sampling technique (data sampled using replacement) or otherwise. The nagging sampling technique can result in the training set consisting of duplicate dataset or unique data set. This sampling technique is also called as bootstrap aggregation. The final predictor (also called as bagging classifier) combines the predictions made by each estimator / classifier by voting (classification) or by averaging (regression). \n",
        "\n",
        "Bagging classifier helps in reducing the variance of individual estimators by introducing randomisation into the training stage of each of the estimators and making an ensemble out of all the estimators. \n",
        "\n",
        "Lets first check this using **simple Decision Tree** to build this model"
      ]
    },
    {
      "cell_type": "code",
      "metadata": {
        "id": "xRxMx_R4YVUQ"
      },
      "source": [
        "# import StandardScaler, DecisionTreeClassifier and make_pipeline\n",
        "\n"
      ],
      "execution_count": null,
      "outputs": []
    },
    {
      "cell_type": "markdown",
      "metadata": {
        "id": "gmW_REUfYVUR"
      },
      "source": [
        "Make a pipeline Estimator to standardize X and use DecisionTreeClassifier with random_state=1 as model. \n",
        "\n",
        "Reference: https://youtu.be/Bui97ZbNED8"
      ]
    },
    {
      "cell_type": "code",
      "metadata": {
        "id": "DCTTH0hUYVUS",
        "outputId": "38c04a1c-c62c-4cf9-cd9f-88873570ba1b"
      },
      "source": [
        "## Pipeline Estimator \n",
        "pipeline = \n",
        "\n",
        "\n",
        "# fit model on training data\n",
        "\n",
        "\n"
      ],
      "execution_count": null,
      "outputs": [
        {
          "data": {
            "text/plain": [
              "Pipeline(steps=[('standardscaler', StandardScaler()),\n",
              "                ('decisiontreeclassifier',\n",
              "                 DecisionTreeClassifier(random_state=1))])"
            ]
          },
          "execution_count": 7,
          "metadata": {},
          "output_type": "execute_result"
        }
      ]
    },
    {
      "cell_type": "code",
      "metadata": {
        "id": "5O2lChM8YVUT",
        "outputId": "1658c70d-0d44-48c0-82c1-c85d2edd6735"
      },
      "source": [
        "# Model scores on test and training data\n",
        "\n"
      ],
      "execution_count": null,
      "outputs": [
        {
          "name": "stdout",
          "output_type": "stream",
          "text": [
            "Model test Score: 0.728,  Model training Score: 1.000\n"
          ]
        }
      ]
    },
    {
      "cell_type": "markdown",
      "metadata": {
        "id": "DI4ux9XuYVUU"
      },
      "source": [
        "The model comes up with the above scores. Note that the model tends to overfit the data as the test score is 0.72 and training score is 1.00.\n",
        "\n",
        "Here naturally reducing this overfitting issue is required. Lets do this using various bagging methods\n",
        "\n",
        "#### 1. Bagging classifier: an ensemble meta-estimator\n",
        "\n",
        "Reference doc link: https://scikit-learn.org/stable/modules/generated/sklearn.ensemble.BaggingClassifier.html\n",
        "\n",
        "Reference YouTube link: https://youtu.be/69vSVnByBNI\n",
        "\n",
        "We will fit a bagging classifier using default hyperparameters and base estimator as pipeline built using Decision Tree Classifier. Note that you can further perform a Grid Search or Randomized search to get the most appropriate estimator."
      ]
    },
    {
      "cell_type": "code",
      "metadata": {
        "id": "ryxb3tFwYVUU",
        "outputId": "7ce45b13-b6b1-429e-8908-638f27e243a4"
      },
      "source": [
        "# import BaggingClassifier\n",
        "\n",
        "\n",
        "# Instantiate the bagging classifier\n",
        "bgclassifier = \n",
        "\n",
        "\n",
        "#fitting above model on training data\n",
        "\n",
        "\n",
        "## Model scores on test and training data\n",
        "\n",
        "\n"
      ],
      "execution_count": null,
      "outputs": [
        {
          "name": "stdout",
          "output_type": "stream",
          "text": [
            "Model test Score: 0.811,  Model training Score: 0.981\n"
          ]
        }
      ]
    },
    {
      "cell_type": "markdown",
      "metadata": {
        "id": "STK-HBsqYVUV"
      },
      "source": [
        "The model comes up with the following scores. Note that the model tends to overfit the data as the test score is 0.81 and training score is 0.98. However, the model will give better generalization performance than the model fit with Descision Tree alone.\n",
        "\n",
        "Note: You can use any algorithm with bagging classifier \n",
        "\n",
        "#### Tuning BaggingClassifier\n",
        "<p style='text-align: right;'> 5 points</p>\n",
        "\n",
        "We will further perform a Grid Search or Randomized search to get the most appropriate estimator.\n",
        "\n",
        "I would like to use GridSearchCV to find the best parameters for both BaggingClassifier and DecisionTreeClassifier (e.g. max_depth from DecisionTreeClassifier and max_samples & max_features from BaggingClassifier), what is the syntax for this?\n",
        "\n",
        "\n"
      ]
    },
    {
      "cell_type": "code",
      "metadata": {
        "id": "3mEz9S6TYVUW",
        "outputId": "e51b062e-14bf-434f-ba68-bafc2f0ac23f"
      },
      "source": [
        "# import GridSearchCV\n",
        "\n",
        "\n",
        "\n",
        "'''A dictionary with base_estimator__max_depth from 1 to 20 with step size as 5\n",
        "A max_samples with [0.05, 0.1, 0.2, 0.5] and max_features form 1 to 20 with step size as 5'''\n",
        "\n",
        "\n",
        "param_grid =\n",
        "\n",
        "# Instantiate gridsearch with BaggingClassifier with base estimator DecisionTreeClassifier\n",
        "gs = \n",
        "\n",
        "#fit grid search on training data\n"
      ],
      "execution_count": null,
      "outputs": [
        {
          "data": {
            "text/plain": [
              "GridSearchCV(estimator=BaggingClassifier(base_estimator=DecisionTreeClassifier()),\n",
              "             param_grid={'base_estimator__max_depth': [1, 5, 10, 15, 20],\n",
              "                         'max_features': [1, 5, 10, 15, 20],\n",
              "                         'max_samples': [0.05, 0.1, 0.2, 0.5]},\n",
              "             scoring='accuracy')"
            ]
          },
          "execution_count": 10,
          "metadata": {},
          "output_type": "execute_result"
        }
      ]
    },
    {
      "cell_type": "code",
      "metadata": {
        "id": "vO7gYnBrYVUX",
        "outputId": "4f3652ef-3ac0-425c-aa76-7a5b167a0758"
      },
      "source": [
        "# print best paramaters selected by gridsearch\n",
        "\n",
        "\n",
        "#print mean accuracy score on final tuned  BaggingClassifier\n",
        "\n"
      ],
      "execution_count": null,
      "outputs": [
        {
          "name": "stdout",
          "output_type": "stream",
          "text": [
            "Optimal hyperparameter combination: {'base_estimator__max_depth': 5, 'max_features': 20, 'max_samples': 0.5}\n",
            "Mean cross-validated training accuracy score: 0.8178095238095239\n"
          ]
        }
      ]
    },
    {
      "cell_type": "markdown",
      "metadata": {
        "id": "isS2IogMYVUY"
      },
      "source": [
        "Check our BaggingClassifier again on optimized parameters"
      ]
    },
    {
      "cell_type": "code",
      "metadata": {
        "id": "3EumPHoXYVUY",
        "outputId": "3837eec0-6a75-404d-833e-34d6a816876d"
      },
      "source": [
        "# Instantiate the bagging classifier with optimized parameter by grid search\n",
        "bgclassifier =\n",
        "\n",
        "\n",
        "#fitting above model on training data\n",
        "\n",
        "\n",
        "## Model scores on test and training data\n",
        "\n",
        "\n"
      ],
      "execution_count": null,
      "outputs": [
        {
          "name": "stdout",
          "output_type": "stream",
          "text": [
            "Model test Score: 0.828,  Model training Score: 0.824\n"
          ]
        }
      ]
    },
    {
      "cell_type": "markdown",
      "metadata": {
        "id": "_f_jniy0YVUZ"
      },
      "source": [
        "Wohooo! did you observe that we have succesfully eliminated problem of overfitting using bagging method and hyperparameter tuning it."
      ]
    },
    {
      "cell_type": "markdown",
      "metadata": {
        "id": "4GK2mKxkYVUa"
      },
      "source": [
        "\n",
        "#### 2. RandomForest Classifier\n",
        "\n",
        "<p style='text-align: right;'> 20 points</p>\n",
        "\n",
        "\n",
        "Reference doc: https://scikit-learn.org/stable/modules/generated/sklearn.ensemble.RandomForestClassifier.html\n",
        "\n",
        "Reference video: https://www.youtube.com/watch?v=nxFG5xdpDto\n",
        "\n",
        "Now lets check RandomForest algorithm for doing bagging.\n",
        "\n",
        "\n",
        "Random forest, like its name implies, consists of a large number of individual decision trees that operate as an ensemble. Each individual tree in the random forest spits out a class prediction and the class with the most votes becomes our model’s prediction (see figure below).\n",
        "\n",
        "![image.png](attachment:image.png)\n",
        "\n",
        "\n",
        "Random forest is an extension of bagging that also randomly selects subsets of features used in each data sample."
      ]
    },
    {
      "cell_type": "code",
      "metadata": {
        "id": "scdP2sCBYVUa",
        "outputId": "8e3e886e-fe18-4852-bf2b-6bf156b52af7"
      },
      "source": [
        "# Importing random forest classifier from sklearn library\n",
        "\n",
        "# Running the random forest with default parameters.\n",
        "rfc =\n",
        "\n",
        "# fit model on training data\n"
      ],
      "execution_count": null,
      "outputs": [
        {
          "data": {
            "text/plain": [
              "RandomForestClassifier()"
            ]
          },
          "execution_count": 13,
          "metadata": {},
          "output_type": "execute_result"
        }
      ]
    },
    {
      "cell_type": "code",
      "metadata": {
        "id": "BGjIm8qoYVUb"
      },
      "source": [
        "# Making predictions\n",
        "predictions ="
      ],
      "execution_count": null,
      "outputs": []
    },
    {
      "cell_type": "code",
      "metadata": {
        "id": "Q3U1Q796YVUc",
        "outputId": "0325f139-a957-4d41-9168-a5a3619d8792"
      },
      "source": [
        "# Importing classification report and confusion matrix from sklearn metrics\n",
        "\n",
        "\n",
        "# Let's check the report of our default model\n",
        "\n"
      ],
      "execution_count": null,
      "outputs": [
        {
          "name": "stdout",
          "output_type": "stream",
          "text": [
            "              precision    recall  f1-score   support\n",
            "\n",
            "           0       0.84      0.95      0.89      7058\n",
            "           1       0.65      0.36      0.46      1942\n",
            "\n",
            "    accuracy                           0.82      9000\n",
            "   macro avg       0.75      0.65      0.68      9000\n",
            "weighted avg       0.80      0.82      0.80      9000\n",
            "\n"
          ]
        }
      ]
    },
    {
      "cell_type": "code",
      "metadata": {
        "id": "cg7wjrAoYVUc",
        "outputId": "a2d589f8-dbb2-45cd-dbf3-ca6d0ef518c6"
      },
      "source": [
        "# Printing confusion matrix\n",
        "\n",
        "\n",
        "#Printing accuracy\n",
        "\n",
        "\n"
      ],
      "execution_count": null,
      "outputs": [
        {
          "name": "stdout",
          "output_type": "stream",
          "text": [
            "[[6680  378]\n",
            " [1240  702]]\n",
            "0.8202222222222222\n"
          ]
        }
      ]
    },
    {
      "cell_type": "markdown",
      "metadata": {
        "id": "bnT1KpREYVUd"
      },
      "source": [
        "So far so good, let's now look at the list of hyperparameters which we can tune to improve model performance."
      ]
    },
    {
      "cell_type": "markdown",
      "metadata": {
        "id": "jpXxq8bBYVUd"
      },
      "source": [
        "#### Hyperparameter Tuning RF\n",
        "\n",
        "<p style='text-align: right;'> 10 points</p>\n",
        "\n",
        "The following hyperparameters are present in a random forest classifier. Note that most of these hypereparameters are actually of the decision trees that are in the forest.\n",
        "\n",
        "\n",
        "- **n_estimators**: integer, optional (default=10): The number of trees in the forest.\n",
        "- **criterion**: string, optional (default=”gini”)The function to measure the quality of a split. Supported criteria are “gini” for the Gini impurity and “entropy” for the information gain. Note: this parameter is tree-specific.\n",
        "- **max_features** : int, float, string or None, optional (default=”auto”)The number of features to consider when looking for the best split:\n",
        "    - If int, then consider max_features features at each split.\n",
        "    - If float, then max_features is a percentage and int(max_features * n_features) features are considered at each split.\n",
        "    - If “auto”, then max_features=sqrt(n_features).\n",
        "    - If “sqrt”, then max_features=sqrt(n_features) (same as “auto”).\n",
        "    - If “log2”, then max_features=log2(n_features).\n",
        "    - If None, then max_features=n_features.\n",
        "    - Note: the search for a split does not stop until at least one valid partition of the node samples is found, even if it requires to effectively inspect more than max_features features.\n",
        "- **max_depth** : integer or None, optional (default=None)The maximum depth of the tree. If None, then nodes are expanded until all leaves are pure or until all leaves contain less than min_samples_split samples.\n",
        "- **min_samples_split** : int, float, optional (default=2)The minimum number of samples required to split an internal node:**\n",
        "    - **If int, then consider min_samples_split as the minimum number.\n",
        "    - **If float, then min_samples_split is a percentage and ceil(min_samples_split, n_samples) are the minimum number of samples for each split.\n",
        "- **min_samples_leaf** : int, float, optional (default=1)The minimum number of samples required to be at a leaf node:**\n",
        "    - **If int, then consider min_samples_leaf as the minimum number.**\n",
        "    - **If float, then min_samples_leaf is a percentage and ceil(min_samples_leaf * n_samples) are the minimum number of samples for each node.**\n",
        "- **min_weight_fraction_leaf** : float, optional (default=0.)The minimum weighted fraction of the sum total of weights (of all the input samples) required to be at a leaf node. Samples have equal weight when sample_weight is not provided.\n",
        "- **max_leaf_nodes** : int or None, optional (default=None)Grow trees with max_leaf_nodes in best-first fashion. Best nodes are defined as relative reduction in impurity. If None then unlimited number of leaf nodes.\n",
        "- **min_impurity_split** : float,Threshold for early stopping in tree growth. A node will split if its impurity is above the threshold, otherwise it is a leaf.\n",
        "\n",
        "\n",
        "### Tuning max_depth\n",
        "\n",
        "\n",
        "Let's try to find the optimum values for ```max_depth``` and understand how the value of max_depth impacts the overall accuracy of the ensemble.\n"
      ]
    },
    {
      "cell_type": "code",
      "metadata": {
        "id": "imqai5LbYVUe",
        "outputId": "df8d06b5-223a-47b9-fde1-33f089279c16"
      },
      "source": [
        "# import Kfold \n",
        "\n",
        "\n",
        "# specify number of folds for k-fold CV which is 5\n",
        "n_folds = \n",
        "\n",
        "# parameters to build the model on here max_depth with range(2, 20, 5)\n",
        "parameters = \n",
        "\n",
        "# instantiate the model\n",
        "rf = \n",
        "\n",
        "\n",
        "# Instantiate GridSearchCVwith rf, parameter, cv and scoring as accuracy and return_train_score=True\n",
        "rf = \n",
        "\n",
        "# fit tree on training data\n",
        "\n"
      ],
      "execution_count": null,
      "outputs": [
        {
          "data": {
            "text/plain": [
              "GridSearchCV(cv=5, estimator=RandomForestClassifier(),\n",
              "             param_grid={'max_depth': range(2, 20, 5)}, return_train_score=True,\n",
              "             scoring='accuracy')"
            ]
          },
          "execution_count": 17,
          "metadata": {},
          "output_type": "execute_result"
        }
      ]
    },
    {
      "cell_type": "code",
      "metadata": {
        "id": "SMrPd_VnYVUf",
        "outputId": "7a5cfde3-d894-4816-b76a-4bcfae5900db"
      },
      "source": [
        "# scores of GridSearch CV\n",
        "\n"
      ],
      "execution_count": null,
      "outputs": [
        {
          "data": {
            "text/html": [
              "<div>\n",
              "<style scoped>\n",
              "    .dataframe tbody tr th:only-of-type {\n",
              "        vertical-align: middle;\n",
              "    }\n",
              "\n",
              "    .dataframe tbody tr th {\n",
              "        vertical-align: top;\n",
              "    }\n",
              "\n",
              "    .dataframe thead th {\n",
              "        text-align: right;\n",
              "    }\n",
              "</style>\n",
              "<table border=\"1\" class=\"dataframe\">\n",
              "  <thead>\n",
              "    <tr style=\"text-align: right;\">\n",
              "      <th></th>\n",
              "      <th>mean_fit_time</th>\n",
              "      <th>std_fit_time</th>\n",
              "      <th>mean_score_time</th>\n",
              "      <th>std_score_time</th>\n",
              "      <th>param_max_depth</th>\n",
              "      <th>params</th>\n",
              "      <th>split0_test_score</th>\n",
              "      <th>split1_test_score</th>\n",
              "      <th>split2_test_score</th>\n",
              "      <th>split3_test_score</th>\n",
              "      <th>...</th>\n",
              "      <th>mean_test_score</th>\n",
              "      <th>std_test_score</th>\n",
              "      <th>rank_test_score</th>\n",
              "      <th>split0_train_score</th>\n",
              "      <th>split1_train_score</th>\n",
              "      <th>split2_train_score</th>\n",
              "      <th>split3_train_score</th>\n",
              "      <th>split4_train_score</th>\n",
              "      <th>mean_train_score</th>\n",
              "      <th>std_train_score</th>\n",
              "    </tr>\n",
              "  </thead>\n",
              "  <tbody>\n",
              "    <tr>\n",
              "      <th>0</th>\n",
              "      <td>1.067360</td>\n",
              "      <td>0.015881</td>\n",
              "      <td>0.040307</td>\n",
              "      <td>0.001007</td>\n",
              "      <td>2</td>\n",
              "      <td>{'max_depth': 2}</td>\n",
              "      <td>0.797381</td>\n",
              "      <td>0.799048</td>\n",
              "      <td>0.802381</td>\n",
              "      <td>0.795000</td>\n",
              "      <td>...</td>\n",
              "      <td>0.798190</td>\n",
              "      <td>0.002459</td>\n",
              "      <td>4</td>\n",
              "      <td>0.799464</td>\n",
              "      <td>0.795119</td>\n",
              "      <td>0.797798</td>\n",
              "      <td>0.801488</td>\n",
              "      <td>0.800119</td>\n",
              "      <td>0.798798</td>\n",
              "      <td>0.002189</td>\n",
              "    </tr>\n",
              "    <tr>\n",
              "      <th>1</th>\n",
              "      <td>2.650389</td>\n",
              "      <td>0.041688</td>\n",
              "      <td>0.061230</td>\n",
              "      <td>0.001193</td>\n",
              "      <td>7</td>\n",
              "      <td>{'max_depth': 7}</td>\n",
              "      <td>0.815000</td>\n",
              "      <td>0.822381</td>\n",
              "      <td>0.819048</td>\n",
              "      <td>0.815000</td>\n",
              "      <td>...</td>\n",
              "      <td>0.818000</td>\n",
              "      <td>0.002779</td>\n",
              "      <td>1</td>\n",
              "      <td>0.830060</td>\n",
              "      <td>0.831667</td>\n",
              "      <td>0.833274</td>\n",
              "      <td>0.834464</td>\n",
              "      <td>0.833631</td>\n",
              "      <td>0.832619</td>\n",
              "      <td>0.001569</td>\n",
              "    </tr>\n",
              "    <tr>\n",
              "      <th>2</th>\n",
              "      <td>4.110802</td>\n",
              "      <td>0.074241</td>\n",
              "      <td>0.092553</td>\n",
              "      <td>0.003699</td>\n",
              "      <td>12</td>\n",
              "      <td>{'max_depth': 12}</td>\n",
              "      <td>0.814524</td>\n",
              "      <td>0.821429</td>\n",
              "      <td>0.820952</td>\n",
              "      <td>0.813810</td>\n",
              "      <td>...</td>\n",
              "      <td>0.817286</td>\n",
              "      <td>0.003249</td>\n",
              "      <td>2</td>\n",
              "      <td>0.884524</td>\n",
              "      <td>0.886250</td>\n",
              "      <td>0.882857</td>\n",
              "      <td>0.887500</td>\n",
              "      <td>0.886250</td>\n",
              "      <td>0.885476</td>\n",
              "      <td>0.001616</td>\n",
              "    </tr>\n",
              "    <tr>\n",
              "      <th>3</th>\n",
              "      <td>5.228084</td>\n",
              "      <td>0.095887</td>\n",
              "      <td>0.122672</td>\n",
              "      <td>0.007798</td>\n",
              "      <td>17</td>\n",
              "      <td>{'max_depth': 17}</td>\n",
              "      <td>0.816429</td>\n",
              "      <td>0.815476</td>\n",
              "      <td>0.820476</td>\n",
              "      <td>0.809286</td>\n",
              "      <td>...</td>\n",
              "      <td>0.815524</td>\n",
              "      <td>0.003590</td>\n",
              "      <td>3</td>\n",
              "      <td>0.927500</td>\n",
              "      <td>0.930298</td>\n",
              "      <td>0.930655</td>\n",
              "      <td>0.931071</td>\n",
              "      <td>0.928631</td>\n",
              "      <td>0.929631</td>\n",
              "      <td>0.001350</td>\n",
              "    </tr>\n",
              "  </tbody>\n",
              "</table>\n",
              "<p>4 rows × 21 columns</p>\n",
              "</div>"
            ],
            "text/plain": [
              "   mean_fit_time  std_fit_time  mean_score_time  std_score_time  \\\n",
              "0       1.067360      0.015881         0.040307        0.001007   \n",
              "1       2.650389      0.041688         0.061230        0.001193   \n",
              "2       4.110802      0.074241         0.092553        0.003699   \n",
              "3       5.228084      0.095887         0.122672        0.007798   \n",
              "\n",
              "  param_max_depth             params  split0_test_score  split1_test_score  \\\n",
              "0               2   {'max_depth': 2}           0.797381           0.799048   \n",
              "1               7   {'max_depth': 7}           0.815000           0.822381   \n",
              "2              12  {'max_depth': 12}           0.814524           0.821429   \n",
              "3              17  {'max_depth': 17}           0.816429           0.815476   \n",
              "\n",
              "   split2_test_score  split3_test_score  ...  mean_test_score  std_test_score  \\\n",
              "0           0.802381           0.795000  ...         0.798190        0.002459   \n",
              "1           0.819048           0.815000  ...         0.818000        0.002779   \n",
              "2           0.820952           0.813810  ...         0.817286        0.003249   \n",
              "3           0.820476           0.809286  ...         0.815524        0.003590   \n",
              "\n",
              "   rank_test_score  split0_train_score  split1_train_score  \\\n",
              "0                4            0.799464            0.795119   \n",
              "1                1            0.830060            0.831667   \n",
              "2                2            0.884524            0.886250   \n",
              "3                3            0.927500            0.930298   \n",
              "\n",
              "   split2_train_score  split3_train_score  split4_train_score  \\\n",
              "0            0.797798            0.801488            0.800119   \n",
              "1            0.833274            0.834464            0.833631   \n",
              "2            0.882857            0.887500            0.886250   \n",
              "3            0.930655            0.931071            0.928631   \n",
              "\n",
              "   mean_train_score  std_train_score  \n",
              "0          0.798798         0.002189  \n",
              "1          0.832619         0.001569  \n",
              "2          0.885476         0.001616  \n",
              "3          0.929631         0.001350  \n",
              "\n",
              "[4 rows x 21 columns]"
            ]
          },
          "execution_count": 18,
          "metadata": {},
          "output_type": "execute_result"
        }
      ]
    },
    {
      "cell_type": "code",
      "metadata": {
        "id": "eu_dhZ-xYVUg",
        "outputId": "bf76f91d-c706-4c3e-c76e-8d855597064f"
      },
      "source": [
        "# plotting accuracies with max_depth\n",
        "\n",
        "\n",
        "\n",
        "\n",
        "\n"
      ],
      "execution_count": null,
      "outputs": [
        {
          "data": {
            "image/png": "[encoded data removed]",
            "text/plain": [
              "<Figure size 432x288 with 1 Axes>"
            ]
          },
          "metadata": {
            "needs_background": "light"
          },
          "output_type": "display_data"
        }
      ]
    },
    {
      "cell_type": "markdown",
      "metadata": {
        "id": "KyB5IhOKYVUg"
      },
      "source": [
        "You can see that as we increase the value of max_depth, both train and test scores increase till a point, but after that test score starts to decrease. The ensemble tries to overfit as we increase the max_depth.\n",
        "\n",
        "Thus, controlling the depth of the constituent trees will help reduce overfitting in the forest."
      ]
    },
    {
      "cell_type": "markdown",
      "metadata": {
        "id": "lzNa8lj3YVUh"
      },
      "source": [
        "Let's try to find the optimum values for n_estimators and understand how the value of n_estimators impacts the overall accuracy. Notice that we'll specify an appropriately low value of max_depth, so that the trees do not overfit.\n",
        "<br>\n",
        "\n",
        "### Tuning n_estimators\n",
        "Let's try to find the optimum values for n_estimators and understand how the value of n_estimators impacts the overall accuracy. Notice that we'll specify an appropriately low value of max_depth, so that the trees do not overfit.\n",
        "<br>\n"
      ]
    },
    {
      "cell_type": "code",
      "metadata": {
        "id": "NrEYEX_fYVUh",
        "outputId": "0139cc80-0f8c-4f2b-93a6-4cab405060a3"
      },
      "source": [
        "\n",
        "# parameters to build the model on (here n_estimators with range(100, 1500, 400))\n",
        "parameters = \n",
        "\n",
        "# instantiate the model (note we are specifying a max_depth as 4)\n",
        "rf =\n",
        "\n",
        "\n",
        "# Instantiate GridSearchCVwith rf, parameter, cv and scoring as accuracy and return_train_score as True\n",
        "rf = \n",
        "\n",
        "# fit tree on training data\n",
        "\n"
      ],
      "execution_count": null,
      "outputs": [
        {
          "data": {
            "text/plain": [
              "GridSearchCV(cv=5, estimator=RandomForestClassifier(max_depth=4),\n",
              "             param_grid={'n_estimators': range(100, 1500, 400)},\n",
              "             return_train_score=True, scoring='accuracy')"
            ]
          },
          "execution_count": 20,
          "metadata": {},
          "output_type": "execute_result"
        }
      ]
    },
    {
      "cell_type": "code",
      "metadata": {
        "id": "SgrEvS-pYVUi",
        "outputId": "13daf4f2-e5e7-44f6-d1c4-2b4906f50579"
      },
      "source": [
        "# scores of GridSearch CV\n",
        "\n",
        "\n"
      ],
      "execution_count": null,
      "outputs": [
        {
          "data": {
            "text/html": [
              "<div>\n",
              "<style scoped>\n",
              "    .dataframe tbody tr th:only-of-type {\n",
              "        vertical-align: middle;\n",
              "    }\n",
              "\n",
              "    .dataframe tbody tr th {\n",
              "        vertical-align: top;\n",
              "    }\n",
              "\n",
              "    .dataframe thead th {\n",
              "        text-align: right;\n",
              "    }\n",
              "</style>\n",
              "<table border=\"1\" class=\"dataframe\">\n",
              "  <thead>\n",
              "    <tr style=\"text-align: right;\">\n",
              "      <th></th>\n",
              "      <th>mean_fit_time</th>\n",
              "      <th>std_fit_time</th>\n",
              "      <th>mean_score_time</th>\n",
              "      <th>std_score_time</th>\n",
              "      <th>param_n_estimators</th>\n",
              "      <th>params</th>\n",
              "      <th>split0_test_score</th>\n",
              "      <th>split1_test_score</th>\n",
              "      <th>split2_test_score</th>\n",
              "      <th>split3_test_score</th>\n",
              "      <th>...</th>\n",
              "      <th>mean_test_score</th>\n",
              "      <th>std_test_score</th>\n",
              "      <th>rank_test_score</th>\n",
              "      <th>split0_train_score</th>\n",
              "      <th>split1_train_score</th>\n",
              "      <th>split2_train_score</th>\n",
              "      <th>split3_train_score</th>\n",
              "      <th>split4_train_score</th>\n",
              "      <th>mean_train_score</th>\n",
              "      <th>std_train_score</th>\n",
              "    </tr>\n",
              "  </thead>\n",
              "  <tbody>\n",
              "    <tr>\n",
              "      <th>0</th>\n",
              "      <td>1.728867</td>\n",
              "      <td>0.043904</td>\n",
              "      <td>0.051649</td>\n",
              "      <td>0.009117</td>\n",
              "      <td>100</td>\n",
              "      <td>{'n_estimators': 100}</td>\n",
              "      <td>0.810714</td>\n",
              "      <td>0.812857</td>\n",
              "      <td>0.811905</td>\n",
              "      <td>0.806429</td>\n",
              "      <td>...</td>\n",
              "      <td>0.809381</td>\n",
              "      <td>0.003103</td>\n",
              "      <td>4</td>\n",
              "      <td>0.811071</td>\n",
              "      <td>0.809821</td>\n",
              "      <td>0.813869</td>\n",
              "      <td>0.812381</td>\n",
              "      <td>0.808512</td>\n",
              "      <td>0.811131</td>\n",
              "      <td>0.001878</td>\n",
              "    </tr>\n",
              "    <tr>\n",
              "      <th>1</th>\n",
              "      <td>8.715177</td>\n",
              "      <td>0.223517</td>\n",
              "      <td>0.225321</td>\n",
              "      <td>0.006793</td>\n",
              "      <td>500</td>\n",
              "      <td>{'n_estimators': 500}</td>\n",
              "      <td>0.811190</td>\n",
              "      <td>0.814048</td>\n",
              "      <td>0.810238</td>\n",
              "      <td>0.805238</td>\n",
              "      <td>...</td>\n",
              "      <td>0.809714</td>\n",
              "      <td>0.002991</td>\n",
              "      <td>2</td>\n",
              "      <td>0.811310</td>\n",
              "      <td>0.810357</td>\n",
              "      <td>0.811369</td>\n",
              "      <td>0.812202</td>\n",
              "      <td>0.812857</td>\n",
              "      <td>0.811619</td>\n",
              "      <td>0.000851</td>\n",
              "    </tr>\n",
              "    <tr>\n",
              "      <th>2</th>\n",
              "      <td>15.849951</td>\n",
              "      <td>0.157725</td>\n",
              "      <td>0.426156</td>\n",
              "      <td>0.028329</td>\n",
              "      <td>900</td>\n",
              "      <td>{'n_estimators': 900}</td>\n",
              "      <td>0.812143</td>\n",
              "      <td>0.814524</td>\n",
              "      <td>0.810714</td>\n",
              "      <td>0.805000</td>\n",
              "      <td>...</td>\n",
              "      <td>0.810000</td>\n",
              "      <td>0.003354</td>\n",
              "      <td>1</td>\n",
              "      <td>0.810952</td>\n",
              "      <td>0.810417</td>\n",
              "      <td>0.811607</td>\n",
              "      <td>0.812738</td>\n",
              "      <td>0.812857</td>\n",
              "      <td>0.811714</td>\n",
              "      <td>0.000962</td>\n",
              "    </tr>\n",
              "    <tr>\n",
              "      <th>3</th>\n",
              "      <td>22.285220</td>\n",
              "      <td>0.635283</td>\n",
              "      <td>0.598702</td>\n",
              "      <td>0.053427</td>\n",
              "      <td>1300</td>\n",
              "      <td>{'n_estimators': 1300}</td>\n",
              "      <td>0.811429</td>\n",
              "      <td>0.814048</td>\n",
              "      <td>0.811429</td>\n",
              "      <td>0.805238</td>\n",
              "      <td>...</td>\n",
              "      <td>0.809714</td>\n",
              "      <td>0.003331</td>\n",
              "      <td>2</td>\n",
              "      <td>0.811429</td>\n",
              "      <td>0.810238</td>\n",
              "      <td>0.811488</td>\n",
              "      <td>0.812679</td>\n",
              "      <td>0.812262</td>\n",
              "      <td>0.811619</td>\n",
              "      <td>0.000836</td>\n",
              "    </tr>\n",
              "  </tbody>\n",
              "</table>\n",
              "<p>4 rows × 21 columns</p>\n",
              "</div>"
            ],
            "text/plain": [
              "   mean_fit_time  std_fit_time  mean_score_time  std_score_time  \\\n",
              "0       1.728867      0.043904         0.051649        0.009117   \n",
              "1       8.715177      0.223517         0.225321        0.006793   \n",
              "2      15.849951      0.157725         0.426156        0.028329   \n",
              "3      22.285220      0.635283         0.598702        0.053427   \n",
              "\n",
              "  param_n_estimators                  params  split0_test_score  \\\n",
              "0                100   {'n_estimators': 100}           0.810714   \n",
              "1                500   {'n_estimators': 500}           0.811190   \n",
              "2                900   {'n_estimators': 900}           0.812143   \n",
              "3               1300  {'n_estimators': 1300}           0.811429   \n",
              "\n",
              "   split1_test_score  split2_test_score  split3_test_score  ...  \\\n",
              "0           0.812857           0.811905           0.806429  ...   \n",
              "1           0.814048           0.810238           0.805238  ...   \n",
              "2           0.814524           0.810714           0.805000  ...   \n",
              "3           0.814048           0.811429           0.805238  ...   \n",
              "\n",
              "   mean_test_score  std_test_score  rank_test_score  split0_train_score  \\\n",
              "0         0.809381        0.003103                4            0.811071   \n",
              "1         0.809714        0.002991                2            0.811310   \n",
              "2         0.810000        0.003354                1            0.810952   \n",
              "3         0.809714        0.003331                2            0.811429   \n",
              "\n",
              "   split1_train_score  split2_train_score  split3_train_score  \\\n",
              "0            0.809821            0.813869            0.812381   \n",
              "1            0.810357            0.811369            0.812202   \n",
              "2            0.810417            0.811607            0.812738   \n",
              "3            0.810238            0.811488            0.812679   \n",
              "\n",
              "   split4_train_score  mean_train_score  std_train_score  \n",
              "0            0.808512          0.811131         0.001878  \n",
              "1            0.812857          0.811619         0.000851  \n",
              "2            0.812857          0.811714         0.000962  \n",
              "3            0.812262          0.811619         0.000836  \n",
              "\n",
              "[4 rows x 21 columns]"
            ]
          },
          "execution_count": 21,
          "metadata": {},
          "output_type": "execute_result"
        }
      ]
    },
    {
      "cell_type": "code",
      "metadata": {
        "id": "djm3jE7BYVUi",
        "outputId": "2a3afac4-b9d6-47e1-f4aa-54a21612f7f0"
      },
      "source": [
        "# plotting accuracies with n_estimators\n",
        "\n",
        "\n",
        "\n",
        "\n",
        "\n",
        "\n"
      ],
      "execution_count": null,
      "outputs": [
        {
          "data": {
            "image/png": "[encoded data removed]",
            "text/plain": [
              "<Figure size 432x288 with 1 Axes>"
            ]
          },
          "metadata": {
            "needs_background": "light"
          },
          "output_type": "display_data"
        }
      ]
    },
    {
      "cell_type": "markdown",
      "metadata": {
        "id": "4Xsq-xGaYVUj"
      },
      "source": [
        "### Tuning max_features\n",
        "\n",
        "Let's see how the model performance varies with ```max_features```, which is the maximum numbre of features considered for splitting at a node."
      ]
    },
    {
      "cell_type": "code",
      "metadata": {
        "id": "vseRtWiUYVUj",
        "outputId": "e1493c3d-0444-43c5-9c19-53e43d182098"
      },
      "source": [
        "\n",
        "# parameters to build the model on max_features with [4, 8, 14, 20, 24]\n",
        "parameters =\n",
        "\n",
        "# instantiate the model (note we are specifying a max_depth as 4)\n",
        "rf = \n",
        "\n",
        "# Instantiate GridSearchCVwith rf, parameter, cv and scoring as accuracy and return_train_score as True\n",
        "rf = \n",
        "\n",
        "# fit tree on training data\n",
        "\n"
      ],
      "execution_count": null,
      "outputs": [
        {
          "data": {
            "text/plain": [
              "GridSearchCV(cv=5, estimator=RandomForestClassifier(max_depth=4),\n",
              "             param_grid={'max_features': [4, 8, 14, 20, 24]},\n",
              "             return_train_score=True, scoring='accuracy')"
            ]
          },
          "execution_count": 23,
          "metadata": {},
          "output_type": "execute_result"
        }
      ]
    },
    {
      "cell_type": "code",
      "metadata": {
        "id": "56D2YcR6YVUj",
        "outputId": "b3225a97-b2c6-492e-e880-86311388b82a"
      },
      "source": [
        "# scores of GridSearch CV\n",
        "\n",
        "\n"
      ],
      "execution_count": null,
      "outputs": [
        {
          "data": {
            "text/html": [
              "<div>\n",
              "<style scoped>\n",
              "    .dataframe tbody tr th:only-of-type {\n",
              "        vertical-align: middle;\n",
              "    }\n",
              "\n",
              "    .dataframe tbody tr th {\n",
              "        vertical-align: top;\n",
              "    }\n",
              "\n",
              "    .dataframe thead th {\n",
              "        text-align: right;\n",
              "    }\n",
              "</style>\n",
              "<table border=\"1\" class=\"dataframe\">\n",
              "  <thead>\n",
              "    <tr style=\"text-align: right;\">\n",
              "      <th></th>\n",
              "      <th>mean_fit_time</th>\n",
              "      <th>std_fit_time</th>\n",
              "      <th>mean_score_time</th>\n",
              "      <th>std_score_time</th>\n",
              "      <th>param_max_features</th>\n",
              "      <th>params</th>\n",
              "      <th>split0_test_score</th>\n",
              "      <th>split1_test_score</th>\n",
              "      <th>split2_test_score</th>\n",
              "      <th>split3_test_score</th>\n",
              "      <th>...</th>\n",
              "      <th>mean_test_score</th>\n",
              "      <th>std_test_score</th>\n",
              "      <th>rank_test_score</th>\n",
              "      <th>split0_train_score</th>\n",
              "      <th>split1_train_score</th>\n",
              "      <th>split2_train_score</th>\n",
              "      <th>split3_train_score</th>\n",
              "      <th>split4_train_score</th>\n",
              "      <th>mean_train_score</th>\n",
              "      <th>std_train_score</th>\n",
              "    </tr>\n",
              "  </thead>\n",
              "  <tbody>\n",
              "    <tr>\n",
              "      <th>0</th>\n",
              "      <td>1.667565</td>\n",
              "      <td>0.023712</td>\n",
              "      <td>0.046670</td>\n",
              "      <td>0.000736</td>\n",
              "      <td>4</td>\n",
              "      <td>{'max_features': 4}</td>\n",
              "      <td>0.811667</td>\n",
              "      <td>0.815476</td>\n",
              "      <td>0.810238</td>\n",
              "      <td>0.805476</td>\n",
              "      <td>...</td>\n",
              "      <td>0.810238</td>\n",
              "      <td>0.003340</td>\n",
              "      <td>5</td>\n",
              "      <td>0.811607</td>\n",
              "      <td>0.810893</td>\n",
              "      <td>0.810952</td>\n",
              "      <td>0.812857</td>\n",
              "      <td>0.813452</td>\n",
              "      <td>0.811952</td>\n",
              "      <td>0.001031</td>\n",
              "    </tr>\n",
              "    <tr>\n",
              "      <th>1</th>\n",
              "      <td>2.888293</td>\n",
              "      <td>0.030380</td>\n",
              "      <td>0.046291</td>\n",
              "      <td>0.000505</td>\n",
              "      <td>8</td>\n",
              "      <td>{'max_features': 8}</td>\n",
              "      <td>0.818333</td>\n",
              "      <td>0.821667</td>\n",
              "      <td>0.818571</td>\n",
              "      <td>0.818095</td>\n",
              "      <td>...</td>\n",
              "      <td>0.819048</td>\n",
              "      <td>0.001321</td>\n",
              "      <td>1</td>\n",
              "      <td>0.821964</td>\n",
              "      <td>0.820357</td>\n",
              "      <td>0.820536</td>\n",
              "      <td>0.822024</td>\n",
              "      <td>0.821429</td>\n",
              "      <td>0.821262</td>\n",
              "      <td>0.000700</td>\n",
              "    </tr>\n",
              "    <tr>\n",
              "      <th>2</th>\n",
              "      <td>4.701507</td>\n",
              "      <td>0.026384</td>\n",
              "      <td>0.046291</td>\n",
              "      <td>0.000491</td>\n",
              "      <td>14</td>\n",
              "      <td>{'max_features': 14}</td>\n",
              "      <td>0.817381</td>\n",
              "      <td>0.820476</td>\n",
              "      <td>0.820000</td>\n",
              "      <td>0.816429</td>\n",
              "      <td>...</td>\n",
              "      <td>0.818381</td>\n",
              "      <td>0.001575</td>\n",
              "      <td>4</td>\n",
              "      <td>0.822440</td>\n",
              "      <td>0.821190</td>\n",
              "      <td>0.821548</td>\n",
              "      <td>0.822321</td>\n",
              "      <td>0.821905</td>\n",
              "      <td>0.821881</td>\n",
              "      <td>0.000468</td>\n",
              "    </tr>\n",
              "    <tr>\n",
              "      <th>3</th>\n",
              "      <td>6.893817</td>\n",
              "      <td>0.521474</td>\n",
              "      <td>0.047825</td>\n",
              "      <td>0.003526</td>\n",
              "      <td>20</td>\n",
              "      <td>{'max_features': 20}</td>\n",
              "      <td>0.818333</td>\n",
              "      <td>0.821429</td>\n",
              "      <td>0.819286</td>\n",
              "      <td>0.816190</td>\n",
              "      <td>...</td>\n",
              "      <td>0.818667</td>\n",
              "      <td>0.001708</td>\n",
              "      <td>2</td>\n",
              "      <td>0.822798</td>\n",
              "      <td>0.821250</td>\n",
              "      <td>0.821488</td>\n",
              "      <td>0.822560</td>\n",
              "      <td>0.822798</td>\n",
              "      <td>0.822179</td>\n",
              "      <td>0.000671</td>\n",
              "    </tr>\n",
              "    <tr>\n",
              "      <th>4</th>\n",
              "      <td>7.766992</td>\n",
              "      <td>0.012258</td>\n",
              "      <td>0.045286</td>\n",
              "      <td>0.000498</td>\n",
              "      <td>24</td>\n",
              "      <td>{'max_features': 24}</td>\n",
              "      <td>0.817381</td>\n",
              "      <td>0.821429</td>\n",
              "      <td>0.819048</td>\n",
              "      <td>0.816667</td>\n",
              "      <td>...</td>\n",
              "      <td>0.818429</td>\n",
              "      <td>0.001688</td>\n",
              "      <td>3</td>\n",
              "      <td>0.822857</td>\n",
              "      <td>0.821369</td>\n",
              "      <td>0.821667</td>\n",
              "      <td>0.822917</td>\n",
              "      <td>0.822679</td>\n",
              "      <td>0.822298</td>\n",
              "      <td>0.000648</td>\n",
              "    </tr>\n",
              "  </tbody>\n",
              "</table>\n",
              "<p>5 rows × 21 columns</p>\n",
              "</div>"
            ],
            "text/plain": [
              "   mean_fit_time  std_fit_time  mean_score_time  std_score_time  \\\n",
              "0       1.667565      0.023712         0.046670        0.000736   \n",
              "1       2.888293      0.030380         0.046291        0.000505   \n",
              "2       4.701507      0.026384         0.046291        0.000491   \n",
              "3       6.893817      0.521474         0.047825        0.003526   \n",
              "4       7.766992      0.012258         0.045286        0.000498   \n",
              "\n",
              "  param_max_features                params  split0_test_score  \\\n",
              "0                  4   {'max_features': 4}           0.811667   \n",
              "1                  8   {'max_features': 8}           0.818333   \n",
              "2                 14  {'max_features': 14}           0.817381   \n",
              "3                 20  {'max_features': 20}           0.818333   \n",
              "4                 24  {'max_features': 24}           0.817381   \n",
              "\n",
              "   split1_test_score  split2_test_score  split3_test_score  ...  \\\n",
              "0           0.815476           0.810238           0.805476  ...   \n",
              "1           0.821667           0.818571           0.818095  ...   \n",
              "2           0.820476           0.820000           0.816429  ...   \n",
              "3           0.821429           0.819286           0.816190  ...   \n",
              "4           0.821429           0.819048           0.816667  ...   \n",
              "\n",
              "   mean_test_score  std_test_score  rank_test_score  split0_train_score  \\\n",
              "0         0.810238        0.003340                5            0.811607   \n",
              "1         0.819048        0.001321                1            0.821964   \n",
              "2         0.818381        0.001575                4            0.822440   \n",
              "3         0.818667        0.001708                2            0.822798   \n",
              "4         0.818429        0.001688                3            0.822857   \n",
              "\n",
              "   split1_train_score  split2_train_score  split3_train_score  \\\n",
              "0            0.810893            0.810952            0.812857   \n",
              "1            0.820357            0.820536            0.822024   \n",
              "2            0.821190            0.821548            0.822321   \n",
              "3            0.821250            0.821488            0.822560   \n",
              "4            0.821369            0.821667            0.822917   \n",
              "\n",
              "   split4_train_score  mean_train_score  std_train_score  \n",
              "0            0.813452          0.811952         0.001031  \n",
              "1            0.821429          0.821262         0.000700  \n",
              "2            0.821905          0.821881         0.000468  \n",
              "3            0.822798          0.822179         0.000671  \n",
              "4            0.822679          0.822298         0.000648  \n",
              "\n",
              "[5 rows x 21 columns]"
            ]
          },
          "execution_count": 24,
          "metadata": {},
          "output_type": "execute_result"
        }
      ]
    },
    {
      "cell_type": "code",
      "metadata": {
        "id": "gED0pNplYVUk",
        "outputId": "cdf482a7-7552-4275-d212-f3e4deaecf6c"
      },
      "source": [
        "# plotting accuracies with max_features\n",
        "\n",
        "\n",
        "\n",
        "\n"
      ],
      "execution_count": null,
      "outputs": [
        {
          "data": {
            "image/png": "[encoded data removed]",
            "text/plain": [
              "<Figure size 432x288 with 1 Axes>"
            ]
          },
          "metadata": {
            "needs_background": "light"
          },
          "output_type": "display_data"
        }
      ]
    },
    {
      "cell_type": "markdown",
      "metadata": {
        "id": "Xmn_kOMgYVUk"
      },
      "source": [
        "Apparently, the training and test scores *both* seem to increase as we increase max_features, and the model doesn't seem to overfit more with increasing max_features. Think about why that might be the case.\n",
        "\n",
        "### Tuning min_samples_leaf\n",
        "\n",
        "The hyperparameter **min_samples_leaf** is the minimum number of samples required to be at a leaf node:\n",
        "- If int, then consider min_samples_leaf as the minimum number.\n",
        "- If float, then min_samples_leaf is a percentage and ceil(min_samples_leaf * n_samples) are the minimum number of samples for each node.\n",
        "\n",
        "Let's now check the optimum value for min samples leaf in our case."
      ]
    },
    {
      "cell_type": "code",
      "metadata": {
        "id": "FJCBNqnDYVUl",
        "outputId": "16d8a9b0-61aa-47ae-a429-cc1e6a627084"
      },
      "source": [
        "\n",
        "# parameters to build the model on min_samples_leaf of range(100, 400, 50)\n",
        "parameters =\n",
        "\n",
        "# instantiate the model (not specifying any max_depth)\n",
        "rf = \n",
        "\n",
        "\n",
        "# Instantiate GridSearchCVwith rf, parameter, cv and scoring as accuracy and return_train_score as True\n",
        "rf = \n",
        "\n",
        "\n",
        "\n",
        "# fit tree on training data\n",
        "\n"
      ],
      "execution_count": null,
      "outputs": [
        {
          "data": {
            "text/plain": [
              "GridSearchCV(cv=5, estimator=RandomForestClassifier(),\n",
              "             param_grid={'min_samples_leaf': range(100, 400, 50)},\n",
              "             return_train_score=True, scoring='accuracy')"
            ]
          },
          "execution_count": 26,
          "metadata": {},
          "output_type": "execute_result"
        }
      ]
    },
    {
      "cell_type": "code",
      "metadata": {
        "id": "te9WFounYVUl",
        "outputId": "38c8d929-44f5-4a90-d29b-81589be33a5e"
      },
      "source": [
        "# scores of GridSearch CV\n",
        "\n",
        "\n"
      ],
      "execution_count": null,
      "outputs": [
        {
          "data": {
            "text/html": [
              "<div>\n",
              "<style scoped>\n",
              "    .dataframe tbody tr th:only-of-type {\n",
              "        vertical-align: middle;\n",
              "    }\n",
              "\n",
              "    .dataframe tbody tr th {\n",
              "        vertical-align: top;\n",
              "    }\n",
              "\n",
              "    .dataframe thead th {\n",
              "        text-align: right;\n",
              "    }\n",
              "</style>\n",
              "<table border=\"1\" class=\"dataframe\">\n",
              "  <thead>\n",
              "    <tr style=\"text-align: right;\">\n",
              "      <th></th>\n",
              "      <th>mean_fit_time</th>\n",
              "      <th>std_fit_time</th>\n",
              "      <th>mean_score_time</th>\n",
              "      <th>std_score_time</th>\n",
              "      <th>param_min_samples_leaf</th>\n",
              "      <th>params</th>\n",
              "      <th>split0_test_score</th>\n",
              "      <th>split1_test_score</th>\n",
              "      <th>split2_test_score</th>\n",
              "      <th>split3_test_score</th>\n",
              "      <th>...</th>\n",
              "      <th>mean_test_score</th>\n",
              "      <th>std_test_score</th>\n",
              "      <th>rank_test_score</th>\n",
              "      <th>split0_train_score</th>\n",
              "      <th>split1_train_score</th>\n",
              "      <th>split2_train_score</th>\n",
              "      <th>split3_train_score</th>\n",
              "      <th>split4_train_score</th>\n",
              "      <th>mean_train_score</th>\n",
              "      <th>std_train_score</th>\n",
              "    </tr>\n",
              "  </thead>\n",
              "  <tbody>\n",
              "    <tr>\n",
              "      <th>0</th>\n",
              "      <td>3.090121</td>\n",
              "      <td>0.014465</td>\n",
              "      <td>0.074922</td>\n",
              "      <td>0.000676</td>\n",
              "      <td>100</td>\n",
              "      <td>{'min_samples_leaf': 100}</td>\n",
              "      <td>0.813333</td>\n",
              "      <td>0.815000</td>\n",
              "      <td>0.814762</td>\n",
              "      <td>0.810000</td>\n",
              "      <td>...</td>\n",
              "      <td>0.813381</td>\n",
              "      <td>0.001797</td>\n",
              "      <td>1</td>\n",
              "      <td>0.817083</td>\n",
              "      <td>0.813869</td>\n",
              "      <td>0.817976</td>\n",
              "      <td>0.820060</td>\n",
              "      <td>0.818631</td>\n",
              "      <td>0.817524</td>\n",
              "      <td>0.002069</td>\n",
              "    </tr>\n",
              "    <tr>\n",
              "      <th>1</th>\n",
              "      <td>2.809550</td>\n",
              "      <td>0.030194</td>\n",
              "      <td>0.069621</td>\n",
              "      <td>0.000985</td>\n",
              "      <td>150</td>\n",
              "      <td>{'min_samples_leaf': 150}</td>\n",
              "      <td>0.812381</td>\n",
              "      <td>0.814048</td>\n",
              "      <td>0.814762</td>\n",
              "      <td>0.805000</td>\n",
              "      <td>...</td>\n",
              "      <td>0.812476</td>\n",
              "      <td>0.003934</td>\n",
              "      <td>2</td>\n",
              "      <td>0.811190</td>\n",
              "      <td>0.811548</td>\n",
              "      <td>0.815476</td>\n",
              "      <td>0.810952</td>\n",
              "      <td>0.819464</td>\n",
              "      <td>0.813726</td>\n",
              "      <td>0.003312</td>\n",
              "    </tr>\n",
              "    <tr>\n",
              "      <th>2</th>\n",
              "      <td>2.872630</td>\n",
              "      <td>0.355918</td>\n",
              "      <td>0.075997</td>\n",
              "      <td>0.012493</td>\n",
              "      <td>200</td>\n",
              "      <td>{'min_samples_leaf': 200}</td>\n",
              "      <td>0.812857</td>\n",
              "      <td>0.812381</td>\n",
              "      <td>0.810238</td>\n",
              "      <td>0.803333</td>\n",
              "      <td>...</td>\n",
              "      <td>0.809238</td>\n",
              "      <td>0.003530</td>\n",
              "      <td>3</td>\n",
              "      <td>0.813155</td>\n",
              "      <td>0.809107</td>\n",
              "      <td>0.810060</td>\n",
              "      <td>0.810417</td>\n",
              "      <td>0.810179</td>\n",
              "      <td>0.810583</td>\n",
              "      <td>0.001361</td>\n",
              "    </tr>\n",
              "    <tr>\n",
              "      <th>3</th>\n",
              "      <td>2.615328</td>\n",
              "      <td>0.250496</td>\n",
              "      <td>0.067096</td>\n",
              "      <td>0.005184</td>\n",
              "      <td>250</td>\n",
              "      <td>{'min_samples_leaf': 250}</td>\n",
              "      <td>0.810714</td>\n",
              "      <td>0.812619</td>\n",
              "      <td>0.810238</td>\n",
              "      <td>0.803571</td>\n",
              "      <td>...</td>\n",
              "      <td>0.808857</td>\n",
              "      <td>0.003174</td>\n",
              "      <td>4</td>\n",
              "      <td>0.809167</td>\n",
              "      <td>0.808452</td>\n",
              "      <td>0.809643</td>\n",
              "      <td>0.809464</td>\n",
              "      <td>0.810714</td>\n",
              "      <td>0.809488</td>\n",
              "      <td>0.000735</td>\n",
              "    </tr>\n",
              "    <tr>\n",
              "      <th>4</th>\n",
              "      <td>2.350415</td>\n",
              "      <td>0.057493</td>\n",
              "      <td>0.062641</td>\n",
              "      <td>0.002627</td>\n",
              "      <td>300</td>\n",
              "      <td>{'min_samples_leaf': 300}</td>\n",
              "      <td>0.811905</td>\n",
              "      <td>0.810238</td>\n",
              "      <td>0.805952</td>\n",
              "      <td>0.801667</td>\n",
              "      <td>...</td>\n",
              "      <td>0.806905</td>\n",
              "      <td>0.003716</td>\n",
              "      <td>5</td>\n",
              "      <td>0.808929</td>\n",
              "      <td>0.807798</td>\n",
              "      <td>0.807619</td>\n",
              "      <td>0.808750</td>\n",
              "      <td>0.807083</td>\n",
              "      <td>0.808036</td>\n",
              "      <td>0.000699</td>\n",
              "    </tr>\n",
              "  </tbody>\n",
              "</table>\n",
              "<p>5 rows × 21 columns</p>\n",
              "</div>"
            ],
            "text/plain": [
              "   mean_fit_time  std_fit_time  mean_score_time  std_score_time  \\\n",
              "0       3.090121      0.014465         0.074922        0.000676   \n",
              "1       2.809550      0.030194         0.069621        0.000985   \n",
              "2       2.872630      0.355918         0.075997        0.012493   \n",
              "3       2.615328      0.250496         0.067096        0.005184   \n",
              "4       2.350415      0.057493         0.062641        0.002627   \n",
              "\n",
              "  param_min_samples_leaf                     params  split0_test_score  \\\n",
              "0                    100  {'min_samples_leaf': 100}           0.813333   \n",
              "1                    150  {'min_samples_leaf': 150}           0.812381   \n",
              "2                    200  {'min_samples_leaf': 200}           0.812857   \n",
              "3                    250  {'min_samples_leaf': 250}           0.810714   \n",
              "4                    300  {'min_samples_leaf': 300}           0.811905   \n",
              "\n",
              "   split1_test_score  split2_test_score  split3_test_score  ...  \\\n",
              "0           0.815000           0.814762           0.810000  ...   \n",
              "1           0.814048           0.814762           0.805000  ...   \n",
              "2           0.812381           0.810238           0.803333  ...   \n",
              "3           0.812619           0.810238           0.803571  ...   \n",
              "4           0.810238           0.805952           0.801667  ...   \n",
              "\n",
              "   mean_test_score  std_test_score  rank_test_score  split0_train_score  \\\n",
              "0         0.813381        0.001797                1            0.817083   \n",
              "1         0.812476        0.003934                2            0.811190   \n",
              "2         0.809238        0.003530                3            0.813155   \n",
              "3         0.808857        0.003174                4            0.809167   \n",
              "4         0.806905        0.003716                5            0.808929   \n",
              "\n",
              "   split1_train_score  split2_train_score  split3_train_score  \\\n",
              "0            0.813869            0.817976            0.820060   \n",
              "1            0.811548            0.815476            0.810952   \n",
              "2            0.809107            0.810060            0.810417   \n",
              "3            0.808452            0.809643            0.809464   \n",
              "4            0.807798            0.807619            0.808750   \n",
              "\n",
              "   split4_train_score  mean_train_score  std_train_score  \n",
              "0            0.818631          0.817524         0.002069  \n",
              "1            0.819464          0.813726         0.003312  \n",
              "2            0.810179          0.810583         0.001361  \n",
              "3            0.810714          0.809488         0.000735  \n",
              "4            0.807083          0.808036         0.000699  \n",
              "\n",
              "[5 rows x 21 columns]"
            ]
          },
          "execution_count": 27,
          "metadata": {},
          "output_type": "execute_result"
        }
      ]
    },
    {
      "cell_type": "code",
      "metadata": {
        "id": "40GEiecBYVUm",
        "outputId": "baa66bdc-fc1f-4e2e-b506-540249c6a4e8"
      },
      "source": [
        "# plotting accuracies with min_samples_leaf\n",
        "\n",
        "\n",
        "\n"
      ],
      "execution_count": null,
      "outputs": [
        {
          "data": {
            "image/png": "[encoded data removed]",
            "text/plain": [
              "<Figure size 432x288 with 1 Axes>"
            ]
          },
          "metadata": {
            "needs_background": "light"
          },
          "output_type": "display_data"
        }
      ]
    },
    {
      "cell_type": "markdown",
      "metadata": {
        "id": "gNitrDwAYVUm"
      },
      "source": [
        "You can see that the model starts of overfit as you decrease the value of min_samples_leaf. \n",
        "\n",
        "### Tuning min_samples_split\n",
        "\n",
        "Let's now look at the performance of the ensemble as we vary min_samples_split.\n",
        "\n",
        "\n"
      ]
    },
    {
      "cell_type": "code",
      "metadata": {
        "id": "Y7npLzP8YVUm",
        "outputId": "377a6e7f-8128-49cb-8409-6b3c4adbede0"
      },
      "source": [
        "\n",
        "\n",
        "# parameters to build the model on (min_samples_split with range(200, 500, 50))\n",
        "parameters = \n",
        "\n",
        "# instantiate the model\n",
        "rf = \n",
        "\n",
        "\n",
        "# Instantiate GridSearchCVwith rf, parameter, cv and scoring as accuracy and return_train_score as True\n",
        "rf =\n",
        "\n",
        "\n",
        "\n",
        "#fitting model on training data\n",
        "\n",
        "\n"
      ],
      "execution_count": null,
      "outputs": [
        {
          "data": {
            "text/plain": [
              "GridSearchCV(cv=5, estimator=RandomForestClassifier(),\n",
              "             param_grid={'min_samples_split': range(200, 500, 50)},\n",
              "             return_train_score=True, scoring='accuracy')"
            ]
          },
          "execution_count": 29,
          "metadata": {},
          "output_type": "execute_result"
        }
      ]
    },
    {
      "cell_type": "code",
      "metadata": {
        "id": "f1qSMzvUYVUn",
        "outputId": "deef2717-9e11-419e-e147-3d7b26626cfa"
      },
      "source": [
        "# scores of GridSearch CV\n",
        "\n",
        "\n",
        "\n"
      ],
      "execution_count": null,
      "outputs": [
        {
          "data": {
            "text/html": [
              "<div>\n",
              "<style scoped>\n",
              "    .dataframe tbody tr th:only-of-type {\n",
              "        vertical-align: middle;\n",
              "    }\n",
              "\n",
              "    .dataframe tbody tr th {\n",
              "        vertical-align: top;\n",
              "    }\n",
              "\n",
              "    .dataframe thead th {\n",
              "        text-align: right;\n",
              "    }\n",
              "</style>\n",
              "<table border=\"1\" class=\"dataframe\">\n",
              "  <thead>\n",
              "    <tr style=\"text-align: right;\">\n",
              "      <th></th>\n",
              "      <th>mean_fit_time</th>\n",
              "      <th>std_fit_time</th>\n",
              "      <th>mean_score_time</th>\n",
              "      <th>std_score_time</th>\n",
              "      <th>param_min_samples_split</th>\n",
              "      <th>params</th>\n",
              "      <th>split0_test_score</th>\n",
              "      <th>split1_test_score</th>\n",
              "      <th>split2_test_score</th>\n",
              "      <th>split3_test_score</th>\n",
              "      <th>...</th>\n",
              "      <th>mean_test_score</th>\n",
              "      <th>std_test_score</th>\n",
              "      <th>rank_test_score</th>\n",
              "      <th>split0_train_score</th>\n",
              "      <th>split1_train_score</th>\n",
              "      <th>split2_train_score</th>\n",
              "      <th>split3_train_score</th>\n",
              "      <th>split4_train_score</th>\n",
              "      <th>mean_train_score</th>\n",
              "      <th>std_train_score</th>\n",
              "    </tr>\n",
              "  </thead>\n",
              "  <tbody>\n",
              "    <tr>\n",
              "      <th>0</th>\n",
              "      <td>4.178614</td>\n",
              "      <td>0.016956</td>\n",
              "      <td>0.087168</td>\n",
              "      <td>0.004789</td>\n",
              "      <td>200</td>\n",
              "      <td>{'min_samples_split': 200}</td>\n",
              "      <td>0.818095</td>\n",
              "      <td>0.821429</td>\n",
              "      <td>0.822381</td>\n",
              "      <td>0.816905</td>\n",
              "      <td>...</td>\n",
              "      <td>0.819286</td>\n",
              "      <td>0.002193</td>\n",
              "      <td>2</td>\n",
              "      <td>0.824583</td>\n",
              "      <td>0.823095</td>\n",
              "      <td>0.824464</td>\n",
              "      <td>0.823393</td>\n",
              "      <td>0.824226</td>\n",
              "      <td>0.823952</td>\n",
              "      <td>0.000597</td>\n",
              "    </tr>\n",
              "    <tr>\n",
              "      <th>1</th>\n",
              "      <td>4.259416</td>\n",
              "      <td>0.498103</td>\n",
              "      <td>0.086770</td>\n",
              "      <td>0.010999</td>\n",
              "      <td>250</td>\n",
              "      <td>{'min_samples_split': 250}</td>\n",
              "      <td>0.818333</td>\n",
              "      <td>0.823333</td>\n",
              "      <td>0.822857</td>\n",
              "      <td>0.816190</td>\n",
              "      <td>...</td>\n",
              "      <td>0.819810</td>\n",
              "      <td>0.002799</td>\n",
              "      <td>1</td>\n",
              "      <td>0.823333</td>\n",
              "      <td>0.822262</td>\n",
              "      <td>0.823095</td>\n",
              "      <td>0.822500</td>\n",
              "      <td>0.822202</td>\n",
              "      <td>0.822679</td>\n",
              "      <td>0.000455</td>\n",
              "    </tr>\n",
              "    <tr>\n",
              "      <th>2</th>\n",
              "      <td>3.979500</td>\n",
              "      <td>0.156579</td>\n",
              "      <td>0.077991</td>\n",
              "      <td>0.000399</td>\n",
              "      <td>300</td>\n",
              "      <td>{'min_samples_split': 300}</td>\n",
              "      <td>0.818333</td>\n",
              "      <td>0.820476</td>\n",
              "      <td>0.821667</td>\n",
              "      <td>0.815952</td>\n",
              "      <td>...</td>\n",
              "      <td>0.818762</td>\n",
              "      <td>0.002067</td>\n",
              "      <td>4</td>\n",
              "      <td>0.821845</td>\n",
              "      <td>0.820893</td>\n",
              "      <td>0.821786</td>\n",
              "      <td>0.821369</td>\n",
              "      <td>0.821845</td>\n",
              "      <td>0.821548</td>\n",
              "      <td>0.000373</td>\n",
              "    </tr>\n",
              "    <tr>\n",
              "      <th>3</th>\n",
              "      <td>3.783039</td>\n",
              "      <td>0.091654</td>\n",
              "      <td>0.075604</td>\n",
              "      <td>0.000749</td>\n",
              "      <td>350</td>\n",
              "      <td>{'min_samples_split': 350}</td>\n",
              "      <td>0.819524</td>\n",
              "      <td>0.821667</td>\n",
              "      <td>0.820714</td>\n",
              "      <td>0.816905</td>\n",
              "      <td>...</td>\n",
              "      <td>0.819238</td>\n",
              "      <td>0.001847</td>\n",
              "      <td>3</td>\n",
              "      <td>0.821071</td>\n",
              "      <td>0.820000</td>\n",
              "      <td>0.820655</td>\n",
              "      <td>0.820833</td>\n",
              "      <td>0.821131</td>\n",
              "      <td>0.820738</td>\n",
              "      <td>0.000407</td>\n",
              "    </tr>\n",
              "    <tr>\n",
              "      <th>4</th>\n",
              "      <td>3.628282</td>\n",
              "      <td>0.005841</td>\n",
              "      <td>0.073797</td>\n",
              "      <td>0.000633</td>\n",
              "      <td>400</td>\n",
              "      <td>{'min_samples_split': 400}</td>\n",
              "      <td>0.817143</td>\n",
              "      <td>0.820238</td>\n",
              "      <td>0.819762</td>\n",
              "      <td>0.816429</td>\n",
              "      <td>...</td>\n",
              "      <td>0.818000</td>\n",
              "      <td>0.001661</td>\n",
              "      <td>6</td>\n",
              "      <td>0.820476</td>\n",
              "      <td>0.820000</td>\n",
              "      <td>0.820536</td>\n",
              "      <td>0.820952</td>\n",
              "      <td>0.820833</td>\n",
              "      <td>0.820560</td>\n",
              "      <td>0.000332</td>\n",
              "    </tr>\n",
              "  </tbody>\n",
              "</table>\n",
              "<p>5 rows × 21 columns</p>\n",
              "</div>"
            ],
            "text/plain": [
              "   mean_fit_time  std_fit_time  mean_score_time  std_score_time  \\\n",
              "0       4.178614      0.016956         0.087168        0.004789   \n",
              "1       4.259416      0.498103         0.086770        0.010999   \n",
              "2       3.979500      0.156579         0.077991        0.000399   \n",
              "3       3.783039      0.091654         0.075604        0.000749   \n",
              "4       3.628282      0.005841         0.073797        0.000633   \n",
              "\n",
              "  param_min_samples_split                      params  split0_test_score  \\\n",
              "0                     200  {'min_samples_split': 200}           0.818095   \n",
              "1                     250  {'min_samples_split': 250}           0.818333   \n",
              "2                     300  {'min_samples_split': 300}           0.818333   \n",
              "3                     350  {'min_samples_split': 350}           0.819524   \n",
              "4                     400  {'min_samples_split': 400}           0.817143   \n",
              "\n",
              "   split1_test_score  split2_test_score  split3_test_score  ...  \\\n",
              "0           0.821429           0.822381           0.816905  ...   \n",
              "1           0.823333           0.822857           0.816190  ...   \n",
              "2           0.820476           0.821667           0.815952  ...   \n",
              "3           0.821667           0.820714           0.816905  ...   \n",
              "4           0.820238           0.819762           0.816429  ...   \n",
              "\n",
              "   mean_test_score  std_test_score  rank_test_score  split0_train_score  \\\n",
              "0         0.819286        0.002193                2            0.824583   \n",
              "1         0.819810        0.002799                1            0.823333   \n",
              "2         0.818762        0.002067                4            0.821845   \n",
              "3         0.819238        0.001847                3            0.821071   \n",
              "4         0.818000        0.001661                6            0.820476   \n",
              "\n",
              "   split1_train_score  split2_train_score  split3_train_score  \\\n",
              "0            0.823095            0.824464            0.823393   \n",
              "1            0.822262            0.823095            0.822500   \n",
              "2            0.820893            0.821786            0.821369   \n",
              "3            0.820000            0.820655            0.820833   \n",
              "4            0.820000            0.820536            0.820952   \n",
              "\n",
              "   split4_train_score  mean_train_score  std_train_score  \n",
              "0            0.824226          0.823952         0.000597  \n",
              "1            0.822202          0.822679         0.000455  \n",
              "2            0.821845          0.821548         0.000373  \n",
              "3            0.821131          0.820738         0.000407  \n",
              "4            0.820833          0.820560         0.000332  \n",
              "\n",
              "[5 rows x 21 columns]"
            ]
          },
          "execution_count": 30,
          "metadata": {},
          "output_type": "execute_result"
        }
      ]
    },
    {
      "cell_type": "code",
      "metadata": {
        "id": "OrEeheVfYVUo",
        "outputId": "0f8c1937-bd7d-4cc3-ddff-306935b04ed7"
      },
      "source": [
        "# plotting accuracies with min_samples_split\n",
        "\n",
        "\n",
        "\n",
        "\n"
      ],
      "execution_count": null,
      "outputs": [
        {
          "data": {
            "image/png": "[encoded data removed]",
            "text/plain": [
              "<Figure size 432x288 with 1 Axes>"
            ]
          },
          "metadata": {
            "needs_background": "light"
          },
          "output_type": "display_data"
        }
      ]
    },
    {
      "cell_type": "markdown",
      "metadata": {
        "id": "IFaMyB1HYVUo"
      },
      "source": [
        "#### Random Search to Find Optimal Hyperparameters\n",
        "\n",
        "We can now find the optimal hyperparameters using RandomizedSearchCV. \n",
        "\n",
        "with following  parameter values: \n",
        "\n",
        "`'max_depth': [4,8,10],\n",
        "'min_samples_leaf': range(100, 400, 200),\n",
        "'min_samples_split': range(200, 500, 200),\n",
        "'n_estimators': [100,200, 300], \n",
        "'max_features': [5, 10]`\n",
        "\n",
        "Note : here we are avoiding grid search because using it your system might crash, whereas RandomizedSearchCV is fater than grid search  ;)"
      ]
    },
    {
      "cell_type": "code",
      "metadata": {
        "id": "2tqzVjJaYVUo"
      },
      "source": [
        "# import RandomizedSearchCV\n",
        "\n",
        "\n",
        "# Create the parameter grid based on the results of random search \n",
        "param_grid =\n",
        "\n",
        "\n",
        "\n",
        "\n",
        "# Create a based model (i.e RF)\n",
        "rf = \n",
        "\n",
        "# Instantiate the radom search model with estimator, param_grid, and random_state as 0\n",
        "rs =\n"
      ],
      "execution_count": null,
      "outputs": []
    },
    {
      "cell_type": "code",
      "metadata": {
        "id": "-y2fKD33YVUp",
        "outputId": "10efe828-c0c7-4f1f-96e8-41197102226a"
      },
      "source": [
        "# Fit the grid search to the data\n"
      ],
      "execution_count": null,
      "outputs": [
        {
          "data": {
            "text/plain": [
              "RandomizedSearchCV(estimator=RandomForestClassifier(),\n",
              "                   param_distributions={'max_depth': [4, 8, 10],\n",
              "                                        'max_features': [5, 10],\n",
              "                                        'min_samples_leaf': range(100, 400, 200),\n",
              "                                        'min_samples_split': range(200, 500, 200),\n",
              "                                        'n_estimators': [100, 200, 300]},\n",
              "                   random_state=0)"
            ]
          },
          "execution_count": 34,
          "metadata": {},
          "output_type": "execute_result"
        }
      ]
    },
    {
      "cell_type": "code",
      "metadata": {
        "id": "PrBFy-gNYVUp",
        "outputId": "67cf3b18-2161-4b4a-9c3b-438cde1b1cc5"
      },
      "source": [
        "# printing the optimal accuracy score and hyperparameters\n",
        "\n",
        "\n"
      ],
      "execution_count": null,
      "outputs": [
        {
          "name": "stdout",
          "output_type": "stream",
          "text": [
            "We can get accuracy of 0.818095238095238 using {'n_estimators': 300, 'min_samples_split': 200, 'min_samples_leaf': 100, 'max_features': 5, 'max_depth': 8}\n"
          ]
        }
      ]
    },
    {
      "cell_type": "markdown",
      "metadata": {
        "id": "WYVjDSpuYVUq"
      },
      "source": [
        "**Fitting the final model with the best parameters obtained from grid search.**"
      ]
    },
    {
      "cell_type": "code",
      "metadata": {
        "id": "MBz0zKg6YVUq"
      },
      "source": [
        "# Instantiate RF model with the best hyperparameters\n",
        "rfc = \n",
        "\n"
      ],
      "execution_count": null,
      "outputs": []
    },
    {
      "cell_type": "code",
      "metadata": {
        "id": "EjwUatSrYVUr",
        "outputId": "3e10fb63-77b1-4b3b-f6d8-26f9947ee823"
      },
      "source": [
        "# fit rfc on training data\n",
        "\n",
        "\n"
      ],
      "execution_count": null,
      "outputs": [
        {
          "data": {
            "text/plain": [
              "RandomForestClassifier(max_depth=8, max_features=5, min_samples_leaf=100,\n",
              "                       min_samples_split=200, n_estimators=300)"
            ]
          },
          "execution_count": 37,
          "metadata": {},
          "output_type": "execute_result"
        }
      ]
    },
    {
      "cell_type": "code",
      "metadata": {
        "id": "I8Sk9CDWYVUr"
      },
      "source": [
        "# predict\n",
        "predictions ="
      ],
      "execution_count": null,
      "outputs": []
    },
    {
      "cell_type": "code",
      "metadata": {
        "id": "Fz-zuapxYVUr",
        "outputId": "f78cc2a5-1002-400a-a367-593c95efe706"
      },
      "source": [
        "# evaluation metrics using classification_report\n",
        "\n",
        "\n"
      ],
      "execution_count": null,
      "outputs": [
        {
          "name": "stdout",
          "output_type": "stream",
          "text": [
            "              precision    recall  f1-score   support\n",
            "\n",
            "           0       0.84      0.96      0.90      7058\n",
            "           1       0.70      0.34      0.46      1942\n",
            "\n",
            "    accuracy                           0.83      9000\n",
            "   macro avg       0.77      0.65      0.68      9000\n",
            "weighted avg       0.81      0.83      0.80      9000\n",
            "\n"
          ]
        }
      ]
    },
    {
      "cell_type": "code",
      "metadata": {
        "id": "75qOI_2IYVUs",
        "outputId": "0551034f-9ecc-4224-b9e3-e8fb6608c603"
      },
      "source": [
        "#print confusion_matrix and \n",
        "\n",
        "\n",
        "#print accuracy\n",
        "\n",
        "\n"
      ],
      "execution_count": null,
      "outputs": [
        {
          "name": "stdout",
          "output_type": "stream",
          "text": [
            "[[6766  292]\n",
            " [1274  668]]\n",
            "0.826\n"
          ]
        }
      ]
    },
    {
      "cell_type": "markdown",
      "metadata": {
        "id": "Fr1HhgZqYVUs"
      },
      "source": [
        "Oh yeah ! after hyper parameter tuning Random forest accuracy is improved."
      ]
    },
    {
      "cell_type": "markdown",
      "metadata": {
        "id": "T0CRq78aYVUt"
      },
      "source": [
        "### 3. Extra Trees ALgorithm\n",
        "\n",
        "<p style='text-align: right;'> 20 points</p>\n",
        "\n",
        "Reference doc: https://scikit-learn.org/stable/modules/generated/sklearn.ensemble.ExtraTreesClassifier.html\n",
        "\n",
        "Reference link: https://youtu.be/UhgkP9Fsbgo\n",
        " \n",
        "Extra Trees and Random Forest are two very similar ensemble methods\n",
        "The two ensembles have a lot in common. Both of them are composed of a large number of decision trees. The main difference between descision tree , random Forest and Extra trees are shown below:\n",
        "\n",
        "\n",
        "![image.png](attachment:image.png)\n",
        "\n",
        "\n",
        "\n",
        "Unlike bagging and random forest that develop each decision tree from a bootstrap sample of the training dataset, the Extra Trees algorithm fits each decision tree on the whole training dataset.\n",
        "\n",
        "Like random forest, the Extra Trees algorithm will randomly sample the features at each split point of a decision tree. Unlike random forest, which uses a greedy algorithm to select an optimal split point, the Extra Trees algorithm selects a split point at random."
      ]
    },
    {
      "cell_type": "code",
      "metadata": {
        "id": "cln9ZSM2YVUt",
        "outputId": "100efb87-9ab5-45d1-91b3-8a192172dd47"
      },
      "source": [
        "# import ExtraTreesClassifier \n",
        "\n",
        "\n",
        "#Instantiate ExtraTreesClassifier with default parameters\n",
        "et = \n",
        "\n",
        "\n",
        "#fitting model on training data\n",
        "\n"
      ],
      "execution_count": null,
      "outputs": [
        {
          "data": {
            "text/plain": [
              "ExtraTreesClassifier()"
            ]
          },
          "execution_count": 41,
          "metadata": {},
          "output_type": "execute_result"
        }
      ]
    },
    {
      "cell_type": "code",
      "metadata": {
        "id": "GmR5CajpYVUt"
      },
      "source": [
        "# Making predictions\n",
        "predictions = "
      ],
      "execution_count": null,
      "outputs": []
    },
    {
      "cell_type": "code",
      "metadata": {
        "id": "1D9nPzmeYVUu",
        "outputId": "3d678adb-c7f9-4e66-f45e-11a1df76c44e"
      },
      "source": [
        "# Let's check the report of our default model\n",
        "\n",
        "\n"
      ],
      "execution_count": null,
      "outputs": [
        {
          "name": "stdout",
          "output_type": "stream",
          "text": [
            "              precision    recall  f1-score   support\n",
            "\n",
            "           0       0.84      0.94      0.89      7058\n",
            "           1       0.62      0.36      0.45      1942\n",
            "\n",
            "    accuracy                           0.81      9000\n",
            "   macro avg       0.73      0.65      0.67      9000\n",
            "weighted avg       0.79      0.81      0.79      9000\n",
            "\n"
          ]
        }
      ]
    },
    {
      "cell_type": "code",
      "metadata": {
        "id": "h_7lrZSpYVUu",
        "outputId": "42f35e90-c1c3-4ee1-cff9-58ebe7221c6f"
      },
      "source": [
        "# Printing confusion matrix\n",
        "\n"
      ],
      "execution_count": null,
      "outputs": [
        {
          "name": "stdout",
          "output_type": "stream",
          "text": [
            "[[6629  429]\n",
            " [1246  696]]\n"
          ]
        }
      ]
    },
    {
      "cell_type": "code",
      "metadata": {
        "id": "aQdcoyX_YVUv",
        "outputId": "3b06c269-6265-4ab8-ebca-b1c5be7a3651"
      },
      "source": [
        "#printing accuracy_score\n",
        "\n",
        "\n"
      ],
      "execution_count": null,
      "outputs": [
        {
          "name": "stdout",
          "output_type": "stream",
          "text": [
            "0.8138888888888889\n"
          ]
        }
      ]
    },
    {
      "cell_type": "markdown",
      "metadata": {
        "id": "bb-t4hs4YVUv"
      },
      "source": [
        "cool! so we got 81 % accuracy here. We can even try hyperparameter tuning here in order to improve the result. So lets Tune the mode\n",
        "\n",
        "\n",
        "##### Random Search to Find Optimal Hyperparameters\n",
        "\n",
        "<p style='text-align: right;'> 5 points</p>\n",
        "\n",
        "Reference doc: https://scikit-learn.org/stable/modules/generated/sklearn.model_selection.RandomizedSearchCV.html\n",
        "\n",
        "Reference video: https://youtu.be/v5aSDMzgVDQ\n",
        "\n",
        "We can now find the optimal hyperparameters using GridSearchCV."
      ]
    },
    {
      "cell_type": "code",
      "metadata": {
        "id": "puoincu7YVUv",
        "outputId": "fc7276d2-bbf6-4094-88ad-9a35673915ac"
      },
      "source": [
        "# Create the parameter grid similar to random forest\n",
        "\n",
        "param_grid =\n",
        "\n",
        "\n",
        "# Instantiate RandomizedSearchCV with et , param_grid and random state=0\n",
        "rs = \n",
        "\n",
        "\n",
        "# Fit the random search to the training data\n",
        "\n",
        "\n",
        "\n",
        "# printing the optimal accuracy score and hyperparameters\n",
        "\n"
      ],
      "execution_count": null,
      "outputs": [
        {
          "name": "stdout",
          "output_type": "stream",
          "text": [
            "We can get accuracy of 0.8015714285714287 using {'n_estimators': 300, 'min_samples_split': 400, 'min_samples_leaf': 300, 'max_features': 10, 'max_depth': 10}\n"
          ]
        }
      ]
    },
    {
      "cell_type": "markdown",
      "metadata": {
        "id": "54ZkL1SRYVUw"
      },
      "source": [
        "Now lets try using above chosen best parameters into extra trees and tune it."
      ]
    },
    {
      "cell_type": "code",
      "metadata": {
        "id": "lcAN_GRqYVUw",
        "outputId": "05bee401-52dd-4161-e430-91dba9fbe0fc"
      },
      "source": [
        "\n",
        "#Instantiate ExtraTreesClassifier with default parameters\n",
        "et =\n",
        "\n",
        "#fitting model on training data\n",
        "\n"
      ],
      "execution_count": null,
      "outputs": [
        {
          "data": {
            "text/plain": [
              "ExtraTreesClassifier(max_depth=10, max_features=10, min_samples_leaf=300,\n",
              "                     min_samples_split=400, n_estimators=300)"
            ]
          },
          "execution_count": 47,
          "metadata": {},
          "output_type": "execute_result"
        }
      ]
    },
    {
      "cell_type": "code",
      "metadata": {
        "id": "V4R1jxLWYVUw"
      },
      "source": [
        "# Making predictions\n"
      ],
      "execution_count": null,
      "outputs": []
    },
    {
      "cell_type": "code",
      "metadata": {
        "id": "Fb76nsilYVUx",
        "outputId": "69ee825b-39a7-4cd9-e0e6-1d3a3257442d"
      },
      "source": [
        "#printing accuracy_score\n",
        "\n"
      ],
      "execution_count": null,
      "outputs": [
        {
          "name": "stdout",
          "output_type": "stream",
          "text": [
            "0.8112222222222222\n"
          ]
        }
      ]
    },
    {
      "cell_type": "markdown",
      "metadata": {
        "id": "XI0ZmWVUYVUx"
      },
      "source": [
        "Well here even after doing hyperparameter tuning, yo can see that there is not much improvement on the model performance. \n",
        "\n",
        "Now you have seen ensemble bootstrap aggregation using 3 different methods, namely bagging classifier, Random Forest and Extra tree Regressor\n",
        "\n",
        "Can you tell for our problem statement of Credit Default Prediction which ensemble method worked best here . Please do comment below:\n",
        "    "
      ]
    },
    {
      "cell_type": "code",
      "metadata": {
        "id": "uPrccjgxYVUx"
      },
      "source": [
        "#here "
      ],
      "execution_count": null,
      "outputs": []
    },
    {
      "cell_type": "markdown",
      "metadata": {
        "id": "ZYihZmDeYVUy"
      },
      "source": [
        "\n",
        "---------------------------------\n",
        "\n",
        "# Fantastic:) Congratulations! you have completed the Ensemble: Bagging assignment. \n",
        "\n",
        "--------------------------------\n",
        "\n",
        "# FeedBack\n",
        "We hope you’ve enjoyed this course so far. We’re committed to help you use \"AI for All\" course to its full potential, so that you have a great learning experience. And that’s why we need your help in form of a feedback here.\n",
        "\n",
        "Please fill this feedback form  https://zfrmz.in/MtRG5oWXBdesm6rmSM7N"
      ]
    }
  ]
}