{
 "cells": [
  {
   "cell_type": "markdown",
   "id": "26ccc859",
   "metadata": {
    "papermill": {
     "duration": 0.015064,
     "end_time": "2022-03-28T12:38:21.168667",
     "exception": false,
     "start_time": "2022-03-28T12:38:21.153603",
     "status": "completed"
    },
    "tags": []
   },
   "source": [
    "<center> <h5 style=\"background-color:orange; color:white\" ><br>Cloud Computing<br></h5></center>\n",
    "\n",
    "Cloud computing is remote virtual pool of on-demand resources ==> like compute, storage and networking all over intenet <br>\n",
    "Virtualization is core of Cloude computing <br>\n",
    "Virtual Machines having different OS [Linux, Windows, Mac Os] ==> sharing resources from single server\n",
    "\n",
    "\n",
    "\n",
    "\n",
    "* **`Compute`** ==> Virtual Machines with different configurations\n",
    "    * batch processing\n",
    "    * serverless computing\n",
    "* **`Storage`** ==> [HDD]-Hard Disk Drive, [SDD]-Solid State Drive ==> Virtual Machines needs to attach Storage to them\n",
    "    * Block-Level Storage\n",
    "    * File-Level Storage\n",
    "    * Object-Level Storage\n",
    "* **`Database`** ==> to store structured and un-structured data\n",
    "    * Relational Databases - [ MySQL, PostgreSQL ]\n",
    "    * NoSQL Databases - [MongoDB, DynamoDB ]\n",
    "* **`Networking`**\n",
    "    * Private Network on demand\n",
    "    * Acessible from particular IP addresses\n",
    "* **`Security`**\n",
    "    * Encrypt sensitive data\n",
    "    * Security against cyber attacks \n",
    "* **`Monitoring`**\n",
    "    * Monitor resources\n",
    "    * activity tracking of cloud application\n",
    "    \n",
    "<center><h3>Why Cloud Computing?</h3></center>\n",
    "\n",
    "* Zero Maintenance ==> no need to but servers and hire people to maintain them\n",
    "* Variety of tools are available for storing and computing\n",
    "* Best Security standard to secure data\n",
    "* Access application from any location worldwide\n",
    "* No Hardware Required \n",
    "* On Demand Scalability\n"
   ]
  },
  {
   "cell_type": "markdown",
   "id": "0cf28a1c",
   "metadata": {
    "papermill": {
     "duration": 0.012773,
     "end_time": "2022-03-28T12:38:21.195021",
     "exception": false,
     "start_time": "2022-03-28T12:38:21.182248",
     "status": "completed"
    },
    "tags": []
   },
   "source": [
    "<center> <h5 style=\"background-color:orange; color:white\" ><br>Deployment Models<br></h5></center>\n",
    "\n",
    "Based on data safty and Accessibility different cloud deployment models are as:\n",
    "1. **`Public Cloud`** ==> data is public. multiple user can share resources ==> [Most Popular Model]\n",
    "    1. Cost Savings ==> pay for what you use \n",
    "    2. Less Server Management ==> cloude vendor will manage and develop resources for you\n",
    "    3. Offered to multiple customers by cloud provider ==> still security is maintained\n",
    "2. **`Private Cloud`** ==> on primise deployment\n",
    "    1. Services are mainained over a private network ==> only user with access can see data\n",
    "    2. High Security & High Cost\n",
    "    3. Highly regulated industries and govt. agencies\n",
    "3. **`Hybrid Cloud`** ==> can chose different cloude models based on requirements\n",
    "    1. Combination of public and private cloud \n",
    "        1. Private Cloude: Critical Workloads can be done here\n",
    "        2. Public Cloud: Regular Workloads can be shared here\n",
    "    \n",
    "----    \n",
    "`Cloud Computing Fetures` <br>\n",
    "* we can access our application from any location\n",
    "* no need to buy hardware and maintain them\n",
    "* on demand scalability\n",
    "\n",
    "`In Public Cloud deployment models, cloud resources are shared among different customers` <br>\n",
    "Private Cloud ==> `Cloud resources are maintained over a private network only, so high security`\n",
    "\n",
    "\n",
    "`Hybrid Cloud`\n",
    "* It is a combination of both public and private clouds\n",
    "* Here we can divide our workloads between different clouds"
   ]
  },
  {
   "cell_type": "markdown",
   "id": "668bcf31",
   "metadata": {
    "papermill": {
     "duration": 0.012527,
     "end_time": "2022-03-28T12:38:21.220555",
     "exception": false,
     "start_time": "2022-03-28T12:38:21.208028",
     "status": "completed"
    },
    "tags": []
   },
   "source": [
    "<center> <h5 style=\"background-color:orange; color:white\" ><br>Service Models<br></h5></center>\n",
    "\n",
    "Based on campany services there are 3 different service models:\n",
    "1. **`SaaS-Sofware as a Service`** ==> deliver complete application on internet from first day\n",
    "    1. Users are not responsible for any kind of hardware or sofware\n",
    "        * `When to use SaaS` ==> condition where you dont want to make complete software by yourself\n",
    "    2. Project that required quick, easy and affordable collaboration\n",
    "        * Examples: `Gmail, Google Workspace, Dropbox, salesforce, Cisco webex`\n",
    "2. **`PaaS-Platform as a Service`** ==> server, network, storage are managed by service provider\n",
    "    1. Provides a platform/framework to developeres for development purposes, `here developer can focuse more on development of application`\n",
    "    2. `Usefull` when one need to Create customized applications\n",
    "    3. Provides better speed and flexibility to entire process from Software Creation to it's Deployment\n",
    "        * Examples: `App Engine, Heroku, Elastic Beanstalk[used for ==> fraud detection system or Hosting web app], OPENSHIFT`\n",
    "3. **`IaaS-Infrastructure as a Service`** ==> complete cloude computing infra, includes--server, network, storage and os\n",
    "    1. Resources are available as a service\n",
    "        * it's like traditional datacentar without having to mantain all of it physically\n",
    "    2. Startups and Small companies experiences rapid growth out of it\n",
    "        * Examples: `aws, Microsoft azure, Google Cloud Platform, DigitalOcean`"
   ]
  },
  {
   "cell_type": "markdown",
   "id": "0fed7309",
   "metadata": {
    "papermill": {
     "duration": 0.012775,
     "end_time": "2022-03-28T12:38:21.246373",
     "exception": false,
     "start_time": "2022-03-28T12:38:21.233598",
     "status": "completed"
    },
    "tags": []
   },
   "source": [
    "<center> <h4 style=\"color:red\" ><br>Differences in Service</h4></center>\n",
    "\n",
    "Before making one application you need to take care of bellow list with different factors given within Description\n",
    "\n",
    "|Topic | Description |\n",
    "|------|-------------|\n",
    "|Data|oil related to application|\n",
    "|Applications|Any application you want to make a website or an android application|\n",
    "|Runtime|compiler used to run code|\n",
    "|Middleware|it is a software that lies between the operating system and applications|\n",
    "|Operating System|Windows, Linux, Mac OS|\n",
    "|Virtalization|it is ability to run an operating system on top a virtual machine|\n",
    "|Infrastructure|Hardware: Servers, Storage|\n",
    "|Networking|Private Network, Global Connectivity|\n",
    "\n",
    "\n",
    "Based on different type of service one is opting for lets see what he have to manage and what Vendor will manage ????\n",
    "\n",
    "* **In `SaaS`** only `Data` part is ==> `managed by Customer` || Rest parts are managed by `Vendor`\n",
    "* **In `PaaS`** only `Data & Applications` part is ==> `managed by Customer` || Rest parts are managed by `Vendor`\n",
    "* **In `IaaS`** only `Data, Applications, Runtime, Middleware, Operating System` part is ==> `managed by Customer` || Rest parts are managed by `Vendor`\n",
    "\n",
    "\n",
    "**`Some Popular Cloude Service Providers`**\n",
    "* `aws` ==> top-1 `[OUR FOCUS]`\n",
    "* `microsoft azure` ==> top-2\n",
    "* `Google Cloud Platform`\n",
    "* `DigitalOcean`\n",
    "* `IBM Cloud`\n",
    "* `Alibaba Cloud`\n",
    "\n",
    "We will put all of our focus to AWS, lets see what are different types of benefit one can get out of using AWS are a Cloude service provider\n"
   ]
  },
  {
   "cell_type": "markdown",
   "id": "55c69f1f",
   "metadata": {
    "papermill": {
     "duration": 0.012814,
     "end_time": "2022-03-28T12:38:21.272371",
     "exception": false,
     "start_time": "2022-03-28T12:38:21.259557",
     "status": "completed"
    },
    "tags": []
   },
   "source": [
    "\n",
    "<center> <h5 style=\"background-color:orange; color:white\" ><br>AWS Benefits<br></h5></center>\n",
    "\n",
    "1. `Have more then 200 fully features services like`\n",
    "\n",
    "<img src=\"https://images.clickittech.com/wp-content/uploads/2018/01/17171820/why-aws-service-catalog.jpg\" width=800 height=400 />\n",
    "\n",
    "2. `Easy to use` ==> there is ready to use plateform for every service, ready to launch in few clicks\n",
    "3. `Flexible` ==> can use any Programming language, OS, Data Base, WebApplication Plaform, any other service one will require\n",
    "4. `Cost Effective` ==> pay only for computation power, storage and other resources you use\n",
    "5. `Reliable` ==> most reliable global computing infrastructure\n",
    "6. `Secure` ==> End to End secured, automate manual security tasks and focus on scaling\n",
    "7. `Scalable & High Performance` ==> application can be scaled up or down in no time"
   ]
  },
  {
   "cell_type": "markdown",
   "id": "21dea6fb",
   "metadata": {
    "papermill": {
     "duration": 0.013496,
     "end_time": "2022-03-28T12:38:21.299230",
     "exception": false,
     "start_time": "2022-03-28T12:38:21.285734",
     "status": "completed"
    },
    "tags": []
   },
   "source": [
    "`We have covered required Theory lets create an account on AWS` "
   ]
  },
  {
   "cell_type": "markdown",
   "id": "3337f447",
   "metadata": {
    "papermill": {
     "duration": 0.01279,
     "end_time": "2022-03-28T12:38:21.325253",
     "exception": false,
     "start_time": "2022-03-28T12:38:21.312463",
     "status": "completed"
    },
    "tags": []
   },
   "source": [
    "<center> <h5 style=\"background-color:orange; color:white\" ><br>Framework + Fundamentals of AWS<br></h5></center>\n",
    "\n",
    "`AWS Instance`  ==> virtual machine[computer] of AWS\n",
    "1. **`Compute`**\n",
    "    1. `Factors` to consider before launching an Instance/ How to select a machine based on requirements in AWS??\n",
    "    2. How to `launch Linux Instance` in AWS?? [mostly used OS]\n",
    "    3. What are different `types of instances` in AWS??\n",
    "2. **`Networking`** ==> creating a private network for instance in AWS, so that only verifyied people can acess it\n",
    "    1. How to create `Virtual Private Cloud?` and What it is?\n",
    "    2. Different `Network Access Control List?` and What are they?\n",
    "    3. `Security Groups` ==> How to `create Virtual Firewall for Instances?` i.e Security Groups\n",
    "3. **`Security`** ==> decide either AWS will mantain security for us or we by ourself will work on security factors\n",
    "    1. How to `work on Share Responsibility Model`? ==> helps in deciding who will take care of security OWNER or AWS\n",
    "    2. How to `share only required things with group`?\n",
    "        1. IAM Groups\n",
    "        2. IAM Roles\n",
    "        3. IAM Policies\n",
    "    3. Some `other Security Services`\n",
    "4. **`Storage`**\n",
    "    1. What are `different types of storage` and When `to choose which one` on AWS?\n",
    "        1. Block-level Storage \n",
    "        2. Files-level Storage\n",
    "        3. Object-level Storage\n",
    "5. **`DataBase`**\n",
    "    1. What are different types of DataBases on AWS?\n",
    "        1. Relational DataBases Services\n",
    "            1. MySQL, Oracle etc\n",
    "    3. AWS managed Relational DataBase?\n",
    "        1. `Amazon Aurora`\n",
    "    4. NoSQL DataBases Service in AWS\n",
    "        1. `DynamoDB`\n",
    "6. **`Data Warehouse`** \n",
    "    1. What is the Architecture of Data Warehouse?\n",
    "    2. Data Warehouse managed by AWS?\n",
    "        1. Redshift and it's Features\n",
    "    3. When to use Redshift?\n",
    "7. **`Auto Scaling`**\n",
    "    1. What is `Auto Scaling`?\n",
    "    2. How to perform it on AWS?\n",
    "    3. What is `Load Balancer`?"
   ]
  },
  {
   "cell_type": "markdown",
   "id": "74da7f0c",
   "metadata": {
    "papermill": {
     "duration": 0.012939,
     "end_time": "2022-03-28T12:38:21.351409",
     "exception": false,
     "start_time": "2022-03-28T12:38:21.338470",
     "status": "completed"
    },
    "tags": []
   },
   "source": [
    "<center> <h5 style=\"background-color:orange; color:white\" ><br>Factors to Consider Before Instance Launch<br></h5></center>\n",
    "\n",
    "`Key` ==> `Complete your work` in `minimum cost`\n",
    "\n",
    "1. **`Location Factor`** ==> different location have different pricing factors/structures\n",
    "    * AWS have datacenters at multiple location all over this world\n",
    "2. **`OS Factor`**==> windo, linux or mac os instance\n",
    "3. **`Compute power & Memory Factor`**\n",
    "    * Requirements of Virtual CPU's\n",
    "    * Requirement of RAM\n",
    "    * Requirement of GPU\n",
    "4. **`Storage Factor`**\n",
    "    * Required Storage to complete work [it can be expended any time]\n",
    "    * Required Type of Storage : HDD or SDD\n",
    "5. **`Pricing Strategies`**\n",
    "    * Know all different pricing strategies given by AWS if possible \n",
    "    * Any discount if take more instances"
   ]
  },
  {
   "cell_type": "markdown",
   "id": "9bfab1f3",
   "metadata": {
    "papermill": {
     "duration": 0.012846,
     "end_time": "2022-03-28T12:38:21.377357",
     "exception": false,
     "start_time": "2022-03-28T12:38:21.364511",
     "status": "completed"
    },
    "tags": []
   },
   "source": [
    "**`Point to Remember`**\n",
    "* AWS builds regions in locations where business traffic-demand is very high\n",
    "* Multiple data centers inside a single region are connected through a high-speed fiber network\n",
    "* Data stored inside a single region is isolated from every other region\n",
    "* Single Region can have multiple availability zones\n",
    "\n",
    "`Foctors to consider before selecting a Region for AWS resources`\n",
    "* Pricing and Taxes\n",
    "* Proximity to customers\n",
    "* Availability of services inside a region\n",
    "\n",
    "**`EDGE POINTS`** <br>\n",
    "Site that AWS uses to store cached copies of user data to remote locations closer to customers ==> That physical site is known as `EDGE POINTS`"
   ]
  },
  {
   "cell_type": "markdown",
   "id": "ca58c10f",
   "metadata": {
    "papermill": {
     "duration": 0.012823,
     "end_time": "2022-03-28T12:38:21.403414",
     "exception": false,
     "start_time": "2022-03-28T12:38:21.390591",
     "status": "completed"
    },
    "tags": []
   },
   "source": [
    "<center> <h5 style=\"background-color:orange; color:white\" ><br>Amazon EC2--[Elastic Compute Cloud]<br></h5></center>\n",
    "\n",
    "A AWS Cloude computing Environment <br>\n",
    "\n",
    "`Features of EC2` <br>\n",
    "* select a pre-configured instance and run instantly ==> single click can pause and run our EC2 instances\n",
    "* Easy GUI to monitor instances\n",
    "* run your instances in multiple location over globe\n",
    "* GPU are also available for ML, DL or graphical processing purposes"
   ]
  },
  {
   "cell_type": "markdown",
   "id": "355a10b4",
   "metadata": {
    "papermill": {
     "duration": 0.012682,
     "end_time": "2022-03-28T12:38:21.429357",
     "exception": false,
     "start_time": "2022-03-28T12:38:21.416675",
     "status": "completed"
    },
    "tags": []
   },
   "source": [
    "<center> <h5 style=\"background-color:orange; color:white\" ><br>Amazon EC2 Instance Types<br></h5></center>\n",
    "\n",
    "[EC2 Instance Types](https://aws.amazon.com/ec2/instance-types/)\n",
    "\n",
    "Based on different types of \n",
    "1. `OS` ==> Mac,Linux,Windows\n",
    "2. `Compute Power` ==> vCPU,Ram,GPU\n",
    "3. `Memory` ==> HDD or SDD\n",
    "\n",
    "we have 5 types of EC2 Instances\n",
    "1. `General Purpose`\n",
    "2. `Compute Optimized`\n",
    "3. `Memory Optimized`\n",
    "4. `Accelerated Computing`\n",
    "5. `Storage Optimized` "
   ]
  },
  {
   "cell_type": "markdown",
   "id": "29373e70",
   "metadata": {
    "papermill": {
     "duration": 0.012568,
     "end_time": "2022-03-28T12:38:21.454834",
     "exception": false,
     "start_time": "2022-03-28T12:38:21.442266",
     "status": "completed"
    },
    "tags": []
   },
   "source": [
    "\n",
    "* EC2 Instance\n",
    "* Types\n",
    "* Pricing Strategies\n",
    "* Pricing Calculator\n",
    "* Launching EC2 Instance\n",
    "* Installing Jupyter on EC2 Instance\n",
    "* Creating AMI -- Amazon Machine Image\n",
    "    * Networking\n",
    "    * Compute Service\n",
    "* VPC -- Virtual Private Cloude\n",
    "* NACL -- Network Access Control List ==> Creating It??\n",
    "* How to create Security Group? ==> NACL + Security Group\n",
    "* Shared responsibility model\n",
    "* Identity and Access Management [IAM User Account Creation? + How to make IAM Policy? + How to create IAM groups? + IAM Roles?]\n",
    "* Security Services [AWS shield and WAF -- Web Application Firewall + AWS Inspector and KMS -- Key Management Service] \n",
    "\n",
    "\n",
    "1. Storage Type\n",
    "    1. EBS -- Elastic Block Storage [How to use it?]\n",
    "    2. EFS -- Elastic File System [How to use it?]\n",
    "2. S3 -- Storage Service\n",
    "    1. Creating S3 Bucket [using CLI]\n",
    "    2. S3 Bucket [Policy, Classes, Policies]"
   ]
  },
  {
   "cell_type": "markdown",
   "id": "c7e67ba8",
   "metadata": {
    "papermill": {
     "duration": 0.012971,
     "end_time": "2022-03-28T12:38:21.481926",
     "exception": false,
     "start_time": "2022-03-28T12:38:21.468955",
     "status": "completed"
    },
    "tags": []
   },
   "source": [
    "* Amazon Aurora [using RDS -- Relational Database Services]\n",
    "    * DynamoDB\n",
    "* Data Ware House [Redsift Working + Columnar Storage] \n",
    "* Redsift Clusters [Loading data from S3 to Redsift + Auto Scaling + Load Balancing]\n",
    "* AWS Lambda [API's using Lambda Functions + API with Params]"
   ]
  },
  {
   "cell_type": "markdown",
   "id": "00a2701a",
   "metadata": {
    "papermill": {
     "duration": 0.012735,
     "end_time": "2022-03-28T12:38:21.508502",
     "exception": false,
     "start_time": "2022-03-28T12:38:21.495767",
     "status": "completed"
    },
    "tags": []
   },
   "source": [
    "Deployment of some Projects using Streamlit and AWS"
   ]
  },
  {
   "cell_type": "markdown",
   "id": "71732115",
   "metadata": {
    "papermill": {
     "duration": 0.012918,
     "end_time": "2022-03-28T12:38:21.534488",
     "exception": false,
     "start_time": "2022-03-28T12:38:21.521570",
     "status": "completed"
    },
    "tags": []
   },
   "source": [
    "<center> <h5 style=\"background-color:orange; color:white\" ><br>Deployment Models<br></h5></center>"
   ]
  },
  {
   "cell_type": "code",
   "execution_count": 1,
   "id": "b3c75b89",
   "metadata": {
    "_cell_guid": "b1076dfc-b9ad-4769-8c92-a6c4dae69d19",
    "_uuid": "8f2839f25d086af736a60e9eeb907d3b93b6e0e5",
    "execution": {
     "iopub.execute_input": "2022-03-28T12:38:21.568045Z",
     "iopub.status.busy": "2022-03-28T12:38:21.566141Z",
     "iopub.status.idle": "2022-03-28T12:38:21.577631Z",
     "shell.execute_reply": "2022-03-28T12:38:21.578177Z"
    },
    "papermill": {
     "duration": 0.03083,
     "end_time": "2022-03-28T12:38:21.578504",
     "exception": false,
     "start_time": "2022-03-28T12:38:21.547674",
     "status": "completed"
    },
    "tags": []
   },
   "outputs": [],
   "source": [
    "import os\n",
    "for dirname, _, filenames in os.walk('/kaggle/input'):\n",
    "    for filename in filenames:\n",
    "        print(os.path.join(dirname, filename))"
   ]
  },
  {
   "cell_type": "code",
   "execution_count": 2,
   "id": "074f5aeb",
   "metadata": {
    "execution": {
     "iopub.execute_input": "2022-03-28T12:38:21.609613Z",
     "iopub.status.busy": "2022-03-28T12:38:21.608642Z",
     "iopub.status.idle": "2022-03-28T12:38:21.612192Z",
     "shell.execute_reply": "2022-03-28T12:38:21.612797Z",
     "shell.execute_reply.started": "2022-03-18T15:13:57.387267Z"
    },
    "papermill": {
     "duration": 0.020789,
     "end_time": "2022-03-28T12:38:21.612965",
     "exception": false,
     "start_time": "2022-03-28T12:38:21.592176",
     "status": "completed"
    },
    "tags": []
   },
   "outputs": [],
   "source": [
    "import numpy as np\n",
    "import pandas as pd"
   ]
  },
  {
   "cell_type": "code",
   "execution_count": null,
   "id": "0a1c3d79",
   "metadata": {
    "papermill": {
     "duration": 0.013127,
     "end_time": "2022-03-28T12:38:21.639621",
     "exception": false,
     "start_time": "2022-03-28T12:38:21.626494",
     "status": "completed"
    },
    "tags": []
   },
   "outputs": [],
   "source": []
  }
 ],
 "metadata": {
  "kernelspec": {
   "display_name": "Python 3",
   "language": "python",
   "name": "python3"
  },
  "language_info": {
   "codemirror_mode": {
    "name": "ipython",
    "version": 3
   },
   "file_extension": ".py",
   "mimetype": "text/x-python",
   "name": "python",
   "nbconvert_exporter": "python",
   "pygments_lexer": "ipython3",
   "version": "3.7.12"
  },
  "papermill": {
   "default_parameters": {},
   "duration": 12.008375,
   "end_time": "2022-03-28T12:38:22.262208",
   "environment_variables": {},
   "exception": null,
   "input_path": "__notebook__.ipynb",
   "output_path": "__notebook__.ipynb",
   "parameters": {},
   "start_time": "2022-03-28T12:38:10.253833",
   "version": "2.3.3"
  }
 },
 "nbformat": 4,
 "nbformat_minor": 5
}
