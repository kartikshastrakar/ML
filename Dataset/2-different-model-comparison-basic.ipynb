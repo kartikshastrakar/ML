{
 "cells": [
  {
   "cell_type": "markdown",
   "id": "872631fb",
   "metadata": {
    "papermill": {
     "duration": 0.051678,
     "end_time": "2021-11-08T07:13:10.511886",
     "exception": false,
     "start_time": "2021-11-08T07:13:10.460208",
     "status": "completed"
    },
    "tags": []
   },
   "source": [
    "# This is second notebook => [first notebook with EDA](https://www.kaggle.com/mukeshmanral/eda-diff-model-merchandise-popularity/edit/run/77340531)"
   ]
  },
  {
   "cell_type": "code",
   "execution_count": 1,
   "id": "2ed08cf2",
   "metadata": {
    "_cell_guid": "b1076dfc-b9ad-4769-8c92-a6c4dae69d19",
    "_uuid": "8f2839f25d086af736a60e9eeb907d3b93b6e0e5",
    "execution": {
     "iopub.execute_input": "2021-11-08T07:13:10.613436Z",
     "iopub.status.busy": "2021-11-08T07:13:10.612137Z",
     "iopub.status.idle": "2021-11-08T07:13:10.637847Z",
     "shell.execute_reply": "2021-11-08T07:13:10.638872Z",
     "shell.execute_reply.started": "2021-11-08T06:56:57.639660Z"
    },
    "papermill": {
     "duration": 0.079158,
     "end_time": "2021-11-08T07:13:10.639479",
     "exception": false,
     "start_time": "2021-11-08T07:13:10.560321",
     "status": "completed"
    },
    "tags": []
   },
   "outputs": [
    {
     "name": "stdout",
     "output_type": "stream",
     "text": [
      "/kaggle/input/machinehack-ml-merchandise-popularity-prediction/MPP_Dataset/sample_submission.csv\n",
      "/kaggle/input/machinehack-ml-merchandise-popularity-prediction/MPP_Dataset/Train.csv\n",
      "/kaggle/input/machinehack-ml-merchandise-popularity-prediction/MPP_Dataset/Test.csv\n"
     ]
    }
   ],
   "source": [
    "# This Python 3 environment comes with many helpful analytics libraries installed\n",
    "# It is defined by the kaggle/python Docker image: https://github.com/kaggle/docker-python\n",
    "# For example, here's several helpful packages to load\n",
    "\n",
    "import numpy as np # linear algebra\n",
    "import pandas as pd # data processing, CSV file I/O (e.g. pd.read_csv)\n",
    "\n",
    "# Input data files are available in the read-only \"../input/\" directory\n",
    "# For example, running this (by clicking run or pressing Shift+Enter) will list all files under the input directory\n",
    "\n",
    "import os\n",
    "for dirname, _, filenames in os.walk('/kaggle/input'):\n",
    "    for filename in filenames:\n",
    "        print(os.path.join(dirname, filename))\n",
    "\n",
    "# You can write up to 20GB to the current directory (/kaggle/working/) that gets preserved as output when you create a version using \"Save & Run All\" \n",
    "# You can also write temporary files to /kaggle/temp/, but they won't be saved outside of the current session"
   ]
  },
  {
   "cell_type": "code",
   "execution_count": 2,
   "id": "f22c58f8",
   "metadata": {
    "execution": {
     "iopub.execute_input": "2021-11-08T07:13:10.742650Z",
     "iopub.status.busy": "2021-11-08T07:13:10.741955Z",
     "iopub.status.idle": "2021-11-08T07:13:11.883527Z",
     "shell.execute_reply": "2021-11-08T07:13:11.882769Z",
     "shell.execute_reply.started": "2021-11-08T06:56:57.679033Z"
    },
    "papermill": {
     "duration": 1.193422,
     "end_time": "2021-11-08T07:13:11.883715",
     "exception": false,
     "start_time": "2021-11-08T07:13:10.690293",
     "status": "completed"
    },
    "tags": []
   },
   "outputs": [],
   "source": [
    "import seaborn as sns\n",
    "from matplotlib import pylab\n",
    "import matplotlib.pyplot as plt\n",
    "from sklearn.metrics import accuracy_score,log_loss\n",
    "import warnings\n",
    "warnings.filterwarnings('ignore')"
   ]
  },
  {
   "cell_type": "code",
   "execution_count": 3,
   "id": "70576ad7",
   "metadata": {
    "execution": {
     "iopub.execute_input": "2021-11-08T07:13:11.989985Z",
     "iopub.status.busy": "2021-11-08T07:13:11.988914Z",
     "iopub.status.idle": "2021-11-08T07:13:12.100916Z",
     "shell.execute_reply": "2021-11-08T07:13:12.100137Z",
     "shell.execute_reply.started": "2021-11-08T06:56:58.772119Z"
    },
    "papermill": {
     "duration": 0.165568,
     "end_time": "2021-11-08T07:13:12.101105",
     "exception": false,
     "start_time": "2021-11-08T07:13:11.935537",
     "status": "completed"
    },
    "tags": []
   },
   "outputs": [],
   "source": [
    "train_df = pd.read_csv('../input/machinehack-ml-merchandise-popularity-prediction/MPP_Dataset/Train.csv')\n",
    "test_df = pd.read_csv('../input/machinehack-ml-merchandise-popularity-prediction/MPP_Dataset/Test.csv')"
   ]
  },
  {
   "cell_type": "code",
   "execution_count": 4,
   "id": "57546d8e",
   "metadata": {
    "execution": {
     "iopub.execute_input": "2021-11-08T07:13:12.205236Z",
     "iopub.status.busy": "2021-11-08T07:13:12.204200Z",
     "iopub.status.idle": "2021-11-08T07:13:12.230710Z",
     "shell.execute_reply": "2021-11-08T07:13:12.231253Z",
     "shell.execute_reply.started": "2021-11-08T06:56:58.894034Z"
    },
    "papermill": {
     "duration": 0.080211,
     "end_time": "2021-11-08T07:13:12.231480",
     "exception": false,
     "start_time": "2021-11-08T07:13:12.151269",
     "status": "completed"
    },
    "tags": []
   },
   "outputs": [
    {
     "data": {
      "text/html": [
       "<div>\n",
       "<style scoped>\n",
       "    .dataframe tbody tr th:only-of-type {\n",
       "        vertical-align: middle;\n",
       "    }\n",
       "\n",
       "    .dataframe tbody tr th {\n",
       "        vertical-align: top;\n",
       "    }\n",
       "\n",
       "    .dataframe thead th {\n",
       "        text-align: right;\n",
       "    }\n",
       "</style>\n",
       "<table border=\"1\" class=\"dataframe\">\n",
       "  <thead>\n",
       "    <tr style=\"text-align: right;\">\n",
       "      <th></th>\n",
       "      <th>Store_Ratio</th>\n",
       "      <th>Basket_Ratio</th>\n",
       "      <th>Category_1</th>\n",
       "      <th>Store_Score</th>\n",
       "      <th>Category_2</th>\n",
       "      <th>Store_Presence</th>\n",
       "      <th>Score_1</th>\n",
       "      <th>Score_2</th>\n",
       "      <th>Score_3</th>\n",
       "      <th>Score_4</th>\n",
       "      <th>time</th>\n",
       "      <th>popularity</th>\n",
       "    </tr>\n",
       "  </thead>\n",
       "  <tbody>\n",
       "    <tr>\n",
       "      <th>0</th>\n",
       "      <td>0.407</td>\n",
       "      <td>0.00380</td>\n",
       "      <td>2</td>\n",
       "      <td>-35.865</td>\n",
       "      <td>1</td>\n",
       "      <td>0.9920</td>\n",
       "      <td>0.944</td>\n",
       "      <td>0.0988</td>\n",
       "      <td>0.1100</td>\n",
       "      <td>113.911</td>\n",
       "      <td>189125</td>\n",
       "      <td>4</td>\n",
       "    </tr>\n",
       "    <tr>\n",
       "      <th>1</th>\n",
       "      <td>0.234</td>\n",
       "      <td>0.10500</td>\n",
       "      <td>0</td>\n",
       "      <td>-19.884</td>\n",
       "      <td>1</td>\n",
       "      <td>0.9440</td>\n",
       "      <td>0.900</td>\n",
       "      <td>0.1290</td>\n",
       "      <td>0.0382</td>\n",
       "      <td>76.332</td>\n",
       "      <td>186513</td>\n",
       "      <td>4</td>\n",
       "    </tr>\n",
       "    <tr>\n",
       "      <th>2</th>\n",
       "      <td>0.668</td>\n",
       "      <td>0.72600</td>\n",
       "      <td>9</td>\n",
       "      <td>-7.512</td>\n",
       "      <td>1</td>\n",
       "      <td>0.0387</td>\n",
       "      <td>0.000</td>\n",
       "      <td>0.1340</td>\n",
       "      <td>0.4530</td>\n",
       "      <td>124.075</td>\n",
       "      <td>172143</td>\n",
       "      <td>4</td>\n",
       "    </tr>\n",
       "    <tr>\n",
       "      <th>3</th>\n",
       "      <td>0.184</td>\n",
       "      <td>0.00561</td>\n",
       "      <td>4</td>\n",
       "      <td>-34.357</td>\n",
       "      <td>1</td>\n",
       "      <td>0.8490</td>\n",
       "      <td>0.931</td>\n",
       "      <td>0.1110</td>\n",
       "      <td>0.0641</td>\n",
       "      <td>79.037</td>\n",
       "      <td>184000</td>\n",
       "      <td>5</td>\n",
       "    </tr>\n",
       "    <tr>\n",
       "      <th>4</th>\n",
       "      <td>0.231</td>\n",
       "      <td>0.13100</td>\n",
       "      <td>6</td>\n",
       "      <td>-22.842</td>\n",
       "      <td>1</td>\n",
       "      <td>0.9370</td>\n",
       "      <td>0.000</td>\n",
       "      <td>0.1090</td>\n",
       "      <td>0.0677</td>\n",
       "      <td>109.560</td>\n",
       "      <td>186507</td>\n",
       "      <td>3</td>\n",
       "    </tr>\n",
       "  </tbody>\n",
       "</table>\n",
       "</div>"
      ],
      "text/plain": [
       "   Store_Ratio  Basket_Ratio  Category_1  Store_Score  Category_2  \\\n",
       "0        0.407       0.00380           2      -35.865           1   \n",
       "1        0.234       0.10500           0      -19.884           1   \n",
       "2        0.668       0.72600           9       -7.512           1   \n",
       "3        0.184       0.00561           4      -34.357           1   \n",
       "4        0.231       0.13100           6      -22.842           1   \n",
       "\n",
       "   Store_Presence  Score_1  Score_2  Score_3  Score_4    time  popularity  \n",
       "0          0.9920    0.944   0.0988   0.1100  113.911  189125           4  \n",
       "1          0.9440    0.900   0.1290   0.0382   76.332  186513           4  \n",
       "2          0.0387    0.000   0.1340   0.4530  124.075  172143           4  \n",
       "3          0.8490    0.931   0.1110   0.0641   79.037  184000           5  \n",
       "4          0.9370    0.000   0.1090   0.0677  109.560  186507           3  "
      ]
     },
     "execution_count": 4,
     "metadata": {},
     "output_type": "execute_result"
    }
   ],
   "source": [
    "train_df.head()"
   ]
  },
  {
   "cell_type": "code",
   "execution_count": 5,
   "id": "69d7f002",
   "metadata": {
    "execution": {
     "iopub.execute_input": "2021-11-08T07:13:12.435211Z",
     "iopub.status.busy": "2021-11-08T07:13:12.434308Z",
     "iopub.status.idle": "2021-11-08T07:13:12.437482Z",
     "shell.execute_reply": "2021-11-08T07:13:12.438000Z",
     "shell.execute_reply.started": "2021-11-08T06:56:58.920042Z"
    },
    "papermill": {
     "duration": 0.06992,
     "end_time": "2021-11-08T07:13:12.438199",
     "exception": false,
     "start_time": "2021-11-08T07:13:12.368279",
     "status": "completed"
    },
    "tags": []
   },
   "outputs": [
    {
     "data": {
      "text/html": [
       "<div>\n",
       "<style scoped>\n",
       "    .dataframe tbody tr th:only-of-type {\n",
       "        vertical-align: middle;\n",
       "    }\n",
       "\n",
       "    .dataframe tbody tr th {\n",
       "        vertical-align: top;\n",
       "    }\n",
       "\n",
       "    .dataframe thead th {\n",
       "        text-align: right;\n",
       "    }\n",
       "</style>\n",
       "<table border=\"1\" class=\"dataframe\">\n",
       "  <thead>\n",
       "    <tr style=\"text-align: right;\">\n",
       "      <th></th>\n",
       "      <th>Store_Ratio</th>\n",
       "      <th>Basket_Ratio</th>\n",
       "      <th>Category_1</th>\n",
       "      <th>Store_Score</th>\n",
       "      <th>Category_2</th>\n",
       "      <th>Store_Presence</th>\n",
       "      <th>Score_1</th>\n",
       "      <th>Score_2</th>\n",
       "      <th>Score_3</th>\n",
       "      <th>Score_4</th>\n",
       "      <th>time</th>\n",
       "    </tr>\n",
       "  </thead>\n",
       "  <tbody>\n",
       "    <tr>\n",
       "      <th>0</th>\n",
       "      <td>0.164</td>\n",
       "      <td>0.994</td>\n",
       "      <td>1</td>\n",
       "      <td>-23.718</td>\n",
       "      <td>0</td>\n",
       "      <td>0.12400</td>\n",
       "      <td>0.99100</td>\n",
       "      <td>0.7890</td>\n",
       "      <td>0.00001</td>\n",
       "      <td>127.602</td>\n",
       "      <td>236436</td>\n",
       "    </tr>\n",
       "    <tr>\n",
       "      <th>1</th>\n",
       "      <td>0.586</td>\n",
       "      <td>0.636</td>\n",
       "      <td>4</td>\n",
       "      <td>-7.710</td>\n",
       "      <td>1</td>\n",
       "      <td>0.00208</td>\n",
       "      <td>0.32200</td>\n",
       "      <td>0.1070</td>\n",
       "      <td>0.35500</td>\n",
       "      <td>136.337</td>\n",
       "      <td>253631</td>\n",
       "    </tr>\n",
       "    <tr>\n",
       "      <th>2</th>\n",
       "      <td>0.457</td>\n",
       "      <td>0.743</td>\n",
       "      <td>0</td>\n",
       "      <td>-7.591</td>\n",
       "      <td>1</td>\n",
       "      <td>0.40400</td>\n",
       "      <td>0.00931</td>\n",
       "      <td>0.2010</td>\n",
       "      <td>0.68800</td>\n",
       "      <td>154.902</td>\n",
       "      <td>215669</td>\n",
       "    </tr>\n",
       "    <tr>\n",
       "      <th>3</th>\n",
       "      <td>0.423</td>\n",
       "      <td>0.748</td>\n",
       "      <td>5</td>\n",
       "      <td>-9.832</td>\n",
       "      <td>1</td>\n",
       "      <td>0.03000</td>\n",
       "      <td>0.22100</td>\n",
       "      <td>0.1690</td>\n",
       "      <td>0.42800</td>\n",
       "      <td>93.977</td>\n",
       "      <td>325200</td>\n",
       "    </tr>\n",
       "    <tr>\n",
       "      <th>4</th>\n",
       "      <td>0.802</td>\n",
       "      <td>0.756</td>\n",
       "      <td>2</td>\n",
       "      <td>-10.791</td>\n",
       "      <td>0</td>\n",
       "      <td>0.08430</td>\n",
       "      <td>0.00765</td>\n",
       "      <td>0.0521</td>\n",
       "      <td>0.96300</td>\n",
       "      <td>131.715</td>\n",
       "      <td>288293</td>\n",
       "    </tr>\n",
       "  </tbody>\n",
       "</table>\n",
       "</div>"
      ],
      "text/plain": [
       "   Store_Ratio  Basket_Ratio  Category_1  Store_Score  Category_2  \\\n",
       "0        0.164         0.994           1      -23.718           0   \n",
       "1        0.586         0.636           4       -7.710           1   \n",
       "2        0.457         0.743           0       -7.591           1   \n",
       "3        0.423         0.748           5       -9.832           1   \n",
       "4        0.802         0.756           2      -10.791           0   \n",
       "\n",
       "   Store_Presence  Score_1  Score_2  Score_3  Score_4    time  \n",
       "0         0.12400  0.99100   0.7890  0.00001  127.602  236436  \n",
       "1         0.00208  0.32200   0.1070  0.35500  136.337  253631  \n",
       "2         0.40400  0.00931   0.2010  0.68800  154.902  215669  \n",
       "3         0.03000  0.22100   0.1690  0.42800   93.977  325200  \n",
       "4         0.08430  0.00765   0.0521  0.96300  131.715  288293  "
      ]
     },
     "execution_count": 5,
     "metadata": {},
     "output_type": "execute_result"
    }
   ],
   "source": [
    "test_df.head()"
   ]
  },
  {
   "cell_type": "markdown",
   "id": "b9615294",
   "metadata": {
    "papermill": {
     "duration": 0.049764,
     "end_time": "2021-11-08T07:13:12.538060",
     "exception": false,
     "start_time": "2021-11-08T07:13:12.488296",
     "status": "completed"
    },
    "tags": []
   },
   "source": [
    "I am not goign to perform EDA again in this notebook if you are intrusted  in deep EDA you can visit my other notebook"
   ]
  },
  {
   "cell_type": "markdown",
   "id": "8360a164",
   "metadata": {
    "papermill": {
     "duration": 0.051368,
     "end_time": "2021-11-08T07:13:12.639508",
     "exception": false,
     "start_time": "2021-11-08T07:13:12.588140",
     "status": "completed"
    },
    "tags": []
   },
   "source": [
    "# Preprocessing"
   ]
  },
  {
   "cell_type": "code",
   "execution_count": 6,
   "id": "a5ac7256",
   "metadata": {
    "execution": {
     "iopub.execute_input": "2021-11-08T07:13:12.746143Z",
     "iopub.status.busy": "2021-11-08T07:13:12.745003Z",
     "iopub.status.idle": "2021-11-08T07:13:12.782207Z",
     "shell.execute_reply": "2021-11-08T07:13:12.782782Z",
     "shell.execute_reply.started": "2021-11-08T06:56:58.937879Z"
    },
    "papermill": {
     "duration": 0.092489,
     "end_time": "2021-11-08T07:13:12.783016",
     "exception": false,
     "start_time": "2021-11-08T07:13:12.690527",
     "status": "completed"
    },
    "tags": []
   },
   "outputs": [],
   "source": [
    "#convert the time column into more columns like hour, month, day, year , minute\n",
    "train_df['minute'] = pd.to_datetime(train_df['time'].astype(int),unit='s').dt.minute\n",
    "train_df['hour'] = pd.to_datetime(train_df['time'].astype(int),unit='s').dt.hour\n",
    "train_df['day'] = pd.to_datetime(train_df['time'].astype(int),unit='s').dt.day\n",
    "train_df['month'] = pd.to_datetime(train_df['time'].astype(int),unit='s').dt.month\n",
    "train_df['year'] = pd.to_datetime(train_df['time'].astype(int),unit='s').dt.year"
   ]
  },
  {
   "cell_type": "code",
   "execution_count": 7,
   "id": "3ddd5f0b",
   "metadata": {
    "execution": {
     "iopub.execute_input": "2021-11-08T07:13:12.895642Z",
     "iopub.status.busy": "2021-11-08T07:13:12.894845Z",
     "iopub.status.idle": "2021-11-08T07:13:12.903597Z",
     "shell.execute_reply": "2021-11-08T07:13:12.904264Z",
     "shell.execute_reply.started": "2021-11-08T06:56:58.972435Z"
    },
    "papermill": {
     "duration": 0.068194,
     "end_time": "2021-11-08T07:13:12.904488",
     "exception": false,
     "start_time": "2021-11-08T07:13:12.836294",
     "status": "completed"
    },
    "tags": []
   },
   "outputs": [],
   "source": [
    "# drop popularity from train_df and name that variable as y\n",
    "#drop popularity n time from train dataset\n",
    "y = train_df.popularity\n",
    "train_df = train_df.drop(['popularity','time'],1)"
   ]
  },
  {
   "cell_type": "markdown",
   "id": "9be77a26",
   "metadata": {
    "papermill": {
     "duration": 0.050347,
     "end_time": "2021-11-08T07:13:13.005199",
     "exception": false,
     "start_time": "2021-11-08T07:13:12.954852",
     "status": "completed"
    },
    "tags": []
   },
   "source": [
    "# Scaling and Why do it??\n",
    "* Real time dataset will contain features highly varying in magnitudes, units and range\n",
    "* Most of the machine learning algorithms use Euclidean distance between two data points in their computations, this is a problem\n",
    "* If left alone these algorithms only take in magnitude of features neglecting units\n",
    "* Results would vary greatly between different units, 5kg and 5000gms\n",
    "* Features with high magnitudes will weigh in a lot more in distance calculations than features with low magnitudes\n",
    "\n",
    "`To suppress this effect, we need to bring all features to same level of magnitudes and this can be achieved by scaling`"
   ]
  },
  {
   "cell_type": "markdown",
   "id": "47c6333c",
   "metadata": {
    "execution": {
     "iopub.execute_input": "2021-10-30T06:03:49.008521Z",
     "iopub.status.busy": "2021-10-30T06:03:49.008148Z",
     "iopub.status.idle": "2021-10-30T06:03:49.014418Z",
     "shell.execute_reply": "2021-10-30T06:03:49.013528Z",
     "shell.execute_reply.started": "2021-10-30T06:03:49.008483Z"
    },
    "papermill": {
     "duration": 0.05476,
     "end_time": "2021-11-08T07:13:13.111735",
     "exception": false,
     "start_time": "2021-11-08T07:13:13.056975",
     "status": "completed"
    },
    "tags": []
   },
   "source": [
    "# Min Max Scaling\n",
    "\n",
    "Variables that are measured at different scales do not contribute equally to the model fitting & model learned function and might end up creating a bias\n",
    "\n",
    "To deal with this potential problem feature-wise normalization such as MinMax Scaling is usually used prior to model fitting."
   ]
  },
  {
   "cell_type": "code",
   "execution_count": 8,
   "id": "d0bbe3a4",
   "metadata": {
    "execution": {
     "iopub.execute_input": "2021-11-08T07:13:13.226425Z",
     "iopub.status.busy": "2021-11-08T07:13:13.225676Z",
     "iopub.status.idle": "2021-11-08T07:13:13.228650Z",
     "shell.execute_reply": "2021-11-08T07:13:13.228066Z",
     "shell.execute_reply.started": "2021-11-08T06:56:58.986620Z"
    },
    "papermill": {
     "duration": 0.060708,
     "end_time": "2021-11-08T07:13:13.228831",
     "exception": false,
     "start_time": "2021-11-08T07:13:13.168123",
     "status": "completed"
    },
    "tags": []
   },
   "outputs": [],
   "source": [
    "# Helper function for scaling all the numerical data using MinMaxScalar\n",
    "def min_max_scaling(data,col_to_scale):\n",
    "    from numpy import asarray\n",
    "    from sklearn.preprocessing import MinMaxScaler\n",
    "    \n",
    "    scaler = MinMaxScaler()\n",
    "    data[col_to_scale] = scaler.fit_transform(data[col_to_scale])\n",
    "    return data"
   ]
  },
  {
   "cell_type": "code",
   "execution_count": 9,
   "id": "d88db07e",
   "metadata": {
    "execution": {
     "iopub.execute_input": "2021-11-08T07:13:13.333648Z",
     "iopub.status.busy": "2021-11-08T07:13:13.332942Z",
     "iopub.status.idle": "2021-11-08T07:13:13.350894Z",
     "shell.execute_reply": "2021-11-08T07:13:13.350275Z",
     "shell.execute_reply.started": "2021-11-08T06:56:58.995576Z"
    },
    "papermill": {
     "duration": 0.071741,
     "end_time": "2021-11-08T07:13:13.351068",
     "exception": false,
     "start_time": "2021-11-08T07:13:13.279327",
     "status": "completed"
    },
    "tags": []
   },
   "outputs": [
    {
     "data": {
      "text/html": [
       "<div>\n",
       "<style scoped>\n",
       "    .dataframe tbody tr th:only-of-type {\n",
       "        vertical-align: middle;\n",
       "    }\n",
       "\n",
       "    .dataframe tbody tr th {\n",
       "        vertical-align: top;\n",
       "    }\n",
       "\n",
       "    .dataframe thead th {\n",
       "        text-align: right;\n",
       "    }\n",
       "</style>\n",
       "<table border=\"1\" class=\"dataframe\">\n",
       "  <thead>\n",
       "    <tr style=\"text-align: right;\">\n",
       "      <th></th>\n",
       "      <th>Store_Ratio</th>\n",
       "      <th>Basket_Ratio</th>\n",
       "      <th>Category_1</th>\n",
       "      <th>Store_Score</th>\n",
       "      <th>Category_2</th>\n",
       "      <th>Store_Presence</th>\n",
       "      <th>Score_1</th>\n",
       "      <th>Score_2</th>\n",
       "      <th>Score_3</th>\n",
       "      <th>Score_4</th>\n",
       "      <th>minute</th>\n",
       "      <th>hour</th>\n",
       "      <th>day</th>\n",
       "      <th>month</th>\n",
       "      <th>year</th>\n",
       "    </tr>\n",
       "  </thead>\n",
       "  <tbody>\n",
       "    <tr>\n",
       "      <th>0</th>\n",
       "      <td>0.407</td>\n",
       "      <td>0.0038</td>\n",
       "      <td>2</td>\n",
       "      <td>-35.865</td>\n",
       "      <td>1</td>\n",
       "      <td>0.992</td>\n",
       "      <td>0.944</td>\n",
       "      <td>0.0988</td>\n",
       "      <td>0.1100</td>\n",
       "      <td>113.911</td>\n",
       "      <td>32</td>\n",
       "      <td>4</td>\n",
       "      <td>3</td>\n",
       "      <td>1</td>\n",
       "      <td>1970</td>\n",
       "    </tr>\n",
       "    <tr>\n",
       "      <th>1</th>\n",
       "      <td>0.234</td>\n",
       "      <td>0.1050</td>\n",
       "      <td>0</td>\n",
       "      <td>-19.884</td>\n",
       "      <td>1</td>\n",
       "      <td>0.944</td>\n",
       "      <td>0.900</td>\n",
       "      <td>0.1290</td>\n",
       "      <td>0.0382</td>\n",
       "      <td>76.332</td>\n",
       "      <td>48</td>\n",
       "      <td>3</td>\n",
       "      <td>3</td>\n",
       "      <td>1</td>\n",
       "      <td>1970</td>\n",
       "    </tr>\n",
       "  </tbody>\n",
       "</table>\n",
       "</div>"
      ],
      "text/plain": [
       "   Store_Ratio  Basket_Ratio  Category_1  Store_Score  Category_2  \\\n",
       "0        0.407        0.0038           2      -35.865           1   \n",
       "1        0.234        0.1050           0      -19.884           1   \n",
       "\n",
       "   Store_Presence  Score_1  Score_2  Score_3  Score_4  minute  hour  day  \\\n",
       "0           0.992    0.944   0.0988   0.1100  113.911      32     4    3   \n",
       "1           0.944    0.900   0.1290   0.0382   76.332      48     3    3   \n",
       "\n",
       "   month  year  \n",
       "0      1  1970  \n",
       "1      1  1970  "
      ]
     },
     "execution_count": 9,
     "metadata": {},
     "output_type": "execute_result"
    }
   ],
   "source": [
    "train_df.head(2)"
   ]
  },
  {
   "cell_type": "code",
   "execution_count": 10,
   "id": "0757bb7e",
   "metadata": {
    "execution": {
     "iopub.execute_input": "2021-11-08T07:13:13.463929Z",
     "iopub.status.busy": "2021-11-08T07:13:13.463104Z",
     "iopub.status.idle": "2021-11-08T07:13:13.475835Z",
     "shell.execute_reply": "2021-11-08T07:13:13.475012Z",
     "shell.execute_reply.started": "2021-11-08T06:56:59.018920Z"
    },
    "papermill": {
     "duration": 0.073773,
     "end_time": "2021-11-08T07:13:13.476052",
     "exception": false,
     "start_time": "2021-11-08T07:13:13.402279",
     "status": "completed"
    },
    "tags": []
   },
   "outputs": [],
   "source": [
    "# Making a list of the column names to be scaled \n",
    "col_to_scale = ['Store_Ratio','Basket_Ratio','Category_1','Store_Score','Category_2','Store_Presence','Score_1','Score_2','Score_3','Score_4']\n",
    "\n",
    "# passing data and column name for scaling\n",
    "X = min_max_scaling(train_df,col_to_scale)"
   ]
  },
  {
   "cell_type": "code",
   "execution_count": 11,
   "id": "5e74e729",
   "metadata": {
    "execution": {
     "iopub.execute_input": "2021-11-08T07:13:13.598176Z",
     "iopub.status.busy": "2021-11-08T07:13:13.583733Z",
     "iopub.status.idle": "2021-11-08T07:13:13.601906Z",
     "shell.execute_reply": "2021-11-08T07:13:13.602434Z",
     "shell.execute_reply.started": "2021-11-08T06:56:59.038603Z"
    },
    "papermill": {
     "duration": 0.074496,
     "end_time": "2021-11-08T07:13:13.602677",
     "exception": false,
     "start_time": "2021-11-08T07:13:13.528181",
     "status": "completed"
    },
    "tags": []
   },
   "outputs": [
    {
     "data": {
      "text/html": [
       "<div>\n",
       "<style scoped>\n",
       "    .dataframe tbody tr th:only-of-type {\n",
       "        vertical-align: middle;\n",
       "    }\n",
       "\n",
       "    .dataframe tbody tr th {\n",
       "        vertical-align: top;\n",
       "    }\n",
       "\n",
       "    .dataframe thead th {\n",
       "        text-align: right;\n",
       "    }\n",
       "</style>\n",
       "<table border=\"1\" class=\"dataframe\">\n",
       "  <thead>\n",
       "    <tr style=\"text-align: right;\">\n",
       "      <th></th>\n",
       "      <th>Store_Ratio</th>\n",
       "      <th>Basket_Ratio</th>\n",
       "      <th>Category_1</th>\n",
       "      <th>Store_Score</th>\n",
       "      <th>Category_2</th>\n",
       "      <th>Store_Presence</th>\n",
       "      <th>Score_1</th>\n",
       "      <th>Score_2</th>\n",
       "      <th>Score_3</th>\n",
       "      <th>Score_4</th>\n",
       "      <th>minute</th>\n",
       "      <th>hour</th>\n",
       "      <th>day</th>\n",
       "      <th>month</th>\n",
       "      <th>year</th>\n",
       "    </tr>\n",
       "  </thead>\n",
       "  <tbody>\n",
       "    <tr>\n",
       "      <th>0</th>\n",
       "      <td>0.407816</td>\n",
       "      <td>0.003585</td>\n",
       "      <td>0.181818</td>\n",
       "      <td>0.246563</td>\n",
       "      <td>1.0</td>\n",
       "      <td>0.995984</td>\n",
       "      <td>0.944</td>\n",
       "      <td>0.088755</td>\n",
       "      <td>0.110110</td>\n",
       "      <td>0.518482</td>\n",
       "      <td>32</td>\n",
       "      <td>4</td>\n",
       "      <td>3</td>\n",
       "      <td>1</td>\n",
       "      <td>1970</td>\n",
       "    </tr>\n",
       "    <tr>\n",
       "      <th>1</th>\n",
       "      <td>0.234469</td>\n",
       "      <td>0.104807</td>\n",
       "      <td>0.000000</td>\n",
       "      <td>0.583026</td>\n",
       "      <td>1.0</td>\n",
       "      <td>0.947791</td>\n",
       "      <td>0.900</td>\n",
       "      <td>0.119600</td>\n",
       "      <td>0.038238</td>\n",
       "      <td>0.347436</td>\n",
       "      <td>48</td>\n",
       "      <td>3</td>\n",
       "      <td>3</td>\n",
       "      <td>1</td>\n",
       "      <td>1970</td>\n",
       "    </tr>\n",
       "  </tbody>\n",
       "</table>\n",
       "</div>"
      ],
      "text/plain": [
       "   Store_Ratio  Basket_Ratio  Category_1  Store_Score  Category_2  \\\n",
       "0     0.407816      0.003585    0.181818     0.246563         1.0   \n",
       "1     0.234469      0.104807    0.000000     0.583026         1.0   \n",
       "\n",
       "   Store_Presence  Score_1   Score_2   Score_3   Score_4  minute  hour  day  \\\n",
       "0        0.995984    0.944  0.088755  0.110110  0.518482      32     4    3   \n",
       "1        0.947791    0.900  0.119600  0.038238  0.347436      48     3    3   \n",
       "\n",
       "   month  year  \n",
       "0      1  1970  \n",
       "1      1  1970  "
      ]
     },
     "execution_count": 11,
     "metadata": {},
     "output_type": "execute_result"
    }
   ],
   "source": [
    "X.head(2)"
   ]
  },
  {
   "cell_type": "code",
   "execution_count": 12,
   "id": "4aee4d8e",
   "metadata": {
    "execution": {
     "iopub.execute_input": "2021-11-08T07:13:13.712772Z",
     "iopub.status.busy": "2021-11-08T07:13:13.711918Z",
     "iopub.status.idle": "2021-11-08T07:13:13.717726Z",
     "shell.execute_reply": "2021-11-08T07:13:13.718251Z",
     "shell.execute_reply.started": "2021-11-08T06:56:59.056867Z"
    },
    "papermill": {
     "duration": 0.062508,
     "end_time": "2021-11-08T07:13:13.718475",
     "exception": false,
     "start_time": "2021-11-08T07:13:13.655967",
     "status": "completed"
    },
    "tags": []
   },
   "outputs": [
    {
     "data": {
      "text/plain": [
       "0    4\n",
       "1    4\n",
       "Name: popularity, dtype: int64"
      ]
     },
     "execution_count": 12,
     "metadata": {},
     "output_type": "execute_result"
    }
   ],
   "source": [
    "y.head(2)"
   ]
  },
  {
   "cell_type": "markdown",
   "id": "6aa5110b",
   "metadata": {
    "papermill": {
     "duration": 0.053769,
     "end_time": "2021-11-08T07:13:13.825373",
     "exception": false,
     "start_time": "2021-11-08T07:13:13.771604",
     "status": "completed"
    },
    "tags": []
   },
   "source": [
    "# Splitting data into train and test set"
   ]
  },
  {
   "cell_type": "code",
   "execution_count": 13,
   "id": "e54d1931",
   "metadata": {
    "execution": {
     "iopub.execute_input": "2021-11-08T07:13:13.935070Z",
     "iopub.status.busy": "2021-11-08T07:13:13.932926Z",
     "iopub.status.idle": "2021-11-08T07:13:13.954179Z",
     "shell.execute_reply": "2021-11-08T07:13:13.953523Z",
     "shell.execute_reply.started": "2021-11-08T06:56:59.071979Z"
    },
    "papermill": {
     "duration": 0.076361,
     "end_time": "2021-11-08T07:13:13.954350",
     "exception": false,
     "start_time": "2021-11-08T07:13:13.877989",
     "status": "completed"
    },
    "tags": []
   },
   "outputs": [],
   "source": [
    "# Import train_test_split from sklearn\n",
    "from sklearn.model_selection import train_test_split"
   ]
  },
  {
   "cell_type": "code",
   "execution_count": 14,
   "id": "73249469",
   "metadata": {
    "execution": {
     "iopub.execute_input": "2021-11-08T07:13:14.071977Z",
     "iopub.status.busy": "2021-11-08T07:13:14.071144Z",
     "iopub.status.idle": "2021-11-08T07:13:14.085529Z",
     "shell.execute_reply": "2021-11-08T07:13:14.086090Z",
     "shell.execute_reply.started": "2021-11-08T06:56:59.095524Z"
    },
    "papermill": {
     "duration": 0.077149,
     "end_time": "2021-11-08T07:13:14.086344",
     "exception": false,
     "start_time": "2021-11-08T07:13:14.009195",
     "status": "completed"
    },
    "tags": []
   },
   "outputs": [
    {
     "data": {
      "text/plain": [
       "((17297, 15), (911, 15), (17297,), (911,))"
      ]
     },
     "execution_count": 14,
     "metadata": {},
     "output_type": "execute_result"
    }
   ],
   "source": [
    "# split data into 95% train , 5% test and random state 42\n",
    "X_train,X_test,y_train,y_test = train_test_split(X,y,train_size=0.95,random_state=42)\n",
    "\n",
    "# check shape of X_train\n",
    "X_train.shape,X_test.shape,y_train.shape,y_test.shape"
   ]
  },
  {
   "cell_type": "markdown",
   "id": "6b27140f",
   "metadata": {
    "papermill": {
     "duration": 0.052088,
     "end_time": "2021-11-08T07:13:14.191789",
     "exception": false,
     "start_time": "2021-11-08T07:13:14.139701",
     "status": "completed"
    },
    "tags": []
   },
   "source": [
    "# Modelling"
   ]
  },
  {
   "cell_type": "code",
   "execution_count": 15,
   "id": "82086f4d",
   "metadata": {
    "execution": {
     "iopub.execute_input": "2021-11-08T07:13:14.303298Z",
     "iopub.status.busy": "2021-11-08T07:13:14.302582Z",
     "iopub.status.idle": "2021-11-08T07:13:14.307037Z",
     "shell.execute_reply": "2021-11-08T07:13:14.307609Z",
     "shell.execute_reply.started": "2021-11-08T06:56:59.112017Z"
    },
    "papermill": {
     "duration": 0.063655,
     "end_time": "2021-11-08T07:13:14.307885",
     "exception": false,
     "start_time": "2021-11-08T07:13:14.244230",
     "status": "completed"
    },
    "tags": []
   },
   "outputs": [],
   "source": [
    "# importing necessary libraries for geting metrics of models\n",
    "import math\n",
    "import sklearn.metrics as metrics\n",
    "from sklearn.metrics import median_absolute_error as MedAE,mean_absolute_error as MeanAE,r2_score as r2,accuracy_score,classification_report,confusion_matrix"
   ]
  },
  {
   "cell_type": "code",
   "execution_count": 16,
   "id": "41cb455a",
   "metadata": {
    "execution": {
     "iopub.execute_input": "2021-11-08T07:13:14.419916Z",
     "iopub.status.busy": "2021-11-08T07:13:14.419201Z",
     "iopub.status.idle": "2021-11-08T07:13:14.423231Z",
     "shell.execute_reply": "2021-11-08T07:13:14.423782Z",
     "shell.execute_reply.started": "2021-11-08T06:56:59.118418Z"
    },
    "papermill": {
     "duration": 0.063961,
     "end_time": "2021-11-08T07:13:14.424000",
     "exception": false,
     "start_time": "2021-11-08T07:13:14.360039",
     "status": "completed"
    },
    "tags": []
   },
   "outputs": [],
   "source": [
    "# Function for calculating all the relevant metrics \n",
    "def report_score(model):\n",
    "    report = classification_report(y_test,model.predict(X_test))\n",
    "    # one can add more into it \n",
    "    print(f'Classification Report\\n {report}')"
   ]
  },
  {
   "cell_type": "code",
   "execution_count": 17,
   "id": "948f5060",
   "metadata": {
    "execution": {
     "iopub.execute_input": "2021-11-08T07:13:14.532315Z",
     "iopub.status.busy": "2021-11-08T07:13:14.531564Z",
     "iopub.status.idle": "2021-11-08T07:13:14.541554Z",
     "shell.execute_reply": "2021-11-08T07:13:14.542072Z",
     "shell.execute_reply.started": "2021-11-08T06:56:59.129510Z"
    },
    "papermill": {
     "duration": 0.066018,
     "end_time": "2021-11-08T07:13:14.542295",
     "exception": false,
     "start_time": "2021-11-08T07:13:14.476277",
     "status": "completed"
    },
    "tags": []
   },
   "outputs": [],
   "source": [
    "# Helper function for Visualizing importance of all the features in the dataset for the prediction\n",
    "def feature_imp(feature_importances,feat_train_df):\n",
    "    # creating dataframe for feature name and feature importance\n",
    "    feature_imp_df = pd.DataFrame()\n",
    "    _df = pd.DataFrame()\n",
    "    _df['feature_imp'] = feature_importances\n",
    "    _df['column'] = feat_train_df.columns\n",
    "    feature_imp_df= pd.concat([feature_imp_df,_df],axis=0,ignore_index=True)\n",
    "    # grouping all data and sorting in descending order\n",
    "    descend_ordr = feature_imp_df.groupby('column').sum()[['feature_imp']].sort_values('feature_imp',ascending=False).index[:50]\n",
    "    \n",
    "    # ploting feature importance data using boxenplot\n",
    "    # return fig, ax\n",
    "    fig,ax = plt.subplots(figsize=(8,max(6,len(descend_ordr)*.25)))\n",
    "    # Visualize importance of all the features in the dataset for the prediction\n",
    "    sns.boxenplot(data=feature_imp_df,x='feature_imp',y='column',order=descend_ordr,ax=ax,palette='viridis',orient='h')\n",
    "    ax.tick_params(axis='x',rotation=90)\n",
    "    ax.set_title('Importance')\n",
    "    ax.grid()\n",
    "    fig.tight_layout()\n",
    "    return fig,ax "
   ]
  },
  {
   "cell_type": "markdown",
   "id": "b449c4f1",
   "metadata": {
    "papermill": {
     "duration": 0.051597,
     "end_time": "2021-11-08T07:13:14.645999",
     "exception": false,
     "start_time": "2021-11-08T07:13:14.594402",
     "status": "completed"
    },
    "tags": []
   },
   "source": [
    "# LOGISTIC REGRESSION\n",
    "One of the most popular Machine Learning algorithms, comes under the Supervised Learning technique\n",
    "\n",
    "* Logistic Regression is much similar to Linear Regression except that how they are used\n",
    "    * Linear Regression is used for solving Regression problems whereas \n",
    "    * Logistic regression is used for solving the classification problems"
   ]
  },
  {
   "cell_type": "code",
   "execution_count": 18,
   "id": "aff4d2da",
   "metadata": {
    "execution": {
     "iopub.execute_input": "2021-11-08T07:13:14.754811Z",
     "iopub.status.busy": "2021-11-08T07:13:14.754057Z",
     "iopub.status.idle": "2021-11-08T07:13:14.759123Z",
     "shell.execute_reply": "2021-11-08T07:13:14.759675Z",
     "shell.execute_reply.started": "2021-11-08T06:56:59.139458Z"
    },
    "papermill": {
     "duration": 0.061793,
     "end_time": "2021-11-08T07:13:14.759894",
     "exception": false,
     "start_time": "2021-11-08T07:13:14.698101",
     "status": "completed"
    },
    "tags": []
   },
   "outputs": [
    {
     "data": {
      "text/plain": [
       "'\\n%%time\\n# Fit a logistic Regression model to the train dataset\\n\\n# Import logisticRegressor\\nfrom sklearn.linear_model import LogisticRegression\\n\\n# Instantiate the model\\nlog_reg = LogisticRegression()\\n# fitting the model on train data\\nlog_reg.fit(X_train,y_train)\\n# print score of the model by calling function\\nreport_score(log_reg)\\n# visualizing importance of features\\nfig,ax = feature_imp(log_reg.coef_[0],X)'"
      ]
     },
     "execution_count": 18,
     "metadata": {},
     "output_type": "execute_result"
    }
   ],
   "source": [
    "'''\n",
    "%%time\n",
    "# Fit a logistic Regression model to the train dataset\n",
    "\n",
    "# Import logisticRegressor\n",
    "from sklearn.linear_model import LogisticRegression\n",
    "\n",
    "# Instantiate the model\n",
    "log_reg = LogisticRegression()\n",
    "# fitting the model on train data\n",
    "log_reg.fit(X_train,y_train)\n",
    "# print score of the model by calling function\n",
    "report_score(log_reg)\n",
    "# visualizing importance of features\n",
    "fig,ax = feature_imp(log_reg.coef_[0],X)'''"
   ]
  },
  {
   "cell_type": "markdown",
   "id": "d4d54280",
   "metadata": {
    "papermill": {
     "duration": 0.054496,
     "end_time": "2021-11-08T07:13:14.869570",
     "exception": false,
     "start_time": "2021-11-08T07:13:14.815074",
     "status": "completed"
    },
    "tags": []
   },
   "source": [
    "# RANDOM FOREST CLASSIFIER\n",
    "\n",
    "This algorithm creates decision trees on data samples and then gets prediction from each of them and finally selects best solution by means of voting\n",
    "\n",
    "* It is an ensemble method which is better than a single decision tree because it reduces over-fitting by averaging result"
   ]
  },
  {
   "cell_type": "code",
   "execution_count": 19,
   "id": "8c54b5db",
   "metadata": {
    "execution": {
     "iopub.execute_input": "2021-11-08T07:13:14.978227Z",
     "iopub.status.busy": "2021-11-08T07:13:14.977433Z",
     "iopub.status.idle": "2021-11-08T07:13:19.813985Z",
     "shell.execute_reply": "2021-11-08T07:13:19.814545Z",
     "shell.execute_reply.started": "2021-11-08T06:56:59.154909Z"
    },
    "papermill": {
     "duration": 4.892741,
     "end_time": "2021-11-08T07:13:19.814755",
     "exception": false,
     "start_time": "2021-11-08T07:13:14.922014",
     "status": "completed"
    },
    "tags": []
   },
   "outputs": [
    {
     "name": "stdout",
     "output_type": "stream",
     "text": [
      "Classification Report\n",
      "               precision    recall  f1-score   support\n",
      "\n",
      "           0       1.00      1.00      1.00         2\n",
      "           1       1.00      0.73      0.84        11\n",
      "           3       0.86      0.32      0.47       115\n",
      "           4       0.89      0.99      0.94       761\n",
      "           5       1.00      0.41      0.58        22\n",
      "\n",
      "    accuracy                           0.89       911\n",
      "   macro avg       0.95      0.69      0.77       911\n",
      "weighted avg       0.89      0.89      0.87       911\n",
      "\n"
     ]
    },
    {
     "data": {
      "image/png": "[encoded data removed]",
      "text/plain": [
       "<Figure size 576x432 with 1 Axes>"
      ]
     },
     "metadata": {
      "needs_background": "light"
     },
     "output_type": "display_data"
    }
   ],
   "source": [
    "# Fit a RandomForestClassifier model to the train dataset\n",
    "\n",
    "#import RandomForestClassifier\n",
    "from sklearn.ensemble import RandomForestClassifier\n",
    "\n",
    "# Instantiate the model\n",
    "rf_clf = RandomForestClassifier()\n",
    "# fitting the model on t/rain data\n",
    "rf_clf.fit(X_train,y_train)\n",
    "# print score of the model\n",
    "report_score(rf_clf)\n",
    "# visualizing importance of features\n",
    "fig,ax = feature_imp(rf_clf.feature_importances_,X)"
   ]
  },
  {
   "cell_type": "markdown",
   "id": "126a616f",
   "metadata": {
    "papermill": {
     "duration": 0.05391,
     "end_time": "2021-11-08T07:13:19.924771",
     "exception": false,
     "start_time": "2021-11-08T07:13:19.870861",
     "status": "completed"
    },
    "tags": []
   },
   "source": [
    "# ADA BOOST CLASSIFIER\n",
    "An AdaBoost classifier is a meta-estimator that begins by fitting a classifier on original dataset and then fits additional copies of classifier on same dataset but where weights of incorrectly classified instances are adjusted such that subsequent classifiers focus more on difficult cases"
   ]
  },
  {
   "cell_type": "code",
   "execution_count": 20,
   "id": "c65ffb26",
   "metadata": {
    "execution": {
     "iopub.execute_input": "2021-11-08T07:13:20.063582Z",
     "iopub.status.busy": "2021-11-08T07:13:20.055613Z",
     "iopub.status.idle": "2021-11-08T07:13:21.786520Z",
     "shell.execute_reply": "2021-11-08T07:13:21.785865Z",
     "shell.execute_reply.started": "2021-11-08T06:57:03.786373Z"
    },
    "papermill": {
     "duration": 1.801657,
     "end_time": "2021-11-08T07:13:21.786764",
     "exception": false,
     "start_time": "2021-11-08T07:13:19.985107",
     "status": "completed"
    },
    "tags": []
   },
   "outputs": [
    {
     "name": "stdout",
     "output_type": "stream",
     "text": [
      "Classification Report\n",
      "               precision    recall  f1-score   support\n",
      "\n",
      "           0       1.00      1.00      1.00         2\n",
      "           1       0.00      0.09      0.00        11\n",
      "           3       0.00      0.00      0.00       115\n",
      "           4       0.70      0.34      0.45       761\n",
      "           5       0.00      0.00      0.00        22\n",
      "\n",
      "    accuracy                           0.28       911\n",
      "   macro avg       0.34      0.29      0.29       911\n",
      "weighted avg       0.58      0.28      0.38       911\n",
      "\n"
     ]
    },
    {
     "data": {
      "image/png": "[encoded data removed]",
      "text/plain": [
       "<Figure size 576x432 with 1 Axes>"
      ]
     },
     "metadata": {
      "needs_background": "light"
     },
     "output_type": "display_data"
    }
   ],
   "source": [
    "# Fit a AdaBoost classifier model to the train dataset\n",
    "\n",
    "# Import AdaBoostClassifier\n",
    "from sklearn.ensemble import AdaBoostClassifier\n",
    "# Instantiate the model\n",
    "ad_clf = AdaBoostClassifier()\n",
    "# fitting the model on train data\n",
    "ad_clf.fit(X_train,y_train)\n",
    "# print score of the model by calling function\n",
    "report_score(ad_clf)\n",
    "# visualizing importance of features\n",
    "fig,ax = feature_imp(ad_clf.feature_importances_,X)"
   ]
  },
  {
   "cell_type": "markdown",
   "id": "e37d033b",
   "metadata": {
    "papermill": {
     "duration": 0.056731,
     "end_time": "2021-11-08T07:13:21.899732",
     "exception": false,
     "start_time": "2021-11-08T07:13:21.843001",
     "status": "completed"
    },
    "tags": []
   },
   "source": [
    "# SUPORT VECTOR CLASSIFIER\n",
    "\n",
    "It is a Supervised Machine learning model that uses classification algorithms for two-group classification problems\n",
    "\n",
    "After giving an SVM model sets of labeled training data for each category, they’re able to categorize new text"
   ]
  },
  {
   "cell_type": "code",
   "execution_count": 21,
   "id": "9d3db0d8",
   "metadata": {
    "execution": {
     "iopub.execute_input": "2021-11-08T07:13:22.023479Z",
     "iopub.status.busy": "2021-11-08T07:13:22.022103Z",
     "iopub.status.idle": "2021-11-08T07:13:27.754381Z",
     "shell.execute_reply": "2021-11-08T07:13:27.753775Z",
     "shell.execute_reply.started": "2021-11-08T06:57:05.410159Z"
    },
    "papermill": {
     "duration": 5.79946,
     "end_time": "2021-11-08T07:13:27.754571",
     "exception": false,
     "start_time": "2021-11-08T07:13:21.955111",
     "status": "completed"
    },
    "tags": []
   },
   "outputs": [
    {
     "name": "stdout",
     "output_type": "stream",
     "text": [
      "Classification Report\n",
      "               precision    recall  f1-score   support\n",
      "\n",
      "           0       0.00      0.00      0.00         2\n",
      "           1       0.00      0.00      0.00        11\n",
      "           3       0.00      0.00      0.00       115\n",
      "           4       0.84      1.00      0.91       761\n",
      "           5       0.00      0.00      0.00        22\n",
      "\n",
      "    accuracy                           0.84       911\n",
      "   macro avg       0.17      0.20      0.18       911\n",
      "weighted avg       0.70      0.84      0.76       911\n",
      "\n"
     ]
    }
   ],
   "source": [
    "# Fit a support vector classifier model to the train dataset\n",
    "\n",
    "#import SVC\n",
    "from sklearn.svm import SVC\n",
    "# Instantiate the model\n",
    "svc = SVC()\n",
    "#fit the model on train data\n",
    "svc.fit(X_train,y_train)\n",
    "# print score of the model by calling function\n",
    "report_score(svc)"
   ]
  },
  {
   "cell_type": "markdown",
   "id": "fd95e51b",
   "metadata": {
    "papermill": {
     "duration": 0.055775,
     "end_time": "2021-11-08T07:13:27.866198",
     "exception": false,
     "start_time": "2021-11-08T07:13:27.810423",
     "status": "completed"
    },
    "tags": []
   },
   "source": [
    "# DESISION TREE CLASSICIFIER\n",
    "It is a simple and widely used classification technique \n",
    "\n",
    "* It applies a straitforward idea to solve classification problem\n",
    "* Decision Tree Classifier poses a series of carefully crafted questions about attributes of test record\n",
    "* Each time time it receive an answer, a follow-up question is asked until a conclusion about calss label of record is reached\n"
   ]
  },
  {
   "cell_type": "code",
   "execution_count": 22,
   "id": "a1402254",
   "metadata": {
    "execution": {
     "iopub.execute_input": "2021-11-08T07:13:27.983927Z",
     "iopub.status.busy": "2021-11-08T07:13:27.983142Z",
     "iopub.status.idle": "2021-11-08T07:13:28.672417Z",
     "shell.execute_reply": "2021-11-08T07:13:28.671874Z",
     "shell.execute_reply.started": "2021-11-08T06:57:10.988965Z"
    },
    "papermill": {
     "duration": 0.748978,
     "end_time": "2021-11-08T07:13:28.672623",
     "exception": false,
     "start_time": "2021-11-08T07:13:27.923645",
     "status": "completed"
    },
    "tags": []
   },
   "outputs": [
    {
     "name": "stdout",
     "output_type": "stream",
     "text": [
      "Classification Report\n",
      "               precision    recall  f1-score   support\n",
      "\n",
      "           0       1.00      1.00      1.00         2\n",
      "           1       0.31      0.73      0.43        11\n",
      "           3       0.45      0.41      0.43       115\n",
      "           4       0.92      0.89      0.91       761\n",
      "           5       0.27      0.45      0.34        22\n",
      "\n",
      "    accuracy                           0.82       911\n",
      "   macro avg       0.59      0.70      0.62       911\n",
      "weighted avg       0.84      0.82      0.83       911\n",
      "\n"
     ]
    },
    {
     "data": {
      "image/png": "[encoded data removed]",
      "text/plain": [
       "<Figure size 576x432 with 1 Axes>"
      ]
     },
     "metadata": {
      "needs_background": "light"
     },
     "output_type": "display_data"
    }
   ],
   "source": [
    "# Fit a DecisionTreeClassifier model to the train dataset\n",
    "\n",
    "#import DecisionTreeClassifier\n",
    "from sklearn.tree import DecisionTreeClassifier\n",
    "# Instantiate the model\n",
    "dt_clf = DecisionTreeClassifier()\n",
    "# fitting the model on train data\n",
    "dt_clf.fit(X_train,y_train)\n",
    "# print score of the model by calling function\n",
    "report_score(dt_clf)\n",
    "# visualizing importance of features\n",
    "fig,ax = feature_imp(dt_clf.feature_importances_,X)"
   ]
  },
  {
   "cell_type": "markdown",
   "id": "33d52ae4",
   "metadata": {
    "papermill": {
     "duration": 0.056788,
     "end_time": "2021-11-08T07:13:28.787202",
     "exception": false,
     "start_time": "2021-11-08T07:13:28.730414",
     "status": "completed"
    },
    "tags": []
   },
   "source": [
    "# KNeighborsClassifier"
   ]
  },
  {
   "cell_type": "code",
   "execution_count": 23,
   "id": "3c1e5bd7",
   "metadata": {
    "execution": {
     "iopub.execute_input": "2021-11-08T07:13:28.911697Z",
     "iopub.status.busy": "2021-11-08T07:13:28.910791Z",
     "iopub.status.idle": "2021-11-08T07:13:29.027076Z",
     "shell.execute_reply": "2021-11-08T07:13:29.027923Z",
     "shell.execute_reply.started": "2021-11-08T06:57:11.639839Z"
    },
    "papermill": {
     "duration": 0.183115,
     "end_time": "2021-11-08T07:13:29.028210",
     "exception": false,
     "start_time": "2021-11-08T07:13:28.845095",
     "status": "completed"
    },
    "tags": []
   },
   "outputs": [
    {
     "name": "stdout",
     "output_type": "stream",
     "text": [
      "Classification Report\n",
      "               precision    recall  f1-score   support\n",
      "\n",
      "           0       0.00      0.00      0.00         2\n",
      "           1       0.12      0.09      0.11        11\n",
      "           3       0.50      0.24      0.33       115\n",
      "           4       0.87      0.96      0.91       761\n",
      "           5       0.50      0.14      0.21        22\n",
      "\n",
      "    accuracy                           0.84       911\n",
      "   macro avg       0.40      0.29      0.31       911\n",
      "weighted avg       0.80      0.84      0.81       911\n",
      "\n"
     ]
    }
   ],
   "source": [
    "# Fit a K-Neighbour classifier model to the train dataset\n",
    "\n",
    "# Import KNeighborsClassifier\n",
    "from sklearn.neighbors import KNeighborsClassifier\n",
    "\n",
    "# Instantiate the model\n",
    "kn_clf = KNeighborsClassifier()\n",
    "# fitting the model on train data\n",
    "kn_clf.fit(X_train,y_train)\n",
    "# print score of the model by calling function\n",
    "report_score(kn_clf)"
   ]
  },
  {
   "cell_type": "markdown",
   "id": "a4e4b589",
   "metadata": {
    "papermill": {
     "duration": 0.05648,
     "end_time": "2021-11-08T07:13:29.142915",
     "exception": false,
     "start_time": "2021-11-08T07:13:29.086435",
     "status": "completed"
    },
    "tags": []
   },
   "source": [
    "# GRADIENT BOOSTING CLASSIFIER"
   ]
  },
  {
   "cell_type": "code",
   "execution_count": 24,
   "id": "e7bc03f7",
   "metadata": {
    "execution": {
     "iopub.execute_input": "2021-11-08T07:13:29.261897Z",
     "iopub.status.busy": "2021-11-08T07:13:29.260692Z",
     "iopub.status.idle": "2021-11-08T07:13:56.675981Z",
     "shell.execute_reply": "2021-11-08T07:13:56.676547Z",
     "shell.execute_reply.started": "2021-11-08T06:57:11.756006Z"
    },
    "papermill": {
     "duration": 27.476904,
     "end_time": "2021-11-08T07:13:56.676767",
     "exception": false,
     "start_time": "2021-11-08T07:13:29.199863",
     "status": "completed"
    },
    "tags": []
   },
   "outputs": [
    {
     "name": "stdout",
     "output_type": "stream",
     "text": [
      "Classification Report\n",
      "               precision    recall  f1-score   support\n",
      "\n",
      "           0       1.00      1.00      1.00         2\n",
      "           1       0.33      0.09      0.14        11\n",
      "           3       0.45      0.11      0.18       115\n",
      "           4       0.86      0.98      0.91       761\n",
      "           5       0.80      0.18      0.30        22\n",
      "\n",
      "    accuracy                           0.84       911\n",
      "   macro avg       0.69      0.47      0.51       911\n",
      "weighted avg       0.80      0.84      0.80       911\n",
      "\n",
      "CPU times: user 27.2 s, sys: 90.2 ms, total: 27.3 s\n",
      "Wall time: 27.2 s\n"
     ]
    },
    {
     "data": {
      "image/png": "[encoded data removed]",
      "text/plain": [
       "<Figure size 576x432 with 1 Axes>"
      ]
     },
     "metadata": {
      "needs_background": "light"
     },
     "output_type": "display_data"
    }
   ],
   "source": [
    "%%time\n",
    "# Fit a Gradient Boosting Classifier model to the train dataset\n",
    "\n",
    "# Import GradientBoostingClassifier\n",
    "from sklearn.ensemble import GradientBoostingClassifier\n",
    "# Instantiate the model\n",
    "gb_clf = GradientBoostingClassifier()\n",
    "# fitting the model on train data\n",
    "gb_clf.fit(X_train,y_train)\n",
    "# print score of the model by calling function\n",
    "report_score(gb_clf)\n",
    "# visualizing importance of features\n",
    "fig,ax = feature_imp(gb_clf.feature_importances_,X)"
   ]
  },
  {
   "cell_type": "markdown",
   "id": "0b0838da",
   "metadata": {
    "papermill": {
     "duration": 0.060505,
     "end_time": "2021-11-08T07:13:56.795997",
     "exception": false,
     "start_time": "2021-11-08T07:13:56.735492",
     "status": "completed"
    },
    "tags": []
   },
   "source": [
    "# BAGGING CLASSIFIER"
   ]
  },
  {
   "cell_type": "code",
   "execution_count": 25,
   "id": "fb660492",
   "metadata": {
    "execution": {
     "iopub.execute_input": "2021-11-08T07:13:56.921890Z",
     "iopub.status.busy": "2021-11-08T07:13:56.917697Z",
     "iopub.status.idle": "2021-11-08T07:13:58.589661Z",
     "shell.execute_reply": "2021-11-08T07:13:58.590247Z",
     "shell.execute_reply.started": "2021-11-08T06:57:38.176296Z"
    },
    "papermill": {
     "duration": 1.734831,
     "end_time": "2021-11-08T07:13:58.590475",
     "exception": false,
     "start_time": "2021-11-08T07:13:56.855644",
     "status": "completed"
    },
    "tags": []
   },
   "outputs": [
    {
     "name": "stdout",
     "output_type": "stream",
     "text": [
      "Classification Report\n",
      "               precision    recall  f1-score   support\n",
      "\n",
      "           0       1.00      1.00      1.00         2\n",
      "           1       1.00      0.73      0.84        11\n",
      "           3       0.55      0.38      0.45       115\n",
      "           4       0.90      0.96      0.93       761\n",
      "           5       0.73      0.36      0.48        22\n",
      "\n",
      "    accuracy                           0.87       911\n",
      "   macro avg       0.83      0.69      0.74       911\n",
      "weighted avg       0.85      0.87      0.85       911\n",
      "\n"
     ]
    }
   ],
   "source": [
    "# Fit a Bagging Classifier model to the train dataset\n",
    "\n",
    "# Import BaggingClassifier\n",
    "from sklearn.ensemble import BaggingClassifier\n",
    "# Instantiate the model\n",
    "bag_clf = BaggingClassifier()\n",
    "# fitting the model on train data\n",
    "bag_clf.fit(X_train,y_train)\n",
    "# print score of the model by calling function\n",
    "report_score(bag_clf)\n"
   ]
  },
  {
   "cell_type": "markdown",
   "id": "7accc3ec",
   "metadata": {
    "papermill": {
     "duration": 0.058287,
     "end_time": "2021-11-08T07:13:58.707313",
     "exception": false,
     "start_time": "2021-11-08T07:13:58.649026",
     "status": "completed"
    },
    "tags": []
   },
   "source": [
    "# VOTING CLASSIFIER"
   ]
  },
  {
   "cell_type": "code",
   "execution_count": 26,
   "id": "b3862604",
   "metadata": {
    "execution": {
     "iopub.execute_input": "2021-11-08T07:13:58.830735Z",
     "iopub.status.busy": "2021-11-08T07:13:58.829636Z",
     "iopub.status.idle": "2021-11-08T07:14:08.842252Z",
     "shell.execute_reply": "2021-11-08T07:14:08.841121Z",
     "shell.execute_reply.started": "2021-11-08T06:57:39.838289Z"
    },
    "papermill": {
     "duration": 10.076488,
     "end_time": "2021-11-08T07:14:08.842506",
     "exception": false,
     "start_time": "2021-11-08T07:13:58.766018",
     "status": "completed"
    },
    "tags": []
   },
   "outputs": [
    {
     "name": "stdout",
     "output_type": "stream",
     "text": [
      "Classification Report\n",
      "               precision    recall  f1-score   support\n",
      "\n",
      "           0       1.00      1.00      1.00         2\n",
      "           1       0.89      0.73      0.80        11\n",
      "           3       0.81      0.30      0.44       115\n",
      "           4       0.88      0.99      0.93       761\n",
      "           5       1.00      0.23      0.37        22\n",
      "\n",
      "    accuracy                           0.88       911\n",
      "   macro avg       0.92      0.65      0.71       911\n",
      "weighted avg       0.88      0.88      0.86       911\n",
      "\n"
     ]
    }
   ],
   "source": [
    "# Fit a VotingClassifier model to the train dataset\n",
    "\n",
    "# Import VotingClassifier\n",
    "from sklearn.ensemble import VotingClassifier\n",
    "# list of classifier objects\n",
    "classifier_lst = [('knn',kn_clf),('svc',svc),('dt',dt_clf),('rf',rf_clf)]\n",
    "# Instantiate the model\n",
    "voting_clf = VotingClassifier(estimators=classifier_lst,voting='hard')\n",
    "# fitting the model on train data\n",
    "voting_clf.fit(X_train,y_train)\n",
    "# print score of the model\n",
    "report_score(voting_clf)"
   ]
  },
  {
   "cell_type": "markdown",
   "id": "fb8a8980",
   "metadata": {
    "papermill": {
     "duration": 0.061595,
     "end_time": "2021-11-08T07:14:08.964938",
     "exception": false,
     "start_time": "2021-11-08T07:14:08.903343",
     "status": "completed"
    },
    "tags": []
   },
   "source": [
    "# EASY ENSEMBLE CLASSIFIER"
   ]
  },
  {
   "cell_type": "code",
   "execution_count": 27,
   "id": "97034f33",
   "metadata": {
    "execution": {
     "iopub.execute_input": "2021-11-08T07:14:09.090113Z",
     "iopub.status.busy": "2021-11-08T07:14:09.088949Z",
     "iopub.status.idle": "2021-11-08T07:14:10.439086Z",
     "shell.execute_reply": "2021-11-08T07:14:10.439722Z",
     "shell.execute_reply.started": "2021-11-08T06:57:49.426094Z"
    },
    "papermill": {
     "duration": 1.414652,
     "end_time": "2021-11-08T07:14:10.439940",
     "exception": false,
     "start_time": "2021-11-08T07:14:09.025288",
     "status": "completed"
    },
    "tags": []
   },
   "outputs": [
    {
     "name": "stdout",
     "output_type": "stream",
     "text": [
      "Classification Report\n",
      "               precision    recall  f1-score   support\n",
      "\n",
      "           0       1.00      1.00      1.00         2\n",
      "           1       0.03      0.36      0.05        11\n",
      "           3       0.20      0.25      0.22       115\n",
      "           4       0.94      0.66      0.77       761\n",
      "           5       0.03      0.14      0.05        22\n",
      "\n",
      "    accuracy                           0.59       911\n",
      "   macro avg       0.44      0.48      0.42       911\n",
      "weighted avg       0.81      0.59      0.68       911\n",
      "\n"
     ]
    }
   ],
   "source": [
    "# Fit a EasyEnsembleClassifier model to the train dataset\n",
    "\n",
    "# Import EasyEnsembleClassifier\n",
    "from imblearn.ensemble import EasyEnsembleClassifier\n",
    "# Instantiate the model\n",
    "easy_clf = EasyEnsembleClassifier()\n",
    "# fitting the model on train data\n",
    "easy_clf.fit(X_train,y_train)\n",
    "# print score of the model\n",
    "report_score(easy_clf)"
   ]
  },
  {
   "cell_type": "markdown",
   "id": "8c8439a7",
   "metadata": {
    "papermill": {
     "duration": 0.059527,
     "end_time": "2021-11-08T07:14:10.562912",
     "exception": false,
     "start_time": "2021-11-08T07:14:10.503385",
     "status": "completed"
    },
    "tags": []
   },
   "source": [
    "# XGB CLASSIFIER"
   ]
  },
  {
   "cell_type": "code",
   "execution_count": 28,
   "id": "917508f3",
   "metadata": {
    "execution": {
     "iopub.execute_input": "2021-11-08T07:14:10.689946Z",
     "iopub.status.busy": "2021-11-08T07:14:10.689093Z",
     "iopub.status.idle": "2021-11-08T07:14:17.440209Z",
     "shell.execute_reply": "2021-11-08T07:14:17.440746Z",
     "shell.execute_reply.started": "2021-11-08T06:57:50.700705Z"
    },
    "papermill": {
     "duration": 6.81869,
     "end_time": "2021-11-08T07:14:17.440977",
     "exception": false,
     "start_time": "2021-11-08T07:14:10.622287",
     "status": "completed"
    },
    "tags": []
   },
   "outputs": [
    {
     "name": "stdout",
     "output_type": "stream",
     "text": [
      "[07:14:10] WARNING: ../src/learner.cc:1095: Starting in XGBoost 1.3.0, the default evaluation metric used with the objective 'multi:softprob' was changed from 'merror' to 'mlogloss'. Explicitly set eval_metric if you'd like to restore the old behavior.\n",
      "Classification Report\n",
      "               precision    recall  f1-score   support\n",
      "\n",
      "           0       1.00      1.00      1.00         2\n",
      "           1       0.88      0.64      0.74        11\n",
      "           3       0.67      0.25      0.37       115\n",
      "           4       0.88      0.98      0.93       761\n",
      "           5       0.70      0.32      0.44        22\n",
      "\n",
      "    accuracy                           0.87       911\n",
      "   macro avg       0.83      0.64      0.69       911\n",
      "weighted avg       0.85      0.87      0.84       911\n",
      "\n"
     ]
    },
    {
     "data": {
      "image/png": "[encoded data removed]",
      "text/plain": [
       "<Figure size 576x432 with 1 Axes>"
      ]
     },
     "metadata": {
      "needs_background": "light"
     },
     "output_type": "display_data"
    }
   ],
   "source": [
    "# Fit a XGBClassifier model to the train dataset\n",
    "\n",
    "# Import XGBClassifier\n",
    "from xgboost import XGBClassifier\n",
    "# Instantiate the model\n",
    "xgb_clf = XGBClassifier()\n",
    "# fitting the model on train data\n",
    "xgb_clf.fit(X_train,y_train)\n",
    "# print score of the model by calling function\n",
    "report_score(xgb_clf)\n",
    "# visualizing importance of features\n",
    "fig,ax = feature_imp(xgb_clf.feature_importances_,X)"
   ]
  },
  {
   "cell_type": "markdown",
   "id": "58201edb",
   "metadata": {
    "papermill": {
     "duration": 0.061314,
     "end_time": "2021-11-08T07:14:17.563997",
     "exception": false,
     "start_time": "2021-11-08T07:14:17.502683",
     "status": "completed"
    },
    "tags": []
   },
   "source": [
    "# Comparing all model based on metric"
   ]
  },
  {
   "cell_type": "code",
   "execution_count": 29,
   "id": "235e7860",
   "metadata": {
    "execution": {
     "iopub.execute_input": "2021-11-08T07:14:17.698619Z",
     "iopub.status.busy": "2021-11-08T07:14:17.697811Z",
     "iopub.status.idle": "2021-11-08T07:14:17.703244Z",
     "shell.execute_reply": "2021-11-08T07:14:17.702483Z",
     "shell.execute_reply.started": "2021-11-08T06:57:57.069354Z"
    },
    "papermill": {
     "duration": 0.075683,
     "end_time": "2021-11-08T07:14:17.703429",
     "exception": false,
     "start_time": "2021-11-08T07:14:17.627746",
     "status": "completed"
    },
    "tags": []
   },
   "outputs": [],
   "source": [
    "# helper function for comparing models matric\n",
    "def comparing_models_matric(model_list,name_list,X_train,y_train,X_test,y_test):\n",
    "    # the libraries we need\n",
    "    import sklearn.metrics as metrics\n",
    "    from sklearn.model_selection import train_test_split\n",
    "    \n",
    "    for(model,name) in zip(model_list,name_list):\n",
    "        print(f'Model Name: => [** {name} **]')\n",
    "        # predicting on the test set\n",
    "        y_pred_test = model.predict(X_test)\n",
    "        report = classification_report(y_test,y_pred_test)\n",
    "        print(f'Classification Report: {report}','\\n','***'*14,'\\n')"
   ]
  },
  {
   "cell_type": "code",
   "execution_count": 30,
   "id": "b8ea5bd6",
   "metadata": {
    "execution": {
     "iopub.execute_input": "2021-11-08T07:14:17.837050Z",
     "iopub.status.busy": "2021-11-08T07:14:17.835875Z",
     "iopub.status.idle": "2021-11-08T07:14:18.816890Z",
     "shell.execute_reply": "2021-11-08T07:14:18.817964Z",
     "shell.execute_reply.started": "2021-11-08T06:57:57.076973Z"
    },
    "papermill": {
     "duration": 1.050834,
     "end_time": "2021-11-08T07:14:18.818226",
     "exception": false,
     "start_time": "2021-11-08T07:14:17.767392",
     "status": "completed"
    },
    "tags": []
   },
   "outputs": [
    {
     "name": "stdout",
     "output_type": "stream",
     "text": [
      "Model Name: => [** RF **]\n",
      "Classification Report:               precision    recall  f1-score   support\n",
      "\n",
      "           0       1.00      1.00      1.00         2\n",
      "           1       1.00      0.73      0.84        11\n",
      "           3       0.86      0.32      0.47       115\n",
      "           4       0.89      0.99      0.94       761\n",
      "           5       1.00      0.41      0.58        22\n",
      "\n",
      "    accuracy                           0.89       911\n",
      "   macro avg       0.95      0.69      0.77       911\n",
      "weighted avg       0.89      0.89      0.87       911\n",
      " \n",
      " ****************************************** \n",
      "\n",
      "Model Name: => [** Ada **]\n",
      "Classification Report:               precision    recall  f1-score   support\n",
      "\n",
      "           0       1.00      1.00      1.00         2\n",
      "           1       0.00      0.09      0.00        11\n",
      "           3       0.00      0.00      0.00       115\n",
      "           4       0.70      0.34      0.45       761\n",
      "           5       0.00      0.00      0.00        22\n",
      "\n",
      "    accuracy                           0.28       911\n",
      "   macro avg       0.34      0.29      0.29       911\n",
      "weighted avg       0.58      0.28      0.38       911\n",
      " \n",
      " ****************************************** \n",
      "\n",
      "Model Name: => [** SVC **]\n",
      "Classification Report:               precision    recall  f1-score   support\n",
      "\n",
      "           0       0.00      0.00      0.00         2\n",
      "           1       0.00      0.00      0.00        11\n",
      "           3       0.00      0.00      0.00       115\n",
      "           4       0.84      1.00      0.91       761\n",
      "           5       0.00      0.00      0.00        22\n",
      "\n",
      "    accuracy                           0.84       911\n",
      "   macro avg       0.17      0.20      0.18       911\n",
      "weighted avg       0.70      0.84      0.76       911\n",
      " \n",
      " ****************************************** \n",
      "\n",
      "Model Name: => [** DT **]\n",
      "Classification Report:               precision    recall  f1-score   support\n",
      "\n",
      "           0       1.00      1.00      1.00         2\n",
      "           1       0.31      0.73      0.43        11\n",
      "           3       0.45      0.41      0.43       115\n",
      "           4       0.92      0.89      0.91       761\n",
      "           5       0.27      0.45      0.34        22\n",
      "\n",
      "    accuracy                           0.82       911\n",
      "   macro avg       0.59      0.70      0.62       911\n",
      "weighted avg       0.84      0.82      0.83       911\n",
      " \n",
      " ****************************************** \n",
      "\n",
      "Model Name: => [** KNN **]\n",
      "Classification Report:               precision    recall  f1-score   support\n",
      "\n",
      "           0       0.00      0.00      0.00         2\n",
      "           1       0.12      0.09      0.11        11\n",
      "           3       0.50      0.24      0.33       115\n",
      "           4       0.87      0.96      0.91       761\n",
      "           5       0.50      0.14      0.21        22\n",
      "\n",
      "    accuracy                           0.84       911\n",
      "   macro avg       0.40      0.29      0.31       911\n",
      "weighted avg       0.80      0.84      0.81       911\n",
      " \n",
      " ****************************************** \n",
      "\n",
      "Model Name: => [** GBR **]\n",
      "Classification Report:               precision    recall  f1-score   support\n",
      "\n",
      "           0       1.00      1.00      1.00         2\n",
      "           1       0.33      0.09      0.14        11\n",
      "           3       0.45      0.11      0.18       115\n",
      "           4       0.86      0.98      0.91       761\n",
      "           5       0.80      0.18      0.30        22\n",
      "\n",
      "    accuracy                           0.84       911\n",
      "   macro avg       0.69      0.47      0.51       911\n",
      "weighted avg       0.80      0.84      0.80       911\n",
      " \n",
      " ****************************************** \n",
      "\n",
      "Model Name: => [** Bagging **]\n",
      "Classification Report:               precision    recall  f1-score   support\n",
      "\n",
      "           0       1.00      1.00      1.00         2\n",
      "           1       1.00      0.73      0.84        11\n",
      "           3       0.55      0.38      0.45       115\n",
      "           4       0.90      0.96      0.93       761\n",
      "           5       0.73      0.36      0.48        22\n",
      "\n",
      "    accuracy                           0.87       911\n",
      "   macro avg       0.83      0.69      0.74       911\n",
      "weighted avg       0.85      0.87      0.85       911\n",
      " \n",
      " ****************************************** \n",
      "\n",
      "Model Name: => [** Voting **]\n",
      "Classification Report:               precision    recall  f1-score   support\n",
      "\n",
      "           0       1.00      1.00      1.00         2\n",
      "           1       0.89      0.73      0.80        11\n",
      "           3       0.81      0.30      0.44       115\n",
      "           4       0.88      0.99      0.93       761\n",
      "           5       1.00      0.23      0.37        22\n",
      "\n",
      "    accuracy                           0.88       911\n",
      "   macro avg       0.92      0.65      0.71       911\n",
      "weighted avg       0.88      0.88      0.86       911\n",
      " \n",
      " ****************************************** \n",
      "\n",
      "Model Name: => [** Easy **]\n",
      "Classification Report:               precision    recall  f1-score   support\n",
      "\n",
      "           0       1.00      1.00      1.00         2\n",
      "           1       0.03      0.36      0.05        11\n",
      "           3       0.20      0.25      0.22       115\n",
      "           4       0.94      0.66      0.77       761\n",
      "           5       0.03      0.14      0.05        22\n",
      "\n",
      "    accuracy                           0.59       911\n",
      "   macro avg       0.44      0.48      0.42       911\n",
      "weighted avg       0.81      0.59      0.68       911\n",
      " \n",
      " ****************************************** \n",
      "\n",
      "Model Name: => [** XGB **]\n",
      "Classification Report:               precision    recall  f1-score   support\n",
      "\n",
      "           0       1.00      1.00      1.00         2\n",
      "           1       0.88      0.64      0.74        11\n",
      "           3       0.67      0.25      0.37       115\n",
      "           4       0.88      0.98      0.93       761\n",
      "           5       0.70      0.32      0.44        22\n",
      "\n",
      "    accuracy                           0.87       911\n",
      "   macro avg       0.83      0.64      0.69       911\n",
      "weighted avg       0.85      0.87      0.84       911\n",
      " \n",
      " ****************************************** \n",
      "\n"
     ]
    }
   ],
   "source": [
    "# list of model objects\n",
    "model_list = [rf_clf,ad_clf,svc,dt_clf,kn_clf,gb_clf,bag_clf,voting_clf,easy_clf,xgb_clf]\n",
    "# list of model names\n",
    "name_list = ['RF','Ada','SVC','DT','KNN','GBR','Bagging','Voting','Easy','XGB']\n",
    "\n",
    "# printing comparison of models\n",
    "comparing_models_matric(model_list,name_list,X_train,y_train,X_test,y_test)"
   ]
  },
  {
   "cell_type": "markdown",
   "id": "9fd73a38",
   "metadata": {
    "papermill": {
     "duration": 0.062709,
     "end_time": "2021-11-08T07:14:18.944354",
     "exception": false,
     "start_time": "2021-11-08T07:14:18.881645",
     "status": "completed"
    },
    "tags": []
   },
   "source": [
    "# Hyperparameter tuning\n",
    "A hyperparameter is a parameter whose value is set before the learning process begins\n",
    "\n",
    "Hyperparameters tuning is crucial as they control the overall behavior of a machine learning model\n",
    "\n",
    "Every machine learning models will have different hyperparameters that can be set"
   ]
  },
  {
   "cell_type": "markdown",
   "id": "e94f71b7",
   "metadata": {
    "papermill": {
     "duration": 0.062424,
     "end_time": "2021-11-08T07:14:19.070678",
     "exception": false,
     "start_time": "2021-11-08T07:14:19.008254",
     "status": "completed"
    },
    "tags": []
   },
   "source": [
    "# Grid Search\n",
    "One traditional and popular way to perform hyperparameter tuning is by using an Exhaustive Grid Search from Scikit learn.\n",
    "\n",
    "This method tries every possible combination of each set of hyper-parameters.\n",
    "\n",
    "Using this method, we can find the best set of values in the parameter search space.\n",
    "\n",
    "This usually uses more computational power and takes a long time to run since this method needs to try every combination in the grid size."
   ]
  },
  {
   "cell_type": "code",
   "execution_count": 31,
   "id": "66f62780",
   "metadata": {
    "execution": {
     "iopub.execute_input": "2021-11-08T07:14:19.205471Z",
     "iopub.status.busy": "2021-11-08T07:14:19.204258Z",
     "iopub.status.idle": "2021-11-08T07:14:19.206309Z",
     "shell.execute_reply": "2021-11-08T07:14:19.206858Z",
     "shell.execute_reply.started": "2021-11-08T06:57:58.038098Z"
    },
    "papermill": {
     "duration": 0.073603,
     "end_time": "2021-11-08T07:14:19.207078",
     "exception": false,
     "start_time": "2021-11-08T07:14:19.133475",
     "status": "completed"
    },
    "tags": []
   },
   "outputs": [],
   "source": [
    " # Helper function to perform hyper parameter tunning with GridSearchCV\n",
    "def gridCV(model,grid):\n",
    "    from sklearn.model_selection import GridSearchCV, train_test_split\n",
    "    from sklearn.model_selection import KFold\n",
    "    from sklearn.model_selection import GridSearchCV\n",
    "    \n",
    "    # Grid search of parameters, using 5 fold cross validation\n",
    "    cv = KFold(n_splits=5,shuffle=False,random_state=None)\n",
    "    clf = GridSearchCV(model,grid,cv=cv,n_jobs=-1,scoring='f1_macro')\n",
    "    #fit model_cv\n",
    "    clf.fit(X_train,y_train)\n",
    "    # print best parameters\n",
    "    print(clf.best_params_)\n",
    "    # print best score\n",
    "    print(clf.score(X_train,y_train))"
   ]
  },
  {
   "cell_type": "markdown",
   "id": "fa8ae119",
   "metadata": {
    "papermill": {
     "duration": 0.063394,
     "end_time": "2021-11-08T07:14:19.334511",
     "exception": false,
     "start_time": "2021-11-08T07:14:19.271117",
     "status": "completed"
    },
    "tags": []
   },
   "source": [
    "**`NOTE`** <br>\n",
    "One can use hyperparameter values as required this is a kind of framework"
   ]
  },
  {
   "cell_type": "code",
   "execution_count": 32,
   "id": "d47e9dec",
   "metadata": {
    "execution": {
     "iopub.execute_input": "2021-11-08T07:14:19.472647Z",
     "iopub.status.busy": "2021-11-08T07:14:19.471839Z",
     "iopub.status.idle": "2021-11-08T07:14:19.474991Z",
     "shell.execute_reply": "2021-11-08T07:14:19.475528Z",
     "shell.execute_reply.started": "2021-11-08T06:57:58.047126Z"
    },
    "papermill": {
     "duration": 0.07474,
     "end_time": "2021-11-08T07:14:19.475739",
     "exception": false,
     "start_time": "2021-11-08T07:14:19.400999",
     "status": "completed"
    },
    "tags": []
   },
   "outputs": [
    {
     "data": {
      "text/plain": [
       "\"\\n# create logistic regressor parameters dict in list for tunning\\nlogi_param_grid = {'C':10.0**np.arange(-2,3),\\n                  'penalty':['l1','l2']}\\n\\n# passing data for hyper parameter tunning with Gridsearchcv\\ngridCV(log_reg_model,logi_param_grid) \""
      ]
     },
     "execution_count": 32,
     "metadata": {},
     "output_type": "execute_result"
    }
   ],
   "source": [
    "'''\n",
    "# create logistic regressor parameters dict in list for tunning\n",
    "logi_param_grid = {'C':10.0**np.arange(-2,3),\n",
    "                  'penalty':['l1','l2']}\n",
    "\n",
    "# passing data for hyper parameter tunning with Gridsearchcv\n",
    "gridCV(log_reg_model,logi_param_grid) '''"
   ]
  },
  {
   "cell_type": "code",
   "execution_count": 33,
   "id": "1edc78d2",
   "metadata": {
    "execution": {
     "iopub.execute_input": "2021-11-08T07:14:19.607117Z",
     "iopub.status.busy": "2021-11-08T07:14:19.606210Z",
     "iopub.status.idle": "2021-11-08T07:15:01.792852Z",
     "shell.execute_reply": "2021-11-08T07:15:01.793416Z",
     "shell.execute_reply.started": "2021-11-08T06:57:58.061698Z"
    },
    "papermill": {
     "duration": 42.254822,
     "end_time": "2021-11-08T07:15:01.793664",
     "exception": false,
     "start_time": "2021-11-08T07:14:19.538842",
     "status": "completed"
    },
    "tags": []
   },
   "outputs": [
    {
     "name": "stdout",
     "output_type": "stream",
     "text": [
      "{'max_depth': 5, 'min_samples_leaf': 1, 'min_samples_split': 2, 'n_estimators': 800}\n",
      "0.3822819891033918\n"
     ]
    }
   ],
   "source": [
    "# passing data for hyper parameter tunning with Randomized search cv\n",
    "rf_param_grid = {'n_estimators':[800],\n",
    "             'max_depth':[5],\n",
    "             'min_samples_split':[2],\n",
    "             'min_samples_leaf':[1]}\n",
    "\n",
    "# passing data for hyper parameter tunning with Gridsearchcv\n",
    "gridCV(rf_clf,rf_param_grid)"
   ]
  },
  {
   "cell_type": "code",
   "execution_count": 34,
   "id": "c705bef7",
   "metadata": {
    "execution": {
     "iopub.execute_input": "2021-11-08T07:15:01.929952Z",
     "iopub.status.busy": "2021-11-08T07:15:01.929127Z",
     "iopub.status.idle": "2021-11-08T07:15:08.270005Z",
     "shell.execute_reply": "2021-11-08T07:15:08.269349Z",
     "shell.execute_reply.started": "2021-11-08T06:58:37.808202Z"
    },
    "papermill": {
     "duration": 6.413067,
     "end_time": "2021-11-08T07:15:08.270192",
     "exception": false,
     "start_time": "2021-11-08T07:15:01.857125",
     "status": "completed"
    },
    "tags": []
   },
   "outputs": [
    {
     "name": "stdout",
     "output_type": "stream",
     "text": [
      "{'leaf_size': 1, 'n_neighbors': 1, 'p': 2}\n",
      "1.0\n"
     ]
    }
   ],
   "source": [
    "# create KNNRegressor parameters dict in list for tunning\n",
    "knn_param_grid = {'leaf_size':list(range(1,3)),\n",
    "                 'n_neighbors':list(range(1,3)),\n",
    "                 'p':[1,2]}\n",
    "\n",
    "# passing data for hyper parameter tunning with Gridsearchcv\n",
    "gridCV(kn_clf,knn_param_grid)"
   ]
  },
  {
   "cell_type": "code",
   "execution_count": 35,
   "id": "251b655b",
   "metadata": {
    "execution": {
     "iopub.execute_input": "2021-11-08T07:15:08.409086Z",
     "iopub.status.busy": "2021-11-08T07:15:08.408241Z",
     "iopub.status.idle": "2021-11-08T07:15:35.176351Z",
     "shell.execute_reply": "2021-11-08T07:15:35.176884Z",
     "shell.execute_reply.started": "2021-11-08T06:58:44.048323Z"
    },
    "papermill": {
     "duration": 26.841071,
     "end_time": "2021-11-08T07:15:35.177107",
     "exception": false,
     "start_time": "2021-11-08T07:15:08.336036",
     "status": "completed"
    },
    "tags": []
   },
   "outputs": [
    {
     "name": "stdout",
     "output_type": "stream",
     "text": [
      "{'learning_rate': 0.1, 'max_depth': 6, 'min_samples_split': 3, 'n_estimators': 4}\n",
      "0.47451154690140757\n"
     ]
    }
   ],
   "source": [
    "# create GradientBoostRegressor parameters dict in list for tunning\n",
    "gb_param_grid = {'n_estimators':[x for x in range(2,5,1)],\n",
    "             'learning_rate':[0.1],\n",
    "             'min_samples_split':[x for x in range(2,4)],\n",
    "             'max_depth':[x for x in range(5,7)]}\n",
    "\n",
    "# passing data for hyper parameter tunning with Gridsearchcv\n",
    "gridCV(gb_clf,gb_param_grid)"
   ]
  },
  {
   "cell_type": "code",
   "execution_count": 36,
   "id": "5043c99f",
   "metadata": {
    "execution": {
     "iopub.execute_input": "2021-11-08T07:15:35.313358Z",
     "iopub.status.busy": "2021-11-08T07:15:35.312598Z",
     "iopub.status.idle": "2021-11-08T07:15:35.508213Z",
     "shell.execute_reply": "2021-11-08T07:15:35.508822Z",
     "shell.execute_reply.started": "2021-11-08T06:59:09.469684Z"
    },
    "papermill": {
     "duration": 0.264519,
     "end_time": "2021-11-08T07:15:35.509045",
     "exception": false,
     "start_time": "2021-11-08T07:15:35.244526",
     "status": "completed"
    },
    "tags": []
   },
   "outputs": [
    {
     "name": "stdout",
     "output_type": "stream",
     "text": [
      "{'max_depth': 1, 'max_features': 'auto', 'max_leaf_nodes': None, 'min_samples_leaf': 1, 'min_weight_fraction_leaf': 0.1, 'splitter': 'best'}\n",
      "0.1822016558063399\n"
     ]
    }
   ],
   "source": [
    "# create DecisionTreeRegressor parameters dict in list for tunning\n",
    "# splitter':['best','random']\n",
    "# 'max_features':[None,'auto','log2','sqrt']\n",
    "# 'max_leaf_nodes':[None,20]\n",
    "dt_param_grid = {'splitter':['best'],\n",
    "                'max_depth':[1],\n",
    "                'min_samples_leaf':[1],\n",
    "                'min_weight_fraction_leaf':[0.1],\n",
    "                'max_features':['auto'],\n",
    "                'max_leaf_nodes':[None]}\n",
    "\n",
    "# passing data for hyper parameter tunning with Gridsearchcv\n",
    "gridCV(dt_clf,dt_param_grid)"
   ]
  },
  {
   "cell_type": "code",
   "execution_count": 37,
   "id": "e7bb52c2",
   "metadata": {
    "execution": {
     "iopub.execute_input": "2021-11-08T07:15:35.646131Z",
     "iopub.status.busy": "2021-11-08T07:15:35.645308Z",
     "iopub.status.idle": "2021-11-08T07:15:39.201715Z",
     "shell.execute_reply": "2021-11-08T07:15:39.202284Z",
     "shell.execute_reply.started": "2021-11-08T06:59:09.651250Z"
    },
    "papermill": {
     "duration": 3.627101,
     "end_time": "2021-11-08T07:15:39.202510",
     "exception": false,
     "start_time": "2021-11-08T07:15:35.575409",
     "status": "completed"
    },
    "tags": []
   },
   "outputs": [
    {
     "name": "stdout",
     "output_type": "stream",
     "text": [
      "{'learning_rate': 0.001, 'n_estimators': 10}\n",
      "0.1822016558063399\n"
     ]
    }
   ],
   "source": [
    "# create AdaBoostRegressor parameters dict in list for tunning\n",
    "# 'n_estimators':[10,50]\n",
    "# 'learning_rate':[0.001,0.01]\n",
    "ad_param_grid = {'n_estimators':[10,50],\n",
    "                'learning_rate':[0.001]}\n",
    "\n",
    "# passing data for hyper parameter tunning with Gridsearchcv\n",
    "gridCV(ad_clf,ad_param_grid)"
   ]
  },
  {
   "cell_type": "markdown",
   "id": "f808c77c",
   "metadata": {
    "execution": {
     "iopub.execute_input": "2021-11-08T06:59:13.036360Z",
     "iopub.status.busy": "2021-11-08T06:59:13.036063Z",
     "iopub.status.idle": "2021-11-08T07:08:10.873709Z",
     "shell.execute_reply": "2021-11-08T07:08:10.872132Z",
     "shell.execute_reply.started": "2021-11-08T06:59:13.036319Z"
    },
    "papermill": {
     "duration": 0.065187,
     "end_time": "2021-11-08T07:15:39.332838",
     "exception": false,
     "start_time": "2021-11-08T07:15:39.267651",
     "status": "completed"
    },
    "tags": []
   },
   "source": [
    "# create XGBoost parameters dict in list for tunning\n",
    "# 'gamma':[0.1,0.2]\n",
    "# 'max_depth':[1,3]\n",
    "# 'min_child_weight':[1,3]\n",
    "# \n",
    "xgb_param_grid = {'gamma':[0.1],\n",
    "                  'max_depth':[1,3],\n",
    "                  'min_child_weight':[1,3],\n",
    "                  'colsample_bytree':[0.3],\n",
    "                  'learning_rate':[0.05]}\n",
    "\n",
    "# passing data for hyper parameter tunning with Gridsearchcv\n",
    "gridCV(xgb_clf,xgb_param_grid)"
   ]
  },
  {
   "cell_type": "markdown",
   "id": "9665c9f9",
   "metadata": {
    "papermill": {
     "duration": 0.065472,
     "end_time": "2021-11-08T07:15:39.463282",
     "exception": false,
     "start_time": "2021-11-08T07:15:39.397810",
     "status": "completed"
    },
    "tags": []
   },
   "source": [
    "`NOTE:` \n",
    "* Any one of RandomizedSearchCv or GridSearchCV can we used, both works fine"
   ]
  },
  {
   "cell_type": "markdown",
   "id": "a3399dc0",
   "metadata": {
    "papermill": {
     "duration": 0.065079,
     "end_time": "2021-11-08T07:15:39.593867",
     "exception": false,
     "start_time": "2021-11-08T07:15:39.528788",
     "status": "completed"
    },
    "tags": []
   },
   "source": [
    "# Working on Test Dataset"
   ]
  },
  {
   "cell_type": "code",
   "execution_count": 38,
   "id": "d6760047",
   "metadata": {
    "execution": {
     "iopub.execute_input": "2021-11-08T07:15:39.729504Z",
     "iopub.status.busy": "2021-11-08T07:15:39.728382Z",
     "iopub.status.idle": "2021-11-08T07:15:39.747001Z",
     "shell.execute_reply": "2021-11-08T07:15:39.747605Z",
     "shell.execute_reply.started": "2021-11-08T07:08:34.120763Z"
    },
    "papermill": {
     "duration": 0.089082,
     "end_time": "2021-11-08T07:15:39.747831",
     "exception": false,
     "start_time": "2021-11-08T07:15:39.658749",
     "status": "completed"
    },
    "tags": []
   },
   "outputs": [
    {
     "data": {
      "text/html": [
       "<div>\n",
       "<style scoped>\n",
       "    .dataframe tbody tr th:only-of-type {\n",
       "        vertical-align: middle;\n",
       "    }\n",
       "\n",
       "    .dataframe tbody tr th {\n",
       "        vertical-align: top;\n",
       "    }\n",
       "\n",
       "    .dataframe thead th {\n",
       "        text-align: right;\n",
       "    }\n",
       "</style>\n",
       "<table border=\"1\" class=\"dataframe\">\n",
       "  <thead>\n",
       "    <tr style=\"text-align: right;\">\n",
       "      <th></th>\n",
       "      <th>Store_Ratio</th>\n",
       "      <th>Basket_Ratio</th>\n",
       "      <th>Category_1</th>\n",
       "      <th>Store_Score</th>\n",
       "      <th>Category_2</th>\n",
       "      <th>Store_Presence</th>\n",
       "      <th>Score_1</th>\n",
       "      <th>Score_2</th>\n",
       "      <th>Score_3</th>\n",
       "      <th>Score_4</th>\n",
       "      <th>time</th>\n",
       "    </tr>\n",
       "  </thead>\n",
       "  <tbody>\n",
       "    <tr>\n",
       "      <th>0</th>\n",
       "      <td>0.164</td>\n",
       "      <td>0.994</td>\n",
       "      <td>1</td>\n",
       "      <td>-23.718</td>\n",
       "      <td>0</td>\n",
       "      <td>0.12400</td>\n",
       "      <td>0.99100</td>\n",
       "      <td>0.7890</td>\n",
       "      <td>0.00001</td>\n",
       "      <td>127.602</td>\n",
       "      <td>236436</td>\n",
       "    </tr>\n",
       "    <tr>\n",
       "      <th>1</th>\n",
       "      <td>0.586</td>\n",
       "      <td>0.636</td>\n",
       "      <td>4</td>\n",
       "      <td>-7.710</td>\n",
       "      <td>1</td>\n",
       "      <td>0.00208</td>\n",
       "      <td>0.32200</td>\n",
       "      <td>0.1070</td>\n",
       "      <td>0.35500</td>\n",
       "      <td>136.337</td>\n",
       "      <td>253631</td>\n",
       "    </tr>\n",
       "    <tr>\n",
       "      <th>2</th>\n",
       "      <td>0.457</td>\n",
       "      <td>0.743</td>\n",
       "      <td>0</td>\n",
       "      <td>-7.591</td>\n",
       "      <td>1</td>\n",
       "      <td>0.40400</td>\n",
       "      <td>0.00931</td>\n",
       "      <td>0.2010</td>\n",
       "      <td>0.68800</td>\n",
       "      <td>154.902</td>\n",
       "      <td>215669</td>\n",
       "    </tr>\n",
       "    <tr>\n",
       "      <th>3</th>\n",
       "      <td>0.423</td>\n",
       "      <td>0.748</td>\n",
       "      <td>5</td>\n",
       "      <td>-9.832</td>\n",
       "      <td>1</td>\n",
       "      <td>0.03000</td>\n",
       "      <td>0.22100</td>\n",
       "      <td>0.1690</td>\n",
       "      <td>0.42800</td>\n",
       "      <td>93.977</td>\n",
       "      <td>325200</td>\n",
       "    </tr>\n",
       "    <tr>\n",
       "      <th>4</th>\n",
       "      <td>0.802</td>\n",
       "      <td>0.756</td>\n",
       "      <td>2</td>\n",
       "      <td>-10.791</td>\n",
       "      <td>0</td>\n",
       "      <td>0.08430</td>\n",
       "      <td>0.00765</td>\n",
       "      <td>0.0521</td>\n",
       "      <td>0.96300</td>\n",
       "      <td>131.715</td>\n",
       "      <td>288293</td>\n",
       "    </tr>\n",
       "  </tbody>\n",
       "</table>\n",
       "</div>"
      ],
      "text/plain": [
       "   Store_Ratio  Basket_Ratio  Category_1  Store_Score  Category_2  \\\n",
       "0        0.164         0.994           1      -23.718           0   \n",
       "1        0.586         0.636           4       -7.710           1   \n",
       "2        0.457         0.743           0       -7.591           1   \n",
       "3        0.423         0.748           5       -9.832           1   \n",
       "4        0.802         0.756           2      -10.791           0   \n",
       "\n",
       "   Store_Presence  Score_1  Score_2  Score_3  Score_4    time  \n",
       "0         0.12400  0.99100   0.7890  0.00001  127.602  236436  \n",
       "1         0.00208  0.32200   0.1070  0.35500  136.337  253631  \n",
       "2         0.40400  0.00931   0.2010  0.68800  154.902  215669  \n",
       "3         0.03000  0.22100   0.1690  0.42800   93.977  325200  \n",
       "4         0.08430  0.00765   0.0521  0.96300  131.715  288293  "
      ]
     },
     "execution_count": 38,
     "metadata": {},
     "output_type": "execute_result"
    }
   ],
   "source": [
    "test_df.head()"
   ]
  },
  {
   "cell_type": "markdown",
   "id": "64b09da2",
   "metadata": {
    "papermill": {
     "duration": 0.066458,
     "end_time": "2021-11-08T07:15:39.879815",
     "exception": false,
     "start_time": "2021-11-08T07:15:39.813357",
     "status": "completed"
    },
    "tags": []
   },
   "source": [
    "# preprocessing time col"
   ]
  },
  {
   "cell_type": "code",
   "execution_count": 39,
   "id": "3a2d549c",
   "metadata": {
    "execution": {
     "iopub.execute_input": "2021-11-08T07:15:40.018856Z",
     "iopub.status.busy": "2021-11-08T07:15:40.017728Z",
     "iopub.status.idle": "2021-11-08T07:15:40.045977Z",
     "shell.execute_reply": "2021-11-08T07:15:40.046555Z",
     "shell.execute_reply.started": "2021-11-08T07:08:37.642413Z"
    },
    "papermill": {
     "duration": 0.100022,
     "end_time": "2021-11-08T07:15:40.046817",
     "exception": false,
     "start_time": "2021-11-08T07:15:39.946795",
     "status": "completed"
    },
    "tags": []
   },
   "outputs": [],
   "source": [
    "# preparing test data as similarly as done for train data before\n",
    "test_df['minute'] = pd.to_datetime(test_df['time'].astype(int),unit='s').dt.minute\n",
    "test_df['hour'] = pd.to_datetime(test_df['time'].astype(int),unit='s').dt.hour\n",
    "test_df['day'] = pd.to_datetime(test_df['time'].astype(int),unit='s').dt.day\n",
    "test_df['month'] = pd.to_datetime(test_df['time'].astype(int),unit='s').dt.month\n",
    "test_df['year'] = pd.to_datetime(test_df['time'].astype(int),unit='s').dt.year\n",
    "\n",
    "test_df = test_df.drop(['time'],axis=1)"
   ]
  },
  {
   "cell_type": "code",
   "execution_count": 40,
   "id": "6f4f09c0",
   "metadata": {
    "execution": {
     "iopub.execute_input": "2021-11-08T07:15:40.182651Z",
     "iopub.status.busy": "2021-11-08T07:15:40.181555Z",
     "iopub.status.idle": "2021-11-08T07:15:40.195703Z",
     "shell.execute_reply": "2021-11-08T07:15:40.196290Z",
     "shell.execute_reply.started": "2021-11-08T07:08:40.605754Z"
    },
    "papermill": {
     "duration": 0.083829,
     "end_time": "2021-11-08T07:15:40.196522",
     "exception": false,
     "start_time": "2021-11-08T07:15:40.112693",
     "status": "completed"
    },
    "tags": []
   },
   "outputs": [],
   "source": [
    "# passing test data for scaling\n",
    "# list of the column names to be scaled \n",
    "col_to_scale = ['Store_Ratio','Basket_Ratio','Category_1','Store_Score','Category_2','Store_Presence','Score_1','Score_2','Score_3','Score_4']\n",
    "\n",
    "# passing data and column name for scaling\n",
    "Xtest = min_max_scaling(test_df,col_to_scale)"
   ]
  },
  {
   "cell_type": "code",
   "execution_count": 41,
   "id": "372b0e98",
   "metadata": {
    "execution": {
     "iopub.execute_input": "2021-11-08T07:15:40.332915Z",
     "iopub.status.busy": "2021-11-08T07:15:40.331781Z",
     "iopub.status.idle": "2021-11-08T07:15:44.387822Z",
     "shell.execute_reply": "2021-11-08T07:15:44.388594Z",
     "shell.execute_reply.started": "2021-11-08T07:08:42.874538Z"
    },
    "papermill": {
     "duration": 4.126594,
     "end_time": "2021-11-08T07:15:44.388804",
     "exception": false,
     "start_time": "2021-11-08T07:15:40.262210",
     "status": "completed"
    },
    "tags": []
   },
   "outputs": [
    {
     "data": {
      "text/plain": [
       "array([4, 4, 4, ..., 4, 4, 4])"
      ]
     },
     "execution_count": 41,
     "metadata": {},
     "output_type": "execute_result"
    }
   ],
   "source": [
    "# performing the prediction on the test dataset\n",
    "y_pred = voting_clf.predict(Xtest)\n",
    "y_pred"
   ]
  },
  {
   "cell_type": "code",
   "execution_count": 42,
   "id": "bfd8260b",
   "metadata": {
    "execution": {
     "iopub.execute_input": "2021-11-08T07:15:44.526662Z",
     "iopub.status.busy": "2021-11-08T07:15:44.525523Z",
     "iopub.status.idle": "2021-11-08T07:15:44.530049Z",
     "shell.execute_reply": "2021-11-08T07:15:44.530670Z",
     "shell.execute_reply.started": "2021-11-08T07:08:46.884999Z"
    },
    "papermill": {
     "duration": 0.075302,
     "end_time": "2021-11-08T07:15:44.530885",
     "exception": false,
     "start_time": "2021-11-08T07:15:44.455583",
     "status": "completed"
    },
    "tags": []
   },
   "outputs": [],
   "source": [
    "# creating a dataframe of predicted results \n",
    "predictions = pd.DataFrame(y_pred)"
   ]
  },
  {
   "cell_type": "code",
   "execution_count": 43,
   "id": "1ab3f349",
   "metadata": {
    "execution": {
     "iopub.execute_input": "2021-11-08T07:15:44.667726Z",
     "iopub.status.busy": "2021-11-08T07:15:44.666633Z",
     "iopub.status.idle": "2021-11-08T07:15:44.675681Z",
     "shell.execute_reply": "2021-11-08T07:15:44.676321Z",
     "shell.execute_reply.started": "2021-11-08T07:09:13.362991Z"
    },
    "papermill": {
     "duration": 0.079558,
     "end_time": "2021-11-08T07:15:44.676546",
     "exception": false,
     "start_time": "2021-11-08T07:15:44.596988",
     "status": "completed"
    },
    "tags": []
   },
   "outputs": [
    {
     "data": {
      "text/html": [
       "<div>\n",
       "<style scoped>\n",
       "    .dataframe tbody tr th:only-of-type {\n",
       "        vertical-align: middle;\n",
       "    }\n",
       "\n",
       "    .dataframe tbody tr th {\n",
       "        vertical-align: top;\n",
       "    }\n",
       "\n",
       "    .dataframe thead th {\n",
       "        text-align: right;\n",
       "    }\n",
       "</style>\n",
       "<table border=\"1\" class=\"dataframe\">\n",
       "  <thead>\n",
       "    <tr style=\"text-align: right;\">\n",
       "      <th></th>\n",
       "      <th>0</th>\n",
       "    </tr>\n",
       "  </thead>\n",
       "  <tbody>\n",
       "    <tr>\n",
       "      <th>0</th>\n",
       "      <td>4</td>\n",
       "    </tr>\n",
       "    <tr>\n",
       "      <th>1</th>\n",
       "      <td>4</td>\n",
       "    </tr>\n",
       "    <tr>\n",
       "      <th>2</th>\n",
       "      <td>4</td>\n",
       "    </tr>\n",
       "    <tr>\n",
       "      <th>3</th>\n",
       "      <td>4</td>\n",
       "    </tr>\n",
       "    <tr>\n",
       "      <th>4</th>\n",
       "      <td>4</td>\n",
       "    </tr>\n",
       "    <tr>\n",
       "      <th>5</th>\n",
       "      <td>4</td>\n",
       "    </tr>\n",
       "    <tr>\n",
       "      <th>6</th>\n",
       "      <td>4</td>\n",
       "    </tr>\n",
       "    <tr>\n",
       "      <th>7</th>\n",
       "      <td>4</td>\n",
       "    </tr>\n",
       "    <tr>\n",
       "      <th>8</th>\n",
       "      <td>4</td>\n",
       "    </tr>\n",
       "    <tr>\n",
       "      <th>9</th>\n",
       "      <td>4</td>\n",
       "    </tr>\n",
       "  </tbody>\n",
       "</table>\n",
       "</div>"
      ],
      "text/plain": [
       "   0\n",
       "0  4\n",
       "1  4\n",
       "2  4\n",
       "3  4\n",
       "4  4\n",
       "5  4\n",
       "6  4\n",
       "7  4\n",
       "8  4\n",
       "9  4"
      ]
     },
     "execution_count": 43,
     "metadata": {},
     "output_type": "execute_result"
    }
   ],
   "source": [
    "# predicted values in dataframe\n",
    "predictions.head(10)"
   ]
  },
  {
   "cell_type": "markdown",
   "id": "267a8dd9",
   "metadata": {
    "papermill": {
     "duration": 0.066411,
     "end_time": "2021-11-08T07:15:44.809576",
     "exception": false,
     "start_time": "2021-11-08T07:15:44.743165",
     "status": "completed"
    },
    "tags": []
   },
   "source": [
    "# `CONCLUSION`\n",
    "In my [first notebook]() i did covered EDA, preprocessing, build different models, visualized feature importance, did hyper parameter tunning of each model and did prediction. store ratio is most important column in the dataset. I used voting classifier for prediction"
   ]
  },
  {
   "cell_type": "code",
   "execution_count": null,
   "id": "fc0c9c2e",
   "metadata": {
    "papermill": {
     "duration": 0.06649,
     "end_time": "2021-11-08T07:15:44.944050",
     "exception": false,
     "start_time": "2021-11-08T07:15:44.877560",
     "status": "completed"
    },
    "tags": []
   },
   "outputs": [],
   "source": []
  }
 ],
 "metadata": {
  "kernelspec": {
   "display_name": "Python 3",
   "language": "python",
   "name": "python3"
  },
  "language_info": {
   "codemirror_mode": {
    "name": "ipython",
    "version": 3
   },
   "file_extension": ".py",
   "mimetype": "text/x-python",
   "name": "python",
   "nbconvert_exporter": "python",
   "pygments_lexer": "ipython3",
   "version": "3.7.10"
  },
  "papermill": {
   "default_parameters": {},
   "duration": 166.172493,
   "end_time": "2021-11-08T07:15:46.226163",
   "environment_variables": {},
   "exception": null,
   "input_path": "__notebook__.ipynb",
   "output_path": "__notebook__.ipynb",
   "parameters": {},
   "start_time": "2021-11-08T07:13:00.053670",
   "version": "2.3.3"
  }
 },
 "nbformat": 4,
 "nbformat_minor": 5
}
