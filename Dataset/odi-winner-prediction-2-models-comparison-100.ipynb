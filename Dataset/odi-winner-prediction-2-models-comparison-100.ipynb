{
 "cells": [
  {
   "cell_type": "markdown",
   "id": "2e76fa6c",
   "metadata": {
    "papermill": {
     "duration": 0.037079,
     "end_time": "2021-11-01T06:23:18.873982",
     "exception": false,
     "start_time": "2021-11-01T06:23:18.836903",
     "status": "completed"
    },
    "tags": []
   },
   "source": [
    "# What is the Problem Statement\n",
    "\n",
    "To predict future ODI cricket match winner based on previous year's match result\n",
    "\n",
    "I am intrusted in 2010 to 2021 data only as this is more recent"
   ]
  },
  {
   "cell_type": "markdown",
   "id": "f6f18398",
   "metadata": {
    "papermill": {
     "duration": 0.029929,
     "end_time": "2021-11-01T06:23:18.936761",
     "exception": false,
     "start_time": "2021-11-01T06:23:18.906832",
     "status": "completed"
    },
    "tags": []
   },
   "source": [
    "# Dataset Desciption\n",
    "\n",
    "Dataset folder contains following file:\n",
    "\n",
    ">`ODI-data-1971-2017.csv` having `3932 rows x 7 columns`<br>\n",
    "Columns Provided in Dataset\n",
    "\n",
    "1. Scorecard\n",
    "2. Team 1\n",
    "3. Team 2\n",
    "4. Winner\n",
    "5. Margin\n",
    "6. Ground\n",
    "7. Match Date\n",
    "\n",
    "\n",
    ">`ODI-data-2017-2021.csv` having `495 x 8 columns`<br>\n",
    "Columns Provided in Dataset\n",
    "\n",
    "1. Scorecard\n",
    "2. Team 1\n",
    "3. Team 2\n",
    "4. Winner\n",
    "5. Margin\n",
    "6. Ground\n",
    "7. Match Date\n",
    "8. Unnamed: 0"
   ]
  },
  {
   "cell_type": "code",
   "execution_count": 1,
   "id": "a954cce9",
   "metadata": {
    "_cell_guid": "b1076dfc-b9ad-4769-8c92-a6c4dae69d19",
    "_uuid": "8f2839f25d086af736a60e9eeb907d3b93b6e0e5",
    "execution": {
     "iopub.execute_input": "2021-11-01T06:23:19.000905Z",
     "iopub.status.busy": "2021-11-01T06:23:18.999847Z",
     "iopub.status.idle": "2021-11-01T06:23:19.019002Z",
     "shell.execute_reply": "2021-11-01T06:23:19.018310Z",
     "shell.execute_reply.started": "2021-11-01T06:01:03.782395Z"
    },
    "papermill": {
     "duration": 0.052517,
     "end_time": "2021-11-01T06:23:19.019164",
     "exception": false,
     "start_time": "2021-11-01T06:23:18.966647",
     "status": "completed"
    },
    "tags": []
   },
   "outputs": [
    {
     "name": "stdout",
     "output_type": "stream",
     "text": [
      "/kaggle/input/odi-cricket-match-data/ODI-Data-2017-2021.csv\n",
      "/kaggle/input/odi-cricket-match-data/ODI-data-1971-2017-2.csv\n"
     ]
    }
   ],
   "source": [
    "# This Python 3 environment comes with many helpful analytics libraries installed\n",
    "# It is defined by the kaggle/python Docker image: https://github.com/kaggle/docker-python\n",
    "# For example, here's several helpful packages to load\n",
    "\n",
    "import numpy as np # linear algebra\n",
    "import pandas as pd # data processing, CSV file I/O (e.g. pd.read_csv)\n",
    "\n",
    "# Input data files are available in the read-only \"../input/\" directory\n",
    "# For example, running this (by clicking run or pressing Shift+Enter) will list all files under the input directory\n",
    "\n",
    "import os\n",
    "for dirname, _, filenames in os.walk('/kaggle/input'):\n",
    "    for filename in filenames:\n",
    "        print(os.path.join(dirname, filename))\n",
    "\n",
    "# You can write up to 20GB to the current directory (/kaggle/working/) that gets preserved as output when you create a version using \"Save & Run All\" \n",
    "# You can also write temporary files to /kaggle/temp/, but they won't be saved outside of the current session"
   ]
  },
  {
   "cell_type": "code",
   "execution_count": 2,
   "id": "f8872421",
   "metadata": {
    "execution": {
     "iopub.execute_input": "2021-11-01T06:23:19.084799Z",
     "iopub.status.busy": "2021-11-01T06:23:19.083866Z",
     "iopub.status.idle": "2021-11-01T06:23:20.160960Z",
     "shell.execute_reply": "2021-11-01T06:23:20.160343Z",
     "shell.execute_reply.started": "2021-11-01T06:01:03.814909Z"
    },
    "papermill": {
     "duration": 1.110937,
     "end_time": "2021-11-01T06:23:20.161107",
     "exception": false,
     "start_time": "2021-11-01T06:23:19.050170",
     "status": "completed"
    },
    "tags": []
   },
   "outputs": [],
   "source": [
    "# importing necessary libraries\n",
    "import seaborn as sns\n",
    "from sklearn.model_selection import train_test_split\n",
    "\n",
    "import matplotlib.pyplot as plt\n",
    "%matplotlib inline\n",
    "\n",
    "import warnings\n",
    "warnings.filterwarnings('ignore')"
   ]
  },
  {
   "cell_type": "code",
   "execution_count": 3,
   "id": "e35ad0c1",
   "metadata": {
    "execution": {
     "iopub.execute_input": "2021-11-01T06:23:20.227369Z",
     "iopub.status.busy": "2021-11-01T06:23:20.226647Z",
     "iopub.status.idle": "2021-11-01T06:23:20.259808Z",
     "shell.execute_reply": "2021-11-01T06:23:20.260349Z",
     "shell.execute_reply.started": "2021-11-01T06:01:03.829948Z"
    },
    "papermill": {
     "duration": 0.068861,
     "end_time": "2021-11-01T06:23:20.260533",
     "exception": false,
     "start_time": "2021-11-01T06:23:20.191672",
     "status": "completed"
    },
    "tags": []
   },
   "outputs": [],
   "source": [
    "# loading datasets ODI_data_1971_2017 and ODI_data_2017_2021\n",
    "data_1971_2017 = pd.read_csv('/kaggle/input/odi-cricket-match-data/ODI-data-1971-2017-2.csv')\n",
    "data_2017_2021 = pd.read_csv('/kaggle/input/odi-cricket-match-data/ODI-Data-2017-2021.csv')"
   ]
  },
  {
   "cell_type": "code",
   "execution_count": 4,
   "id": "36494808",
   "metadata": {
    "execution": {
     "iopub.execute_input": "2021-11-01T06:23:20.429358Z",
     "iopub.status.busy": "2021-11-01T06:23:20.428585Z",
     "iopub.status.idle": "2021-11-01T06:23:20.443102Z",
     "shell.execute_reply": "2021-11-01T06:23:20.443516Z",
     "shell.execute_reply.started": "2021-11-01T06:01:03.855021Z"
    },
    "papermill": {
     "duration": 0.15223,
     "end_time": "2021-11-01T06:23:20.443683",
     "exception": false,
     "start_time": "2021-11-01T06:23:20.291453",
     "status": "completed"
    },
    "tags": []
   },
   "outputs": [
    {
     "data": {
      "text/html": [
       "<div>\n",
       "<style scoped>\n",
       "    .dataframe tbody tr th:only-of-type {\n",
       "        vertical-align: middle;\n",
       "    }\n",
       "\n",
       "    .dataframe tbody tr th {\n",
       "        vertical-align: top;\n",
       "    }\n",
       "\n",
       "    .dataframe thead th {\n",
       "        text-align: right;\n",
       "    }\n",
       "</style>\n",
       "<table border=\"1\" class=\"dataframe\">\n",
       "  <thead>\n",
       "    <tr style=\"text-align: right;\">\n",
       "      <th></th>\n",
       "      <th>Scorecard</th>\n",
       "      <th>Team 1</th>\n",
       "      <th>Team 2</th>\n",
       "      <th>Winner</th>\n",
       "      <th>Margin</th>\n",
       "      <th>Ground</th>\n",
       "      <th>Match Date</th>\n",
       "    </tr>\n",
       "  </thead>\n",
       "  <tbody>\n",
       "    <tr>\n",
       "      <th>0</th>\n",
       "      <td>ODI # 1</td>\n",
       "      <td>Australia</td>\n",
       "      <td>England</td>\n",
       "      <td>Australia</td>\n",
       "      <td>5 wickets</td>\n",
       "      <td>Melbourne</td>\n",
       "      <td>Jan 5, 1971</td>\n",
       "    </tr>\n",
       "    <tr>\n",
       "      <th>1</th>\n",
       "      <td>ODI # 2</td>\n",
       "      <td>England</td>\n",
       "      <td>Australia</td>\n",
       "      <td>England</td>\n",
       "      <td>6 wickets</td>\n",
       "      <td>Manchester</td>\n",
       "      <td>Aug 24, 1972</td>\n",
       "    </tr>\n",
       "    <tr>\n",
       "      <th>2</th>\n",
       "      <td>ODI # 3</td>\n",
       "      <td>England</td>\n",
       "      <td>Australia</td>\n",
       "      <td>Australia</td>\n",
       "      <td>5 wickets</td>\n",
       "      <td>Lord's</td>\n",
       "      <td>Aug 26, 1972</td>\n",
       "    </tr>\n",
       "    <tr>\n",
       "      <th>3</th>\n",
       "      <td>ODI # 4</td>\n",
       "      <td>England</td>\n",
       "      <td>Australia</td>\n",
       "      <td>England</td>\n",
       "      <td>2 wickets</td>\n",
       "      <td>Birmingham</td>\n",
       "      <td>Aug 28, 1972</td>\n",
       "    </tr>\n",
       "    <tr>\n",
       "      <th>4</th>\n",
       "      <td>ODI # 5</td>\n",
       "      <td>New Zealand</td>\n",
       "      <td>Pakistan</td>\n",
       "      <td>New Zealand</td>\n",
       "      <td>22 runs</td>\n",
       "      <td>Christchurch</td>\n",
       "      <td>Feb 11, 1973</td>\n",
       "    </tr>\n",
       "  </tbody>\n",
       "</table>\n",
       "</div>"
      ],
      "text/plain": [
       "  Scorecard       Team 1     Team 2       Winner     Margin        Ground  \\\n",
       "0   ODI # 1    Australia    England    Australia  5 wickets     Melbourne   \n",
       "1   ODI # 2      England  Australia      England  6 wickets    Manchester   \n",
       "2   ODI # 3      England  Australia    Australia  5 wickets        Lord's   \n",
       "3   ODI # 4      England  Australia      England  2 wickets    Birmingham   \n",
       "4   ODI # 5  New Zealand   Pakistan  New Zealand    22 runs  Christchurch   \n",
       "\n",
       "     Match Date  \n",
       "0   Jan 5, 1971  \n",
       "1  Aug 24, 1972  \n",
       "2  Aug 26, 1972  \n",
       "3  Aug 28, 1972  \n",
       "4  Feb 11, 1973  "
      ]
     },
     "execution_count": 4,
     "metadata": {},
     "output_type": "execute_result"
    }
   ],
   "source": [
    "# ODI_data_1971_2017 data\n",
    "data_1971_2017.head()"
   ]
  },
  {
   "cell_type": "code",
   "execution_count": 5,
   "id": "d5ccc2d8",
   "metadata": {
    "execution": {
     "iopub.execute_input": "2021-11-01T06:23:20.508621Z",
     "iopub.status.busy": "2021-11-01T06:23:20.508056Z",
     "iopub.status.idle": "2021-11-01T06:23:20.519838Z",
     "shell.execute_reply": "2021-11-01T06:23:20.519379Z",
     "shell.execute_reply.started": "2021-11-01T06:01:03.871426Z"
    },
    "papermill": {
     "duration": 0.045036,
     "end_time": "2021-11-01T06:23:20.519992",
     "exception": false,
     "start_time": "2021-11-01T06:23:20.474956",
     "status": "completed"
    },
    "tags": []
   },
   "outputs": [
    {
     "data": {
      "text/html": [
       "<div>\n",
       "<style scoped>\n",
       "    .dataframe tbody tr th:only-of-type {\n",
       "        vertical-align: middle;\n",
       "    }\n",
       "\n",
       "    .dataframe tbody tr th {\n",
       "        vertical-align: top;\n",
       "    }\n",
       "\n",
       "    .dataframe thead th {\n",
       "        text-align: right;\n",
       "    }\n",
       "</style>\n",
       "<table border=\"1\" class=\"dataframe\">\n",
       "  <thead>\n",
       "    <tr style=\"text-align: right;\">\n",
       "      <th></th>\n",
       "      <th>Unnamed: 0</th>\n",
       "      <th>Scorecard</th>\n",
       "      <th>Team 1</th>\n",
       "      <th>Team 2</th>\n",
       "      <th>Winner</th>\n",
       "      <th>Margin</th>\n",
       "      <th>Ground</th>\n",
       "      <th>Match Date</th>\n",
       "    </tr>\n",
       "  </thead>\n",
       "  <tbody>\n",
       "    <tr>\n",
       "      <th>0</th>\n",
       "      <td>0</td>\n",
       "      <td>ODI # 3817</td>\n",
       "      <td>Australia</td>\n",
       "      <td>Pakistan</td>\n",
       "      <td>Australia</td>\n",
       "      <td>92 runs</td>\n",
       "      <td>Brisbane</td>\n",
       "      <td>Jan 13, 2017</td>\n",
       "    </tr>\n",
       "    <tr>\n",
       "      <th>1</th>\n",
       "      <td>1</td>\n",
       "      <td>ODI # 3818</td>\n",
       "      <td>Australia</td>\n",
       "      <td>Pakistan</td>\n",
       "      <td>Pakistan</td>\n",
       "      <td>6 wickets</td>\n",
       "      <td>Melbourne</td>\n",
       "      <td>Jan 15, 2017</td>\n",
       "    </tr>\n",
       "    <tr>\n",
       "      <th>2</th>\n",
       "      <td>2</td>\n",
       "      <td>ODI # 3819</td>\n",
       "      <td>India</td>\n",
       "      <td>England</td>\n",
       "      <td>India</td>\n",
       "      <td>3 wickets</td>\n",
       "      <td>Pune</td>\n",
       "      <td>Jan 15, 2017</td>\n",
       "    </tr>\n",
       "    <tr>\n",
       "      <th>3</th>\n",
       "      <td>3</td>\n",
       "      <td>ODI # 3820</td>\n",
       "      <td>Australia</td>\n",
       "      <td>Pakistan</td>\n",
       "      <td>Australia</td>\n",
       "      <td>7 wickets</td>\n",
       "      <td>Perth</td>\n",
       "      <td>Jan 19, 2017</td>\n",
       "    </tr>\n",
       "    <tr>\n",
       "      <th>4</th>\n",
       "      <td>4</td>\n",
       "      <td>ODI # 3821</td>\n",
       "      <td>India</td>\n",
       "      <td>England</td>\n",
       "      <td>India</td>\n",
       "      <td>15 runs</td>\n",
       "      <td>Cuttack</td>\n",
       "      <td>Jan 19, 2017</td>\n",
       "    </tr>\n",
       "  </tbody>\n",
       "</table>\n",
       "</div>"
      ],
      "text/plain": [
       "   Unnamed: 0   Scorecard     Team 1    Team 2     Winner     Margin  \\\n",
       "0           0  ODI # 3817  Australia  Pakistan  Australia    92 runs   \n",
       "1           1  ODI # 3818  Australia  Pakistan   Pakistan  6 wickets   \n",
       "2           2  ODI # 3819      India   England      India  3 wickets   \n",
       "3           3  ODI # 3820  Australia  Pakistan  Australia  7 wickets   \n",
       "4           4  ODI # 3821      India   England      India    15 runs   \n",
       "\n",
       "      Ground    Match Date  \n",
       "0   Brisbane  Jan 13, 2017  \n",
       "1  Melbourne  Jan 15, 2017  \n",
       "2       Pune  Jan 15, 2017  \n",
       "3      Perth  Jan 19, 2017  \n",
       "4    Cuttack  Jan 19, 2017  "
      ]
     },
     "execution_count": 5,
     "metadata": {},
     "output_type": "execute_result"
    }
   ],
   "source": [
    "# ODI_data_2017_2021 data\n",
    "data_2017_2021.head()"
   ]
  },
  {
   "cell_type": "code",
   "execution_count": 6,
   "id": "b6193a8c",
   "metadata": {
    "execution": {
     "iopub.execute_input": "2021-11-01T06:23:20.645012Z",
     "iopub.status.busy": "2021-11-01T06:23:20.644400Z",
     "iopub.status.idle": "2021-11-01T06:23:20.647043Z",
     "shell.execute_reply": "2021-11-01T06:23:20.647494Z",
     "shell.execute_reply.started": "2021-11-01T06:01:03.891028Z"
    },
    "papermill": {
     "duration": 0.096315,
     "end_time": "2021-11-01T06:23:20.647653",
     "exception": false,
     "start_time": "2021-11-01T06:23:20.551338",
     "status": "completed"
    },
    "tags": []
   },
   "outputs": [
    {
     "data": {
      "text/plain": [
       "((3932, 7), (495, 8))"
      ]
     },
     "execution_count": 6,
     "metadata": {},
     "output_type": "execute_result"
    }
   ],
   "source": [
    "data_1971_2017.shape, data_2017_2021.shape"
   ]
  },
  {
   "cell_type": "markdown",
   "id": "0f2059d4",
   "metadata": {
    "papermill": {
     "duration": 0.031265,
     "end_time": "2021-11-01T06:23:20.710462",
     "exception": false,
     "start_time": "2021-11-01T06:23:20.679197",
     "status": "completed"
    },
    "tags": []
   },
   "source": [
    "8th column is `Unnamed: 0` of no use this is index, so droping it"
   ]
  },
  {
   "cell_type": "code",
   "execution_count": 7,
   "id": "fe7e322e",
   "metadata": {
    "execution": {
     "iopub.execute_input": "2021-11-01T06:23:20.782082Z",
     "iopub.status.busy": "2021-11-01T06:23:20.781476Z",
     "iopub.status.idle": "2021-11-01T06:23:20.786136Z",
     "shell.execute_reply": "2021-11-01T06:23:20.786546Z",
     "shell.execute_reply.started": "2021-11-01T06:01:03.901851Z"
    },
    "papermill": {
     "duration": 0.044505,
     "end_time": "2021-11-01T06:23:20.786716",
     "exception": false,
     "start_time": "2021-11-01T06:23:20.742211",
     "status": "completed"
    },
    "tags": []
   },
   "outputs": [],
   "source": [
    "data_2017_2021.drop(['Unnamed: 0'],axis=1,inplace=True)"
   ]
  },
  {
   "cell_type": "code",
   "execution_count": 8,
   "id": "1b9898df",
   "metadata": {
    "execution": {
     "iopub.execute_input": "2021-11-01T06:23:20.869479Z",
     "iopub.status.busy": "2021-11-01T06:23:20.868542Z",
     "iopub.status.idle": "2021-11-01T06:23:20.884385Z",
     "shell.execute_reply": "2021-11-01T06:23:20.885166Z",
     "shell.execute_reply.started": "2021-11-01T06:01:03.910590Z"
    },
    "papermill": {
     "duration": 0.065233,
     "end_time": "2021-11-01T06:23:20.885424",
     "exception": false,
     "start_time": "2021-11-01T06:23:20.820191",
     "status": "completed"
    },
    "tags": []
   },
   "outputs": [
    {
     "data": {
      "text/plain": [
       "Scorecard     3932\n",
       "Team 1          24\n",
       "Team 2          25\n",
       "Winner          25\n",
       "Margin         227\n",
       "Ground         173\n",
       "Match Date    3386\n",
       "dtype: int64"
      ]
     },
     "execution_count": 8,
     "metadata": {},
     "output_type": "execute_result"
    }
   ],
   "source": [
    "data_1971_2017.nunique()"
   ]
  },
  {
   "cell_type": "code",
   "execution_count": 9,
   "id": "cde77314",
   "metadata": {
    "execution": {
     "iopub.execute_input": "2021-11-01T06:23:20.963043Z",
     "iopub.status.busy": "2021-11-01T06:23:20.962461Z",
     "iopub.status.idle": "2021-11-01T06:23:20.969579Z",
     "shell.execute_reply": "2021-11-01T06:23:20.970136Z",
     "shell.execute_reply.started": "2021-11-01T06:01:03.948717Z"
    },
    "papermill": {
     "duration": 0.042173,
     "end_time": "2021-11-01T06:23:20.970312",
     "exception": false,
     "start_time": "2021-11-01T06:23:20.928139",
     "status": "completed"
    },
    "tags": []
   },
   "outputs": [
    {
     "data": {
      "text/plain": [
       "Scorecard     495\n",
       "Team 1         21\n",
       "Team 2         20\n",
       "Winner         23\n",
       "Margin        158\n",
       "Ground        100\n",
       "Match Date    408\n",
       "dtype: int64"
      ]
     },
     "execution_count": 9,
     "metadata": {},
     "output_type": "execute_result"
    }
   ],
   "source": [
    "data_2017_2021.nunique()"
   ]
  },
  {
   "cell_type": "code",
   "execution_count": 10,
   "id": "067626f2",
   "metadata": {
    "execution": {
     "iopub.execute_input": "2021-11-01T06:23:21.037688Z",
     "iopub.status.busy": "2021-11-01T06:23:21.037114Z",
     "iopub.status.idle": "2021-11-01T06:23:21.044428Z",
     "shell.execute_reply": "2021-11-01T06:23:21.044881Z",
     "shell.execute_reply.started": "2021-11-01T06:01:03.984097Z"
    },
    "papermill": {
     "duration": 0.04247,
     "end_time": "2021-11-01T06:23:21.045069",
     "exception": false,
     "start_time": "2021-11-01T06:23:21.002599",
     "status": "completed"
    },
    "tags": []
   },
   "outputs": [
    {
     "data": {
      "text/plain": [
       "array(['Jan 5, 1971', 'Aug 24, 1972', 'Aug 26, 1972', ..., 'Oct 23, 2017',\n",
       "       'Oct 25, 2017', 'Oct 29, 2017'], dtype=object)"
      ]
     },
     "execution_count": 10,
     "metadata": {},
     "output_type": "execute_result"
    }
   ],
   "source": [
    "data_1971_2017['Match Date'].unique()"
   ]
  },
  {
   "cell_type": "code",
   "execution_count": 11,
   "id": "b23c9b95",
   "metadata": {
    "execution": {
     "iopub.execute_input": "2021-11-01T06:23:21.113793Z",
     "iopub.status.busy": "2021-11-01T06:23:21.113220Z",
     "iopub.status.idle": "2021-11-01T06:23:21.118739Z",
     "shell.execute_reply": "2021-11-01T06:23:21.119171Z",
     "shell.execute_reply.started": "2021-11-01T06:01:03.992556Z"
    },
    "papermill": {
     "duration": 0.041258,
     "end_time": "2021-11-01T06:23:21.119343",
     "exception": false,
     "start_time": "2021-11-01T06:23:21.078085",
     "status": "completed"
    },
    "tags": []
   },
   "outputs": [
    {
     "data": {
      "text/plain": [
       "array(['Jan 13, 2017', 'Jan 15, 2017', 'Jan 19, 2017', 'Jan 22, 2017',\n",
       "       'Jan 24, 2017', 'Jan 26, 2017', 'Jan 28, 2017', 'Jan 30, 2017',\n",
       "       'Feb 1, 2017', 'Feb 4, 2017', 'Feb 5, 2017', 'Feb 7, 2017',\n",
       "       'Feb 10, 2017', 'Feb 16, 2017', 'Feb 19, 2017', 'Feb 21, 2017',\n",
       "       'Feb 22, 2017', 'Feb 24, 2017', 'Feb 25, 2017', 'Feb 26, 2017',\n",
       "       'Mar 1, 2017', 'Mar 2, 2017', 'Mar 3, 2017', 'Mar 4, 2017',\n",
       "       'Mar 5, 2017', 'Mar 9, 2017', 'Mar 15, 2017', 'Mar 17, 2017',\n",
       "       'Mar 19, 2017', 'Mar 22, 2017', 'Mar 24, 2017', 'Mar 25, 2017',\n",
       "       'Mar 28, 2017', 'Mar 31, 2017', 'Apr 1, 2017', 'Apr 2, 2017',\n",
       "       'Apr 4, 2017', 'Apr 7, 2017', 'Apr 9, 2017', 'Apr 11, 2017',\n",
       "       'May 5, 2017', 'May 7, 2017', 'May 12, 2017', 'May 14, 2017',\n",
       "       'May 17, 2017', 'May 19, 2017', 'May 21, 2017', 'May 24, 2017',\n",
       "       'May 27, 2017', 'May 29, 2017', 'Jun 1, 2017', 'Jun 2, 2017',\n",
       "       'Jun 3, 2017', 'Jun 4, 2017', 'Jun 5, 2017', 'Jun 6, 2017',\n",
       "       'Jun 7, 2017', 'Jun 8, 2017', 'Jun 9, 2017', 'Jun 10, 2017',\n",
       "       'Jun 11, 2017', 'Jun 12, 2017', 'Jun 14, 2017', 'Jun 15, 2017',\n",
       "       'Jun 17, 2017', 'Jun 18, 2017', 'Jun 23, 2017', 'Jun 25, 2017',\n",
       "       'Jun 30, 2017', 'Jul 2, 2017', 'Jul 6, 2017', 'Jul 8, 2017',\n",
       "       'Jul 10, 2017', 'Aug 20, 2017', 'Aug 24, 2017', 'Aug 27, 2017',\n",
       "       'Aug 31, 2017', 'Sep 3, 2017', 'Sep 17, 2017', 'Sep 19, 2017',\n",
       "       'Sep 21, 2017', 'Sep 24, 2017', 'Sep 27, 2017', 'Sep 28, 2017',\n",
       "       'Sep 29, 2017', 'Oct 1, 2017', 'Oct 6, 2017', 'Oct 8, 2017',\n",
       "       'Oct 13, 2017', 'Oct 15, 2017', 'Oct 16, 2017', 'Oct 18, 2017',\n",
       "       'Oct 20, 2017', 'Oct 22, 2017', 'Oct 23, 2017', 'Oct 25, 2017',\n",
       "       'Oct 29, 2017', 'Nov 24, 2017', 'Nov 25, 2017', 'Dec 5, 2017',\n",
       "       'Dec 6, 2017', 'Dec 7, 2017', 'Dec 8, 2017', 'Dec 10, 2017',\n",
       "       'Dec 13, 2017', 'Dec 17, 2017', 'Dec 20, 2017', 'Dec 23, 2017',\n",
       "       'Dec 26, 2017', 'Jan 6, 2018', 'Jan 9, 2018', 'Jan 11, 2018',\n",
       "       'Jan 13, 2018', 'Jan 14, 2018', 'Jan 15, 2018', 'Jan 16, 2018',\n",
       "       'Jan 17, 2018', 'Jan 18, 2018', 'Jan 19, 2018', 'Jan 21, 2018',\n",
       "       'Jan 23, 2018', 'Jan 25, 2018', 'Jan 26, 2018', 'Jan 27, 2018',\n",
       "       'Jan 28, 2018', 'Feb 1, 2018', 'Feb 4, 2018', 'Feb 7, 2018',\n",
       "       'Feb 9, 2018', 'Feb 10, 2018', 'Feb 11, 2018', 'Feb 13, 2018',\n",
       "       'Feb 16, 2018', 'Feb 19, 2018', 'Feb 25, 2018', 'Feb 28, 2018',\n",
       "       'Mar 3, 2018', 'Mar 4, 2018', 'Mar 6, 2018', 'Mar 7, 2018',\n",
       "       'Mar 8, 2018', 'Mar 10, 2018', 'Mar 12, 2018', 'Mar 15, 2018',\n",
       "       'Mar 16, 2018', 'Mar 17, 2018', 'Mar 18, 2018', 'Mar 19, 2018',\n",
       "       'Mar 20, 2018', 'Mar 21, 2018', 'Mar 22, 2018', 'Mar 23, 2018',\n",
       "       'Mar 25, 2018', 'Jun 10, 2018', 'Jun 13, 2018', 'Jun 16, 2018',\n",
       "       'Jun 19, 2018', 'Jun 21, 2018', 'Jun 24, 2018', 'Jul 12, 2018',\n",
       "       'Jul 13, 2018', 'Jul 14, 2018', 'Jul 16, 2018', 'Jul 17, 2018',\n",
       "       'Jul 18, 2018', 'Jul 20, 2018', 'Jul 22, 2018', 'Jul 25, 2018',\n",
       "       'Jul 28, 2018', 'Jul 29, 2018', 'Aug 1, 2018', 'Aug 3, 2018',\n",
       "       'Aug 5, 2018', 'Aug 8, 2018', 'Aug 12, 2018', 'Aug 27, 2018',\n",
       "       'Aug 29, 2018', 'Aug 30, 2018', 'Aug 31, 2018', 'Sep 15, 2018',\n",
       "       'Sep 16, 2018', 'Sep 17, 2018', 'Sep 18, 2018', 'Sep 19, 2018',\n",
       "       'Sep 20, 2018', 'Sep 21, 2018', 'Sep 23, 2018', 'Sep 25, 2018',\n",
       "       'Sep 26, 2018', 'Sep 28, 2018', 'Sep 30, 2018', 'Oct 3, 2018',\n",
       "       'Oct 6, 2018', 'Oct 10, 2018', 'Oct 13, 2018', 'Oct 17, 2018',\n",
       "       'Oct 20, 2018', 'Oct 21, 2018', 'Oct 23, 2018', 'Oct 24, 2018',\n",
       "       'Oct 26, 2018', 'Oct 27, 2018', 'Oct 29, 2018', 'Nov 1, 2018',\n",
       "       'Nov 4, 2018', 'Nov 7, 2018', 'Nov 9, 2018', 'Nov 11, 2018',\n",
       "       'Dec 9, 2018', 'Dec 11, 2018', 'Dec 14, 2018', 'Jan 3, 2019',\n",
       "       'Jan 5, 2019', 'Jan 8, 2019', 'Jan 12, 2019', 'Jan 15, 2019',\n",
       "       'Jan 18, 2019', 'Jan 19, 2019', 'Jan 22, 2019', 'Jan 23, 2019',\n",
       "       'Jan 25, 2019', 'Jan 26, 2019', 'Jan 27, 2019', 'Jan 28, 2019',\n",
       "       'Jan 30, 2019', 'Jan 31, 2019', 'Feb 3, 2019', 'Feb 13, 2019',\n",
       "       'Feb 16, 2019', 'Feb 20, 2019', 'Feb 22, 2019', 'Feb 25, 2019',\n",
       "       'Feb 27, 2019', 'Feb 28, 2019', 'Mar 2, 2019', 'Mar 3, 2019',\n",
       "       'Mar 5, 2019', 'Mar 6, 2019', 'Mar 8, 2019', 'Mar 10, 2019',\n",
       "       'Mar 13, 2019', 'Mar 16, 2019', 'Mar 22, 2019', 'Mar 24, 2019',\n",
       "       'Mar 27, 2019', 'Mar 29, 2019', 'Mar 31, 2019', 'Apr 10, 2019',\n",
       "       'Apr 12, 2019', 'Apr 14, 2019', 'Apr 16, 2019', 'Apr 27, 2019',\n",
       "       'May 3, 2019', 'May 5, 2019', 'May 7, 2019', 'May 8, 2019',\n",
       "       'May 10, 2019', 'May 11, 2019', 'May 13, 2019', 'May 14, 2019',\n",
       "       'May 15, 2019', 'May 17, 2019', 'May 19, 2019', 'May 21, 2019',\n",
       "       'May 30, 2019', 'May 31, 2019', 'Jun 1, 2019', 'Jun 2, 2019',\n",
       "       'Jun 3, 2019', 'Jun 4, 2019', 'Jun 5, 2019', 'Jun 6, 2019',\n",
       "       'Jun 8, 2019', 'Jun 9, 2019', 'Jun 10, 2019', 'Jun 12, 2019',\n",
       "       'Jun 14, 2019', 'Jun 15, 2019', 'Jun 16, 2019', 'Jun 17, 2019',\n",
       "       'Jun 18, 2019', 'Jun 19, 2019', 'Jun 20, 2019', 'Jun 21, 2019',\n",
       "       'Jun 22, 2019', 'Jun 23, 2019', 'Jun 24, 2019', 'Jun 25, 2019',\n",
       "       'Jun 26, 2019', 'Jun 27, 2019', 'Jun 28, 2019', 'Jun 29, 2019',\n",
       "       'Jun 30, 2019', 'Jul 1, 2019', 'Jul 2, 2019', 'Jul 3, 2019',\n",
       "       'Jul 4, 2019', 'Jul 5, 2019', 'Jul 6, 2019', 'Jul 7, 2019',\n",
       "       'Jul 9-10, 2019', 'Jul 11, 2019', 'Jul 14, 2019', 'Jul 26, 2019',\n",
       "       'Jul 28, 2019', 'Jul 31, 2019', 'Aug 8, 2019', 'Aug 11, 2019',\n",
       "       'Aug 14, 2019', 'Aug 15, 2019', 'Aug 17, 2019', 'Aug 18, 2019',\n",
       "       'Aug 20, 2019', 'Aug 21, 2019', 'Sep 13, 2019', 'Sep 17, 2019',\n",
       "       'Sep 19, 2019', 'Sep 20, 2019', 'Sep 22, 2019', 'Sep 23, 2019',\n",
       "       'Sep 30, 2019', 'Oct 2, 2019', 'Nov 6, 2019', 'Nov 9, 2019',\n",
       "       'Nov 11, 2019', 'Dec 8, 2019', 'Dec 9, 2019', 'Dec 12, 2019',\n",
       "       'Dec 14, 2019', 'Dec 15, 2019', 'Dec 18, 2019', 'Dec 22, 2019',\n",
       "       'Jan 5, 2020', 'Jan 6, 2020', 'Jan 7, 2020', 'Jan 8, 2020',\n",
       "       'Jan 9, 2020', 'Jan 12, 2020', 'Jan 14, 2020', 'Jan 17, 2020',\n",
       "       'Jan 19, 2020', 'Feb 4, 2020', 'Feb 5, 2020', 'Feb 6, 2020',\n",
       "       'Feb 7, 2020', 'Feb 8, 2020', 'Feb 9, 2020', 'Feb 11, 2020',\n",
       "       'Feb 12, 2020', 'Feb 22, 2020', 'Feb 26, 2020', 'Feb 29, 2020',\n",
       "       'Mar 1, 2020', 'Mar 3, 2020', 'Mar 4, 2020', 'Mar 6, 2020',\n",
       "       'Mar 7, 2020', 'Mar 13, 2020', 'Jul 30, 2020', 'Aug 1, 2020',\n",
       "       'Aug 4, 2020', 'Sep 11, 2020', 'Sep 13, 2020', 'Sep 16, 2020',\n",
       "       'Oct 30, 2020', 'Nov 1, 2020', 'Nov 3, 2020', 'Nov 27, 2020',\n",
       "       'Nov 29, 2020', 'Dec 2, 2020', 'Jan 18, 2021', 'Jan 20, 2021',\n",
       "       'Jan 21, 2021', 'Jan 22, 2021', 'Jan 24, 2021', 'Jan 25, 2021',\n",
       "       'Jan 26, 2021', 'Mar 10, 2021', 'Mar 12, 2021', 'Mar 14, 2021',\n",
       "       'Mar 20, 2021', 'Mar 23, 2021', 'Mar 26, 2021', 'Mar 28, 2021',\n",
       "       'Apr 2, 2021', 'Apr 4, 2021', 'Apr 7, 2021', 'May 19, 2021',\n",
       "       'May 20, 2021', 'May 23, 2021', 'May 25, 2021', 'May 28, 2021',\n",
       "       'Jun 2, 2021', 'Jun 4, 2021', 'Jun 7, 2021', 'Jun 29, 2021',\n",
       "       'Jul 1, 2021', 'Jul 4, 2021', 'Jul 8, 2021', 'Jul 10, 2021',\n",
       "       'Jul 11, 2021', 'Jul 13, 2021', 'Jul 16, 2021', 'Jul 18, 2021',\n",
       "       'Jul 20, 2021', 'Jul 22-24, 2021', 'Jul 23, 2021', 'Jul 26, 2021'],\n",
       "      dtype=object)"
      ]
     },
     "execution_count": 11,
     "metadata": {},
     "output_type": "execute_result"
    }
   ],
   "source": [
    "data_2017_2021['Match Date'].unique()"
   ]
  },
  {
   "cell_type": "markdown",
   "id": "fddd397d",
   "metadata": {
    "papermill": {
     "duration": 0.032937,
     "end_time": "2021-11-01T06:23:21.186507",
     "exception": false,
     "start_time": "2021-11-01T06:23:21.153570",
     "status": "completed"
    },
    "tags": []
   },
   "source": [
    "Trying to drop rows of `year 2017` present in `data_2017_2021` wich are alredy present in `data_1971_2017` as we are concerned about data between 2010 t0 2021\n",
    "\n",
    "`I have to concat both data to get data from 2010 to 2021`"
   ]
  },
  {
   "cell_type": "code",
   "execution_count": 12,
   "id": "20842251",
   "metadata": {
    "execution": {
     "iopub.execute_input": "2021-11-01T06:23:21.256324Z",
     "iopub.status.busy": "2021-11-01T06:23:21.255408Z",
     "iopub.status.idle": "2021-11-01T06:23:21.260016Z",
     "shell.execute_reply": "2021-11-01T06:23:21.260450Z",
     "shell.execute_reply.started": "2021-11-01T06:01:04.028673Z"
    },
    "papermill": {
     "duration": 0.040743,
     "end_time": "2021-11-01T06:23:21.260617",
     "exception": false,
     "start_time": "2021-11-01T06:23:21.219874",
     "status": "completed"
    },
    "tags": []
   },
   "outputs": [],
   "source": [
    "# droping rows with index range 0 to 116, reset index and drop old index of data\n",
    "data_2017_2021 = data_2017_2021.drop(range(0,116))\n",
    "data_2017_2021.reset_index(inplace=True,drop=True)"
   ]
  },
  {
   "cell_type": "code",
   "execution_count": 13,
   "id": "0a143860",
   "metadata": {
    "execution": {
     "iopub.execute_input": "2021-11-01T06:23:21.330509Z",
     "iopub.status.busy": "2021-11-01T06:23:21.329628Z",
     "iopub.status.idle": "2021-11-01T06:23:21.334349Z",
     "shell.execute_reply": "2021-11-01T06:23:21.334801Z",
     "shell.execute_reply.started": "2021-11-01T06:01:04.064950Z"
    },
    "papermill": {
     "duration": 0.041212,
     "end_time": "2021-11-01T06:23:21.334983",
     "exception": false,
     "start_time": "2021-11-01T06:23:21.293771",
     "status": "completed"
    },
    "tags": []
   },
   "outputs": [],
   "source": [
    "# loading data_1971_2021 dataset\n",
    "data_1971_2021 = pd.concat([data_1971_2017,data_2017_2021],ignore_index=True)"
   ]
  },
  {
   "cell_type": "code",
   "execution_count": 14,
   "id": "0205ad2d",
   "metadata": {
    "execution": {
     "iopub.execute_input": "2021-11-01T06:23:21.405445Z",
     "iopub.status.busy": "2021-11-01T06:23:21.403181Z",
     "iopub.status.idle": "2021-11-01T06:23:21.408555Z",
     "shell.execute_reply": "2021-11-01T06:23:21.409020Z",
     "shell.execute_reply.started": "2021-11-01T06:01:04.073783Z"
    },
    "papermill": {
     "duration": 0.041255,
     "end_time": "2021-11-01T06:23:21.409185",
     "exception": false,
     "start_time": "2021-11-01T06:23:21.367930",
     "status": "completed"
    },
    "tags": []
   },
   "outputs": [],
   "source": [
    "# droping values from 0 to 2936 as these are all samples before year 2010\n",
    "# Storing all remaining samples in new dataframe\n",
    "data_2010_2021 = data_1971_2021.drop(range(0,2936),axis=0)\n",
    "\n",
    "# reseting index \n",
    "data_2010_2021.reset_index(inplace=True,drop=True)"
   ]
  },
  {
   "cell_type": "code",
   "execution_count": 15,
   "id": "3a74be65",
   "metadata": {
    "execution": {
     "iopub.execute_input": "2021-11-01T06:23:21.486622Z",
     "iopub.status.busy": "2021-11-01T06:23:21.485881Z",
     "iopub.status.idle": "2021-11-01T06:23:21.488908Z",
     "shell.execute_reply": "2021-11-01T06:23:21.489368Z",
     "shell.execute_reply.started": "2021-11-01T06:01:04.114901Z"
    },
    "papermill": {
     "duration": 0.047167,
     "end_time": "2021-11-01T06:23:21.489531",
     "exception": false,
     "start_time": "2021-11-01T06:23:21.442364",
     "status": "completed"
    },
    "tags": []
   },
   "outputs": [
    {
     "data": {
      "text/html": [
       "<div>\n",
       "<style scoped>\n",
       "    .dataframe tbody tr th:only-of-type {\n",
       "        vertical-align: middle;\n",
       "    }\n",
       "\n",
       "    .dataframe tbody tr th {\n",
       "        vertical-align: top;\n",
       "    }\n",
       "\n",
       "    .dataframe thead th {\n",
       "        text-align: right;\n",
       "    }\n",
       "</style>\n",
       "<table border=\"1\" class=\"dataframe\">\n",
       "  <thead>\n",
       "    <tr style=\"text-align: right;\">\n",
       "      <th></th>\n",
       "      <th>Scorecard</th>\n",
       "      <th>Team 1</th>\n",
       "      <th>Team 2</th>\n",
       "      <th>Winner</th>\n",
       "      <th>Margin</th>\n",
       "      <th>Ground</th>\n",
       "      <th>Match Date</th>\n",
       "    </tr>\n",
       "  </thead>\n",
       "  <tbody>\n",
       "    <tr>\n",
       "      <th>0</th>\n",
       "      <td>ODI # 2937</td>\n",
       "      <td>Bangladesh</td>\n",
       "      <td>Sri Lanka</td>\n",
       "      <td>Sri Lanka</td>\n",
       "      <td>7 wickets</td>\n",
       "      <td>Dhaka</td>\n",
       "      <td>Jan 4, 2010</td>\n",
       "    </tr>\n",
       "    <tr>\n",
       "      <th>1</th>\n",
       "      <td>ODI # 2938</td>\n",
       "      <td>India</td>\n",
       "      <td>Sri Lanka</td>\n",
       "      <td>Sri Lanka</td>\n",
       "      <td>5 wickets</td>\n",
       "      <td>Dhaka</td>\n",
       "      <td>Jan 5, 2010</td>\n",
       "    </tr>\n",
       "    <tr>\n",
       "      <th>2</th>\n",
       "      <td>ODI # 2939</td>\n",
       "      <td>Bangladesh</td>\n",
       "      <td>India</td>\n",
       "      <td>India</td>\n",
       "      <td>6 wickets</td>\n",
       "      <td>Dhaka</td>\n",
       "      <td>Jan 7, 2010</td>\n",
       "    </tr>\n",
       "    <tr>\n",
       "      <th>3</th>\n",
       "      <td>ODI # 2940</td>\n",
       "      <td>Bangladesh</td>\n",
       "      <td>Sri Lanka</td>\n",
       "      <td>Sri Lanka</td>\n",
       "      <td>9 wickets</td>\n",
       "      <td>Dhaka</td>\n",
       "      <td>Jan 8, 2010</td>\n",
       "    </tr>\n",
       "    <tr>\n",
       "      <th>4</th>\n",
       "      <td>ODI # 2941</td>\n",
       "      <td>India</td>\n",
       "      <td>Sri Lanka</td>\n",
       "      <td>India</td>\n",
       "      <td>8 wickets</td>\n",
       "      <td>Dhaka</td>\n",
       "      <td>Jan 10, 2010</td>\n",
       "    </tr>\n",
       "  </tbody>\n",
       "</table>\n",
       "</div>"
      ],
      "text/plain": [
       "    Scorecard      Team 1     Team 2     Winner     Margin Ground  \\\n",
       "0  ODI # 2937  Bangladesh  Sri Lanka  Sri Lanka  7 wickets  Dhaka   \n",
       "1  ODI # 2938       India  Sri Lanka  Sri Lanka  5 wickets  Dhaka   \n",
       "2  ODI # 2939  Bangladesh      India      India  6 wickets  Dhaka   \n",
       "3  ODI # 2940  Bangladesh  Sri Lanka  Sri Lanka  9 wickets  Dhaka   \n",
       "4  ODI # 2941       India  Sri Lanka      India  8 wickets  Dhaka   \n",
       "\n",
       "     Match Date  \n",
       "0   Jan 4, 2010  \n",
       "1   Jan 5, 2010  \n",
       "2   Jan 7, 2010  \n",
       "3   Jan 8, 2010  \n",
       "4  Jan 10, 2010  "
      ]
     },
     "execution_count": 15,
     "metadata": {},
     "output_type": "execute_result"
    }
   ],
   "source": [
    "data_2010_2021.head()"
   ]
  },
  {
   "cell_type": "markdown",
   "id": "189d06ca",
   "metadata": {
    "papermill": {
     "duration": 0.033027,
     "end_time": "2021-11-01T06:23:21.555837",
     "exception": false,
     "start_time": "2021-11-01T06:23:21.522810",
     "status": "completed"
    },
    "tags": []
   },
   "source": [
    "# EDA"
   ]
  },
  {
   "cell_type": "code",
   "execution_count": 16,
   "id": "81b510e1",
   "metadata": {
    "execution": {
     "iopub.execute_input": "2021-11-01T06:23:21.627901Z",
     "iopub.status.busy": "2021-11-01T06:23:21.627149Z",
     "iopub.status.idle": "2021-11-01T06:23:21.630089Z",
     "shell.execute_reply": "2021-11-01T06:23:21.630526Z",
     "shell.execute_reply.started": "2021-11-01T06:01:04.151878Z"
    },
    "papermill": {
     "duration": 0.041214,
     "end_time": "2021-11-01T06:23:21.630687",
     "exception": false,
     "start_time": "2021-11-01T06:23:21.589473",
     "status": "completed"
    },
    "tags": []
   },
   "outputs": [
    {
     "data": {
      "text/plain": [
       "Index(['Scorecard', 'Team 1', 'Team 2', 'Winner', 'Margin', 'Ground',\n",
       "       'Match Date'],\n",
       "      dtype='object')"
      ]
     },
     "execution_count": 16,
     "metadata": {},
     "output_type": "execute_result"
    }
   ],
   "source": [
    "# all column names\n",
    "data_2010_2021.columns"
   ]
  },
  {
   "cell_type": "code",
   "execution_count": 17,
   "id": "1bd8548d",
   "metadata": {
    "execution": {
     "iopub.execute_input": "2021-11-01T06:23:21.712035Z",
     "iopub.status.busy": "2021-11-01T06:23:21.711127Z",
     "iopub.status.idle": "2021-11-01T06:23:21.715364Z",
     "shell.execute_reply": "2021-11-01T06:23:21.715755Z",
     "shell.execute_reply.started": "2021-11-01T06:01:04.159616Z"
    },
    "papermill": {
     "duration": 0.051541,
     "end_time": "2021-11-01T06:23:21.715961",
     "exception": false,
     "start_time": "2021-11-01T06:23:21.664420",
     "status": "completed"
    },
    "tags": []
   },
   "outputs": [
    {
     "name": "stdout",
     "output_type": "stream",
     "text": [
      "<class 'pandas.core.frame.DataFrame'>\n",
      "RangeIndex: 1375 entries, 0 to 1374\n",
      "Data columns (total 7 columns):\n",
      " #   Column      Non-Null Count  Dtype \n",
      "---  ------      --------------  ----- \n",
      " 0   Scorecard   1375 non-null   object\n",
      " 1   Team 1      1375 non-null   object\n",
      " 2   Team 2      1375 non-null   object\n",
      " 3   Winner      1375 non-null   object\n",
      " 4   Margin      1326 non-null   object\n",
      " 5   Ground      1375 non-null   object\n",
      " 6   Match Date  1375 non-null   object\n",
      "dtypes: object(7)\n",
      "memory usage: 75.3+ KB\n"
     ]
    }
   ],
   "source": [
    "# info of complete dataset\n",
    "data_2010_2021.info()"
   ]
  },
  {
   "cell_type": "markdown",
   "id": "5f2b7c1c",
   "metadata": {
    "papermill": {
     "duration": 0.033562,
     "end_time": "2021-11-01T06:23:21.783639",
     "exception": false,
     "start_time": "2021-11-01T06:23:21.750077",
     "status": "completed"
    },
    "tags": []
   },
   "source": [
    "Observe you will see \n",
    "* `object` -> String values  ==> All columns are of string datatype"
   ]
  },
  {
   "cell_type": "code",
   "execution_count": 18,
   "id": "4a9a7be1",
   "metadata": {
    "execution": {
     "iopub.execute_input": "2021-11-01T06:23:21.858855Z",
     "iopub.status.busy": "2021-11-01T06:23:21.857574Z",
     "iopub.status.idle": "2021-11-01T06:23:21.877466Z",
     "shell.execute_reply": "2021-11-01T06:23:21.876863Z",
     "shell.execute_reply.started": "2021-11-01T06:01:04.183478Z"
    },
    "papermill": {
     "duration": 0.059522,
     "end_time": "2021-11-01T06:23:21.877598",
     "exception": false,
     "start_time": "2021-11-01T06:23:21.818076",
     "status": "completed"
    },
    "tags": []
   },
   "outputs": [
    {
     "data": {
      "text/html": [
       "<div>\n",
       "<style scoped>\n",
       "    .dataframe tbody tr th:only-of-type {\n",
       "        vertical-align: middle;\n",
       "    }\n",
       "\n",
       "    .dataframe tbody tr th {\n",
       "        vertical-align: top;\n",
       "    }\n",
       "\n",
       "    .dataframe thead th {\n",
       "        text-align: right;\n",
       "    }\n",
       "</style>\n",
       "<table border=\"1\" class=\"dataframe\">\n",
       "  <thead>\n",
       "    <tr style=\"text-align: right;\">\n",
       "      <th></th>\n",
       "      <th>Scorecard</th>\n",
       "      <th>Team 1</th>\n",
       "      <th>Team 2</th>\n",
       "      <th>Winner</th>\n",
       "      <th>Margin</th>\n",
       "      <th>Ground</th>\n",
       "      <th>Match Date</th>\n",
       "    </tr>\n",
       "  </thead>\n",
       "  <tbody>\n",
       "    <tr>\n",
       "      <th>count</th>\n",
       "      <td>1375</td>\n",
       "      <td>1375</td>\n",
       "      <td>1375</td>\n",
       "      <td>1375</td>\n",
       "      <td>1326</td>\n",
       "      <td>1375</td>\n",
       "      <td>1375</td>\n",
       "    </tr>\n",
       "    <tr>\n",
       "      <th>unique</th>\n",
       "      <td>1375</td>\n",
       "      <td>23</td>\n",
       "      <td>23</td>\n",
       "      <td>25</td>\n",
       "      <td>213</td>\n",
       "      <td>124</td>\n",
       "      <td>1150</td>\n",
       "    </tr>\n",
       "    <tr>\n",
       "      <th>top</th>\n",
       "      <td>ODI # 2937</td>\n",
       "      <td>England</td>\n",
       "      <td>Pakistan</td>\n",
       "      <td>India</td>\n",
       "      <td>6 wickets</td>\n",
       "      <td>Dhaka</td>\n",
       "      <td>Mar 6, 2018</td>\n",
       "    </tr>\n",
       "    <tr>\n",
       "      <th>freq</th>\n",
       "      <td>1</td>\n",
       "      <td>141</td>\n",
       "      <td>175</td>\n",
       "      <td>164</td>\n",
       "      <td>126</td>\n",
       "      <td>87</td>\n",
       "      <td>4</td>\n",
       "    </tr>\n",
       "  </tbody>\n",
       "</table>\n",
       "</div>"
      ],
      "text/plain": [
       "         Scorecard   Team 1    Team 2 Winner     Margin Ground   Match Date\n",
       "count         1375     1375      1375   1375       1326   1375         1375\n",
       "unique        1375       23        23     25        213    124         1150\n",
       "top     ODI # 2937  England  Pakistan  India  6 wickets  Dhaka  Mar 6, 2018\n",
       "freq             1      141       175    164        126     87            4"
      ]
     },
     "execution_count": 18,
     "metadata": {},
     "output_type": "execute_result"
    }
   ],
   "source": [
    "# information like total count in every columns\n",
    "data_2010_2021.describe()"
   ]
  },
  {
   "cell_type": "code",
   "execution_count": 19,
   "id": "f6ca34da",
   "metadata": {
    "execution": {
     "iopub.execute_input": "2021-11-01T06:23:21.952281Z",
     "iopub.status.busy": "2021-11-01T06:23:21.951401Z",
     "iopub.status.idle": "2021-11-01T06:23:21.955115Z",
     "shell.execute_reply": "2021-11-01T06:23:21.954623Z",
     "shell.execute_reply.started": "2021-11-01T06:01:04.213933Z"
    },
    "papermill": {
     "duration": 0.042767,
     "end_time": "2021-11-01T06:23:21.955248",
     "exception": false,
     "start_time": "2021-11-01T06:23:21.912481",
     "status": "completed"
    },
    "tags": []
   },
   "outputs": [
    {
     "data": {
      "text/plain": [
       "1375"
      ]
     },
     "execution_count": 19,
     "metadata": {},
     "output_type": "execute_result"
    }
   ],
   "source": [
    "# printing len of datset, which tells total number of samples in dataset\n",
    "len(data_2010_2021)"
   ]
  },
  {
   "cell_type": "code",
   "execution_count": 20,
   "id": "a1b5b287",
   "metadata": {
    "execution": {
     "iopub.execute_input": "2021-11-01T06:23:22.031127Z",
     "iopub.status.busy": "2021-11-01T06:23:22.030529Z",
     "iopub.status.idle": "2021-11-01T06:23:22.037833Z",
     "shell.execute_reply": "2021-11-01T06:23:22.037367Z",
     "shell.execute_reply.started": "2021-11-01T06:01:04.220604Z"
    },
    "papermill": {
     "duration": 0.047341,
     "end_time": "2021-11-01T06:23:22.038000",
     "exception": false,
     "start_time": "2021-11-01T06:23:21.990659",
     "status": "completed"
    },
    "tags": []
   },
   "outputs": [
    {
     "data": {
      "text/plain": [
       "Scorecard     1375\n",
       "Team 1          23\n",
       "Team 2          23\n",
       "Winner          25\n",
       "Margin         213\n",
       "Ground         124\n",
       "Match Date    1150\n",
       "dtype: int64"
      ]
     },
     "execution_count": 20,
     "metadata": {},
     "output_type": "execute_result"
    }
   ],
   "source": [
    "# count of unique values of each column\n",
    "data_2010_2021.nunique()"
   ]
  },
  {
   "cell_type": "code",
   "execution_count": 21,
   "id": "9fe2136a",
   "metadata": {
    "execution": {
     "iopub.execute_input": "2021-11-01T06:23:22.115091Z",
     "iopub.status.busy": "2021-11-01T06:23:22.114499Z",
     "iopub.status.idle": "2021-11-01T06:23:22.118220Z",
     "shell.execute_reply": "2021-11-01T06:23:22.117700Z",
     "shell.execute_reply.started": "2021-11-01T06:01:04.264479Z"
    },
    "papermill": {
     "duration": 0.045177,
     "end_time": "2021-11-01T06:23:22.118363",
     "exception": false,
     "start_time": "2021-11-01T06:23:22.073186",
     "status": "completed"
    },
    "tags": []
   },
   "outputs": [
    {
     "data": {
      "text/plain": [
       "Scorecard      0\n",
       "Team 1         0\n",
       "Team 2         0\n",
       "Winner         0\n",
       "Margin        49\n",
       "Ground         0\n",
       "Match Date     0\n",
       "dtype: int64"
      ]
     },
     "execution_count": 21,
     "metadata": {},
     "output_type": "execute_result"
    }
   ],
   "source": [
    "# missing values in all columnns of dataset\n",
    "data_2010_2021.isnull().sum()"
   ]
  },
  {
   "cell_type": "markdown",
   "id": "fab30be2",
   "metadata": {
    "papermill": {
     "duration": 0.034663,
     "end_time": "2021-11-01T06:23:22.188360",
     "exception": false,
     "start_time": "2021-11-01T06:23:22.153697",
     "status": "completed"
    },
    "tags": []
   },
   "source": [
    "Observe there are missing values in the `Margin` column of dataset"
   ]
  },
  {
   "cell_type": "markdown",
   "id": "813a08f6",
   "metadata": {
    "papermill": {
     "duration": 0.034662,
     "end_time": "2021-11-01T06:23:22.258031",
     "exception": false,
     "start_time": "2021-11-01T06:23:22.223369",
     "status": "completed"
    },
    "tags": []
   },
   "source": [
    "# Chi-square Test\n",
    "\n"
   ]
  },
  {
   "cell_type": "code",
   "execution_count": 22,
   "id": "7c320210",
   "metadata": {
    "execution": {
     "iopub.execute_input": "2021-11-01T06:23:22.342603Z",
     "iopub.status.busy": "2021-11-01T06:23:22.341892Z",
     "iopub.status.idle": "2021-11-01T06:23:25.779733Z",
     "shell.execute_reply": "2021-11-01T06:23:25.779183Z",
     "shell.execute_reply.started": "2021-11-01T06:01:04.338487Z"
    },
    "papermill": {
     "duration": 3.486829,
     "end_time": "2021-11-01T06:23:25.779955",
     "exception": false,
     "start_time": "2021-11-01T06:23:22.293126",
     "status": "completed"
    },
    "tags": []
   },
   "outputs": [
    {
     "name": "stdout",
     "output_type": "stream",
     "text": [
      "Chi_Square Test On =>> [('Scorecard', 'Team 1')]\n",
      "\n",
      "Degree Of Freedom: 30228\n",
      "Significance Level: 0.05\n",
      "Chi Square Statistic: 2549.9999999999623\n",
      "Critical Value: 30633.567183419527\n",
      "p-value: 1.0\n",
      "Reject H0,There is no relationship between 2 categorical variables\n",
      "Reject H0,There is no relationship between 2 categorical variables\n",
      "---------------------------------------------------------------- \n",
      "\n",
      "Chi_Square Test On =>> [('Scorecard', 'Team 2')]\n",
      "\n",
      "Degree Of Freedom: 30228\n",
      "Significance Level: 0.05\n",
      "Chi Square Statistic: 2592.0000000000355\n",
      "Critical Value: 30633.567183419527\n",
      "p-value: 1.0\n",
      "Reject H0,There is no relationship between 2 categorical variables\n",
      "Reject H0,There is no relationship between 2 categorical variables\n",
      "---------------------------------------------------------------- \n",
      "\n",
      "Chi_Square Test On =>> [('Scorecard', 'Winner')]\n",
      "\n",
      "Degree Of Freedom: 32976\n",
      "Significance Level: 0.05\n",
      "Chi Square Statistic: 2557.000000000013\n",
      "Critical Value: 33399.55082702824\n",
      "p-value: 1.0\n",
      "Reject H0,There is no relationship between 2 categorical variables\n",
      "Reject H0,There is no relationship between 2 categorical variables\n",
      "---------------------------------------------------------------- \n",
      "\n",
      "Chi_Square Test On =>> [('Scorecard', 'Margin')]\n",
      "\n",
      "Degree Of Freedom: 280900\n",
      "Significance Level: 0.05\n",
      "Chi Square Statistic: 2616.999999999969\n",
      "Critical Value: 282134.0083642959\n",
      "p-value: 1.0\n",
      "Reject H0,There is no relationship between 2 categorical variables\n",
      "Reject H0,There is no relationship between 2 categorical variables\n",
      "---------------------------------------------------------------- \n",
      "\n",
      "Chi_Square Test On =>> [('Scorecard', 'Ground')]\n",
      "\n",
      "Degree Of Freedom: 169002\n",
      "Significance Level: 0.05\n",
      "Chi Square Statistic: 2704.0000000000127\n",
      "Critical Value: 169959.42251265424\n",
      "p-value: 1.0\n",
      "Reject H0,There is no relationship between 2 categorical variables\n",
      "Reject H0,There is no relationship between 2 categorical variables\n",
      "---------------------------------------------------------------- \n",
      "\n",
      "Chi_Square Test On =>> [('Scorecard', 'Match Date')]\n",
      "\n",
      "Degree Of Freedom: 1578726\n",
      "Significance Level: 0.05\n",
      "Chi Square Statistic: 2748.000000000029\n",
      "Critical Value: 1581649.91327901\n",
      "p-value: 1.0\n",
      "Reject H0,There is no relationship between 2 categorical variables\n",
      "Reject H0,There is no relationship between 2 categorical variables\n",
      "---------------------------------------------------------------- \n",
      "\n",
      "Chi_Square Test On =>> [('Team 1', 'Scorecard')]\n",
      "\n",
      "Degree Of Freedom: 30228\n",
      "Significance Level: 0.05\n",
      "Chi Square Statistic: 19.91373640273211\n",
      "Critical Value: 30633.567183419527\n",
      "p-value: 1.0\n",
      "Reject H0,There is no relationship between 2 categorical variables\n",
      "Reject H0,There is no relationship between 2 categorical variables\n",
      "---------------------------------------------------------------- \n",
      "\n",
      "Chi_Square Test On =>> [('Team 1', 'Team 2')]\n",
      "\n",
      "Degree Of Freedom: 484\n",
      "Significance Level: 0.05\n",
      "Chi Square Statistic: 213.8780025679467\n",
      "Critical Value: 536.2873901981108\n",
      "p-value: 1.0\n",
      "Reject H0,There is no relationship between 2 categorical variables\n",
      "Reject H0,There is no relationship between 2 categorical variables\n",
      "---------------------------------------------------------------- \n",
      "\n",
      "Chi_Square Test On =>> [('Team 1', 'Winner')]\n",
      "\n",
      "Degree Of Freedom: 528\n",
      "Significance Level: 0.05\n",
      "Chi Square Statistic: 876.277770083678\n",
      "Critical Value: 582.5640658777064\n",
      "p-value: 0.0\n",
      "Reject H0,There is a relationship between 2 categorical variables\n",
      "Reject H0,There is a relationship between 2 categorical variables\n",
      "---------------------------------------------------------------- \n",
      "\n",
      "Chi_Square Test On =>> [('Team 1', 'Margin')]\n",
      "\n",
      "Degree Of Freedom: 4664\n",
      "Significance Level: 0.05\n",
      "Chi Square Statistic: 40.64382263280688\n",
      "Critical Value: 4823.991425012426\n",
      "p-value: 1.0\n",
      "Reject H0,There is no relationship between 2 categorical variables\n",
      "Reject H0,There is no relationship between 2 categorical variables\n",
      "---------------------------------------------------------------- \n",
      "\n",
      "Chi_Square Test On =>> [('Team 1', 'Ground')]\n",
      "\n",
      "Degree Of Freedom: 2706\n",
      "Significance Level: 0.05\n",
      "Chi Square Statistic: 484.67018600844995\n",
      "Critical Value: 2828.132105142811\n",
      "p-value: 1.0\n",
      "Reject H0,There is no relationship between 2 categorical variables\n",
      "Reject H0,There is no relationship between 2 categorical variables\n",
      "---------------------------------------------------------------- \n",
      "\n",
      "Chi_Square Test On =>> [('Team 1', 'Match Date')]\n",
      "\n",
      "Degree Of Freedom: 25278\n",
      "Significance Level: 0.05\n",
      "Chi Square Statistic: 25.726223916532902\n",
      "Critical Value: 25648.973302649498\n",
      "p-value: 1.0\n",
      "Reject H0,There is no relationship between 2 categorical variables\n",
      "Reject H0,There is no relationship between 2 categorical variables\n",
      "---------------------------------------------------------------- \n",
      "\n",
      "Chi_Square Test On =>> [('Team 2', 'Scorecard')]\n",
      "\n",
      "Degree Of Freedom: 30228\n",
      "Significance Level: 0.05\n",
      "Chi Square Statistic: 15.29559748427673\n",
      "Critical Value: 30633.567183419527\n",
      "p-value: 1.0\n",
      "Reject H0,There is no relationship between 2 categorical variables\n",
      "Reject H0,There is no relationship between 2 categorical variables\n",
      "---------------------------------------------------------------- \n",
      "\n",
      "Chi_Square Test On =>> [('Team 2', 'Team 1')]\n",
      "\n",
      "Degree Of Freedom: 484\n",
      "Significance Level: 0.05\n",
      "Chi Square Statistic: 216.29691003320755\n",
      "Critical Value: 536.2873901981108\n",
      "p-value: 1.0\n",
      "Reject H0,There is no relationship between 2 categorical variables\n",
      "Reject H0,There is no relationship between 2 categorical variables\n",
      "---------------------------------------------------------------- \n",
      "\n",
      "Chi_Square Test On =>> [('Team 2', 'Winner')]\n",
      "\n",
      "Degree Of Freedom: 528\n",
      "Significance Level: 0.05\n",
      "Chi Square Statistic: 481.78769617380294\n",
      "Critical Value: 582.5640658777064\n",
      "p-value: 0.9257934239602428\n",
      "Reject H0,There is no relationship between 2 categorical variables\n",
      "Reject H0,There is no relationship between 2 categorical variables\n",
      "---------------------------------------------------------------- \n",
      "\n",
      "Chi_Square Test On =>> [('Team 2', 'Margin')]\n",
      "\n",
      "Degree Of Freedom: 4664\n",
      "Significance Level: 0.05\n",
      "Chi Square Statistic: 66.4296828518047\n",
      "Critical Value: 4823.991425012426\n",
      "p-value: 1.0\n",
      "Reject H0,There is no relationship between 2 categorical variables\n",
      "Reject H0,There is no relationship between 2 categorical variables\n",
      "---------------------------------------------------------------- \n",
      "\n",
      "Chi_Square Test On =>> [('Team 2', 'Ground')]\n",
      "\n",
      "Degree Of Freedom: 2706\n",
      "Significance Level: 0.05\n",
      "Chi Square Statistic: 303.54958808046615\n",
      "Critical Value: 2828.132105142811\n",
      "p-value: 1.0\n",
      "Reject H0,There is no relationship between 2 categorical variables\n",
      "Reject H0,There is no relationship between 2 categorical variables\n",
      "---------------------------------------------------------------- \n",
      "\n",
      "Chi_Square Test On =>> [('Team 2', 'Match Date')]\n",
      "\n",
      "Degree Of Freedom: 25278\n",
      "Significance Level: 0.05\n",
      "Chi Square Statistic: 83.80508474576271\n",
      "Critical Value: 25648.973302649498\n",
      "p-value: 1.0\n",
      "Reject H0,There is no relationship between 2 categorical variables\n",
      "Reject H0,There is no relationship between 2 categorical variables\n",
      "---------------------------------------------------------------- \n",
      "\n",
      "Chi_Square Test On =>> [('Winner', 'Scorecard')]\n",
      "\n",
      "Degree Of Freedom: 32976\n",
      "Significance Level: 0.05\n",
      "Chi Square Statistic: 21.305084745762716\n",
      "Critical Value: 33399.55082702824\n",
      "p-value: 1.0\n",
      "Reject H0,There is no relationship between 2 categorical variables\n",
      "Reject H0,There is no relationship between 2 categorical variables\n",
      "---------------------------------------------------------------- \n",
      "\n",
      "Chi_Square Test On =>> [('Winner', 'Team 1')]\n",
      "\n",
      "Degree Of Freedom: 528\n",
      "Significance Level: 0.05\n",
      "Chi Square Statistic: 880.3020763165255\n",
      "Critical Value: 582.5640658777064\n",
      "p-value: 0.0\n",
      "Reject H0,There is a relationship between 2 categorical variables\n",
      "Reject H0,There is a relationship between 2 categorical variables\n",
      "---------------------------------------------------------------- \n",
      "\n",
      "Chi_Square Test On =>> [('Winner', 'Team 2')]\n",
      "\n",
      "Degree Of Freedom: 528\n",
      "Significance Level: 0.05\n",
      "Chi Square Statistic: 477.7504573642663\n",
      "Critical Value: 582.5640658777064\n",
      "p-value: 0.9426723687563274\n",
      "Reject H0,There is no relationship between 2 categorical variables\n",
      "Reject H0,There is no relationship between 2 categorical variables\n",
      "---------------------------------------------------------------- \n",
      "\n",
      "Chi_Square Test On =>> [('Winner', 'Margin')]\n",
      "\n",
      "Degree Of Freedom: 5088\n",
      "Significance Level: 0.05\n",
      "Chi Square Statistic: 45.38295161044218\n",
      "Critical Value: 5255.055745020391\n",
      "p-value: 1.0\n",
      "Reject H0,There is no relationship between 2 categorical variables\n",
      "Reject H0,There is no relationship between 2 categorical variables\n",
      "---------------------------------------------------------------- \n",
      "\n",
      "Chi_Square Test On =>> [('Winner', 'Ground')]\n",
      "\n",
      "Degree Of Freedom: 2952\n",
      "Significance Level: 0.05\n",
      "Chi Square Statistic: 368.09143741433684\n",
      "Critical Value: 3079.5131987381296\n",
      "p-value: 1.0\n",
      "Reject H0,There is no relationship between 2 categorical variables\n",
      "Reject H0,There is no relationship between 2 categorical variables\n",
      "---------------------------------------------------------------- \n",
      "\n",
      "Chi_Square Test On =>> [('Winner', 'Match Date')]\n",
      "\n",
      "Degree Of Freedom: 27576\n",
      "Significance Level: 0.05\n",
      "Chi Square Statistic: 40.90254237288136\n",
      "Critical Value: 27963.418723067858\n",
      "p-value: 1.0\n",
      "Reject H0,There is no relationship between 2 categorical variables\n",
      "Reject H0,There is no relationship between 2 categorical variables\n",
      "---------------------------------------------------------------- \n",
      "\n",
      "Chi_Square Test On =>> [('Margin', 'Scorecard')]\n",
      "\n",
      "Degree Of Freedom: 280900\n",
      "Significance Level: 0.05\n",
      "Chi Square Statistic: 26.56325507180305\n",
      "Critical Value: 282134.0083642959\n",
      "p-value: 1.0\n",
      "Reject H0,There is no relationship between 2 categorical variables\n",
      "Reject H0,There is no relationship between 2 categorical variables\n",
      "---------------------------------------------------------------- \n",
      "\n",
      "Chi_Square Test On =>> [('Margin', 'Team 1')]\n",
      "\n",
      "Degree Of Freedom: 4664\n",
      "Significance Level: 0.05\n",
      "Chi Square Statistic: 342.8192553673018\n",
      "Critical Value: 4823.991425012426\n",
      "p-value: 1.0\n",
      "Reject H0,There is no relationship between 2 categorical variables\n",
      "Reject H0,There is no relationship between 2 categorical variables\n",
      "---------------------------------------------------------------- \n",
      "\n",
      "Chi_Square Test On =>> [('Margin', 'Team 2')]\n",
      "\n",
      "Degree Of Freedom: 4664\n",
      "Significance Level: 0.05\n",
      "Chi Square Statistic: 362.45840742355006\n",
      "Critical Value: 4823.991425012426\n",
      "p-value: 1.0\n",
      "Reject H0,There is no relationship between 2 categorical variables\n",
      "Reject H0,There is no relationship between 2 categorical variables\n",
      "---------------------------------------------------------------- \n",
      "\n",
      "Chi_Square Test On =>> [('Margin', 'Winner')]\n",
      "\n",
      "Degree Of Freedom: 5088\n",
      "Significance Level: 0.05\n",
      "Chi Square Statistic: 347.3744205396754\n",
      "Critical Value: 5255.055745020391\n",
      "p-value: 1.0\n",
      "Reject H0,There is no relationship between 2 categorical variables\n",
      "Reject H0,There is no relationship between 2 categorical variables\n",
      "---------------------------------------------------------------- \n",
      "\n",
      "Chi_Square Test On =>> [('Margin', 'Ground')]\n",
      "\n",
      "Degree Of Freedom: 26076\n",
      "Significance Level: 0.05\n",
      "Chi Square Statistic: 344.32333119106755\n",
      "Critical Value: 26452.765724275003\n",
      "p-value: 1.0\n",
      "Reject H0,There is no relationship between 2 categorical variables\n",
      "Reject H0,There is no relationship between 2 categorical variables\n",
      "---------------------------------------------------------------- \n",
      "\n",
      "Chi_Square Test On =>> [('Margin', 'Match Date')]\n",
      "\n",
      "Degree Of Freedom: 235320\n",
      "Significance Level: 0.05\n",
      "Chi Square Statistic: 275.59252336448606\n",
      "Critical Value: 236449.55822165185\n",
      "p-value: 1.0\n",
      "Reject H0,There is no relationship between 2 categorical variables\n",
      "Reject H0,There is no relationship between 2 categorical variables\n",
      "---------------------------------------------------------------- \n",
      "\n",
      "Chi_Square Test On =>> [('Ground', 'Scorecard')]\n",
      "\n",
      "Degree Of Freedom: 169002\n",
      "Significance Level: 0.05\n",
      "Chi Square Statistic: 29.60919540229886\n",
      "Critical Value: 169959.42251265424\n",
      "p-value: 1.0\n",
      "Reject H0,There is no relationship between 2 categorical variables\n",
      "Reject H0,There is no relationship between 2 categorical variables\n",
      "---------------------------------------------------------------- \n",
      "\n",
      "Chi_Square Test On =>> [('Ground', 'Team 1')]\n",
      "\n",
      "Degree Of Freedom: 2706\n",
      "Significance Level: 0.05\n",
      "Chi Square Statistic: 1224.7705065418688\n",
      "Critical Value: 2828.132105142811\n",
      "p-value: 1.0\n",
      "Reject H0,There is no relationship between 2 categorical variables\n",
      "Reject H0,There is no relationship between 2 categorical variables\n",
      "---------------------------------------------------------------- \n",
      "\n",
      "Chi_Square Test On =>> [('Ground', 'Team 2')]\n",
      "\n",
      "Degree Of Freedom: 2706\n",
      "Significance Level: 0.05\n",
      "Chi Square Statistic: 508.9954875913096\n",
      "Critical Value: 2828.132105142811\n",
      "p-value: 1.0\n",
      "Reject H0,There is no relationship between 2 categorical variables\n",
      "Reject H0,There is no relationship between 2 categorical variables\n",
      "---------------------------------------------------------------- \n",
      "\n",
      "Chi_Square Test On =>> [('Ground', 'Winner')]\n",
      "\n",
      "Degree Of Freedom: 2952\n",
      "Significance Level: 0.05\n",
      "Chi Square Statistic: 621.3048963391725\n",
      "Critical Value: 3079.5131987381296\n",
      "p-value: 1.0\n",
      "Reject H0,There is no relationship between 2 categorical variables\n",
      "Reject H0,There is no relationship between 2 categorical variables\n",
      "---------------------------------------------------------------- \n",
      "\n",
      "Chi_Square Test On =>> [('Ground', 'Margin')]\n",
      "\n",
      "Degree Of Freedom: 26076\n",
      "Significance Level: 0.05\n",
      "Chi Square Statistic: 270.15301474881716\n",
      "Critical Value: 26452.765724275003\n",
      "p-value: 1.0\n",
      "Reject H0,There is no relationship between 2 categorical variables\n",
      "Reject H0,There is no relationship between 2 categorical variables\n",
      "---------------------------------------------------------------- \n",
      "\n",
      "Chi_Square Test On =>> [('Ground', 'Match Date')]\n",
      "\n",
      "Degree Of Freedom: 141327\n",
      "Significance Level: 0.05\n",
      "Chi Square Statistic: 292.09722222222194\n",
      "Critical Value: 142202.62550573327\n",
      "p-value: 1.0\n",
      "Reject H0,There is no relationship between 2 categorical variables\n",
      "Reject H0,There is no relationship between 2 categorical variables\n",
      "---------------------------------------------------------------- \n",
      "\n",
      "Chi_Square Test On =>> [('Match Date', 'Scorecard')]\n",
      "\n",
      "Degree Of Freedom: 1578726\n",
      "Significance Level: 0.05\n",
      "Chi Square Statistic: 2748.0000000000728\n",
      "Critical Value: 1581649.91327901\n",
      "p-value: 1.0\n",
      "Reject H0,There is no relationship between 2 categorical variables\n",
      "Reject H0,There is no relationship between 2 categorical variables\n",
      "---------------------------------------------------------------- \n",
      "\n",
      "Chi_Square Test On =>> [('Match Date', 'Team 1')]\n",
      "\n",
      "Degree Of Freedom: 25278\n",
      "Significance Level: 0.05\n",
      "Chi Square Statistic: 2045.2222222222158\n",
      "Critical Value: 25648.973302649498\n",
      "p-value: 1.0\n",
      "Reject H0,There is no relationship between 2 categorical variables\n",
      "Reject H0,There is no relationship between 2 categorical variables\n",
      "---------------------------------------------------------------- \n",
      "\n",
      "Chi_Square Test On =>> [('Match Date', 'Team 2')]\n",
      "\n",
      "Degree Of Freedom: 25278\n",
      "Significance Level: 0.05\n",
      "Chi Square Statistic: 2080.5849978621004\n",
      "Critical Value: 25648.973302649498\n",
      "p-value: 1.0\n",
      "Reject H0,There is no relationship between 2 categorical variables\n",
      "Reject H0,There is no relationship between 2 categorical variables\n",
      "---------------------------------------------------------------- \n",
      "\n",
      "Chi_Square Test On =>> [('Match Date', 'Winner')]\n",
      "\n",
      "Degree Of Freedom: 27576\n",
      "Significance Level: 0.05\n",
      "Chi Square Statistic: 2112.034722222227\n",
      "Critical Value: 27963.418723067858\n",
      "p-value: 1.0\n",
      "Reject H0,There is no relationship between 2 categorical variables\n",
      "Reject H0,There is no relationship between 2 categorical variables\n",
      "---------------------------------------------------------------- \n",
      "\n",
      "Chi_Square Test On =>> [('Match Date', 'Margin')]\n",
      "\n",
      "Degree Of Freedom: 235320\n",
      "Significance Level: 0.05\n",
      "Chi Square Statistic: 2082.180000000031\n",
      "Critical Value: 236449.55822165185\n",
      "p-value: 1.0\n",
      "Reject H0,There is no relationship between 2 categorical variables\n",
      "Reject H0,There is no relationship between 2 categorical variables\n",
      "---------------------------------------------------------------- \n",
      "\n",
      "Chi_Square Test On =>> [('Match Date', 'Ground')]\n",
      "\n",
      "Degree Of Freedom: 141327\n",
      "Significance Level: 0.05\n",
      "Chi Square Statistic: 2352.8095238095384\n",
      "Critical Value: 142202.62550573327\n",
      "p-value: 1.0\n",
      "Reject H0,There is no relationship between 2 categorical variables\n",
      "Reject H0,There is no relationship between 2 categorical variables\n",
      "---------------------------------------------------------------- \n",
      "\n"
     ]
    }
   ],
   "source": [
    "# importing necessary libraries needed for performing Chi-square test\n",
    "from scipy.stats import chi2_contingency\n",
    "from scipy.stats import chi2\n",
    "# function for performing chi-square test\n",
    "def applying_chiSquare_test(col1,col2):\n",
    "    # contingency table\n",
    "    contingency_table = pd.crosstab(data_2010_2021[col1],data_2010_2021[col2])\n",
    "    # observed values\n",
    "    observed_values = contingency_table.values\n",
    "    # expected values\n",
    "    chi2_contingency_val = chi2_contingency(contingency_table)\n",
    "    expected_values = chi2_contingency_val[3]\n",
    "    # degree of freedom\n",
    "    rows_number = len(contingency_table.iloc[0:,0])\n",
    "    columns_number = len(contingency_table.iloc[0,0:])\n",
    "    degree_of_freedom = (rows_number-1)*(columns_number-1)\n",
    "    print(f'Degree Of Freedom: {degree_of_freedom}')\n",
    "    # significance level 5%\n",
    "    alpha = 0.05\n",
    "    print(f'Significance Level: {alpha}')\n",
    "    # chi_square statistic\n",
    "    chi_square = sum([(od_V-ex_V)**2./ex_V for od_V,ex_V in zip(observed_values,expected_values)])\n",
    "    chi_square_stats = chi_square[0] + chi_square[1]\n",
    "    print(f'Chi Square Statistic: {chi_square_stats}')\n",
    "    # critical_value\n",
    "    critical_value = chi2.ppf(q=1 - alpha,df=degree_of_freedom)\n",
    "    print(f'Critical Value: {critical_value}')\n",
    "    # p-value\n",
    "    p_value = 1 - chi2.cdf(x=chi_square_stats,df=degree_of_freedom)\n",
    "    print(f'p-value: {p_value}')\n",
    "    \n",
    "    # checking condition based on chi_square_statistic and critical value for hypothesis rejection     \n",
    "    if chi_square_stats >= critical_value:\n",
    "        print('Reject H0,There is a relationship between 2 categorical variables')\n",
    "    else:\n",
    "        print('Reject H0,There is no relationship between 2 categorical variables')\n",
    "       \n",
    "    # checking condition based on p value and alpha for hypothesis rejection  \n",
    "    if p_value <= alpha:\n",
    "        print('Reject H0,There is a relationship between 2 categorical variables')\n",
    "    else:\n",
    "        print('Reject H0,There is no relationship between 2 categorical variables')\n",
    "        \n",
    "'''-----------------------------------------------'''       \n",
    "\n",
    "# looping on whole dataset for performing chi-square test\n",
    "for col1 in data_2010_2021.columns:\n",
    "    \n",
    "    # inner loop on whole dataset columns name\n",
    "    for col2 in data_2010_2021.columns:\n",
    "\n",
    "        # condition check if both column names are not equal\n",
    "        if col1 != col2:\n",
    "            print(f\"Chi_Square Test On =>> [{col1,col2}]\\n\")\n",
    "            # passing both column names to chi-sqaure performance function\n",
    "            applying_chiSquare_test(col1,col2)\n",
    "            print('----'*16,'\\n')"
   ]
  },
  {
   "cell_type": "markdown",
   "id": "4d5651da",
   "metadata": {
    "papermill": {
     "duration": 0.040878,
     "end_time": "2021-11-01T06:23:25.862520",
     "exception": false,
     "start_time": "2021-11-01T06:23:25.821642",
     "status": "completed"
    },
    "tags": []
   },
   "source": [
    "# Dendrogram\n"
   ]
  },
  {
   "cell_type": "code",
   "execution_count": 23,
   "id": "d3ec2787",
   "metadata": {
    "execution": {
     "iopub.execute_input": "2021-11-01T06:23:25.946461Z",
     "iopub.status.busy": "2021-11-01T06:23:25.945555Z",
     "iopub.status.idle": "2021-11-01T06:23:25.949301Z",
     "shell.execute_reply": "2021-11-01T06:23:25.949819Z",
     "shell.execute_reply.started": "2021-11-01T06:01:08.601488Z"
    },
    "papermill": {
     "duration": 0.046777,
     "end_time": "2021-11-01T06:23:25.949996",
     "exception": false,
     "start_time": "2021-11-01T06:23:25.903219",
     "status": "completed"
    },
    "tags": []
   },
   "outputs": [],
   "source": [
    "# importing scipy\n",
    "import scipy\n",
    "# importing hierarchy from skleanr.cluster\n",
    "from scipy.cluster import hierarchy"
   ]
  },
  {
   "cell_type": "code",
   "execution_count": 24,
   "id": "c2f2aa04",
   "metadata": {
    "execution": {
     "iopub.execute_input": "2021-11-01T06:23:26.037113Z",
     "iopub.status.busy": "2021-11-01T06:23:26.036155Z",
     "iopub.status.idle": "2021-11-01T06:23:26.235316Z",
     "shell.execute_reply": "2021-11-01T06:23:26.235752Z",
     "shell.execute_reply.started": "2021-11-01T06:01:08.607088Z"
    },
    "papermill": {
     "duration": 0.246741,
     "end_time": "2021-11-01T06:23:26.235953",
     "exception": false,
     "start_time": "2021-11-01T06:23:25.989212",
     "status": "completed"
    },
    "tags": []
   },
   "outputs": [
    {
     "data": {
      "image/png": "[encoded data removed]",
      "text/plain": [
       "<Figure size 1152x360 with 1 Axes>"
      ]
     },
     "metadata": {
      "needs_background": "light"
     },
     "output_type": "display_data"
    }
   ],
   "source": [
    "# Plot a Dendrogram on the columns of the dataset\n",
    "\n",
    "# creating a varibake to store data_2010_2021 after dropin nan values\n",
    "temp_data = data_2010_2021.dropna()\n",
    "\n",
    "# createing corr variable to store correlation results\n",
    "corr = np.round(scipy.stats.spearmanr(temp_data ).correlation,4)\n",
    "# condensing corr variable\n",
    "condensed_corr = hierarchy.distance.squareform(1-corr)\n",
    "# passing condensed_corr variable to hierarchy linkage for getting average and then sorting it in new varibale\n",
    "avg = hierarchy.linkage(condensed_corr,method='average')\n",
    "\n",
    "# ploting a dendogram with values of new varibale just created above\n",
    "fig = plt.figure(figsize=(16,5))\n",
    "dendrogram = hierarchy.dendrogram(avg,labels=temp_data .columns,orientation='left')\n",
    "plt.show()"
   ]
  },
  {
   "cell_type": "markdown",
   "id": "d46e5ab5",
   "metadata": {
    "papermill": {
     "duration": 0.040013,
     "end_time": "2021-11-01T06:23:26.316461",
     "exception": false,
     "start_time": "2021-11-01T06:23:26.276448",
     "status": "completed"
    },
    "tags": []
   },
   "source": [
    "Observe `Team1` and `Winner` are `strongly correlated variables`\n"
   ]
  },
  {
   "cell_type": "code",
   "execution_count": 25,
   "id": "7d3279c4",
   "metadata": {
    "execution": {
     "iopub.execute_input": "2021-11-01T06:23:26.402015Z",
     "iopub.status.busy": "2021-11-01T06:23:26.401055Z",
     "iopub.status.idle": "2021-11-01T06:23:26.408622Z",
     "shell.execute_reply": "2021-11-01T06:23:26.409047Z",
     "shell.execute_reply.started": "2021-11-01T06:01:08.828387Z"
    },
    "papermill": {
     "duration": 0.051345,
     "end_time": "2021-11-01T06:23:26.409227",
     "exception": false,
     "start_time": "2021-11-01T06:23:26.357882",
     "status": "completed"
    },
    "tags": []
   },
   "outputs": [
    {
     "data": {
      "text/plain": [
       "Scorecard      0\n",
       "Team 1         0\n",
       "Team 2         0\n",
       "Winner         0\n",
       "Margin        49\n",
       "Ground         0\n",
       "Match Date     0\n",
       "dtype: int64"
      ]
     },
     "execution_count": 25,
     "metadata": {},
     "output_type": "execute_result"
    }
   ],
   "source": [
    "data_2010_2021.isnull().sum()"
   ]
  },
  {
   "cell_type": "markdown",
   "id": "5428fd98",
   "metadata": {
    "papermill": {
     "duration": 0.040184,
     "end_time": "2021-11-01T06:23:26.490340",
     "exception": false,
     "start_time": "2021-11-01T06:23:26.450156",
     "status": "completed"
    },
    "tags": []
   },
   "source": [
    "Margin have 49 null values\n",
    "* I am droping these empty rows \n",
    "    * as all of the data is categorical and if we replace missing values with random values it will affect correctness of prediction"
   ]
  },
  {
   "cell_type": "code",
   "execution_count": 26,
   "id": "9c3df6fc",
   "metadata": {
    "execution": {
     "iopub.execute_input": "2021-11-01T06:23:26.574410Z",
     "iopub.status.busy": "2021-11-01T06:23:26.573502Z",
     "iopub.status.idle": "2021-11-01T06:23:26.579576Z",
     "shell.execute_reply": "2021-11-01T06:23:26.579996Z",
     "shell.execute_reply.started": "2021-11-01T06:01:08.838717Z"
    },
    "papermill": {
     "duration": 0.04973,
     "end_time": "2021-11-01T06:23:26.580185",
     "exception": false,
     "start_time": "2021-11-01T06:23:26.530455",
     "status": "completed"
    },
    "tags": []
   },
   "outputs": [],
   "source": [
    "# Droping rows with missing values and reseting index of samples\n",
    "data_2010_2021.dropna().reset_index(inplace=True)\n"
   ]
  },
  {
   "cell_type": "code",
   "execution_count": 27,
   "id": "8effc9dd",
   "metadata": {
    "execution": {
     "iopub.execute_input": "2021-11-01T06:23:26.665003Z",
     "iopub.status.busy": "2021-11-01T06:23:26.664121Z",
     "iopub.status.idle": "2021-11-01T06:23:26.669276Z",
     "shell.execute_reply": "2021-11-01T06:23:26.669667Z",
     "shell.execute_reply.started": "2021-11-01T06:01:08.853323Z"
    },
    "papermill": {
     "duration": 0.049334,
     "end_time": "2021-11-01T06:23:26.669828",
     "exception": false,
     "start_time": "2021-11-01T06:23:26.620494",
     "status": "completed"
    },
    "tags": []
   },
   "outputs": [
    {
     "data": {
      "text/plain": [
       "array(['Sri Lanka', 'India', 'Australia', 'New Zealand', 'no result',\n",
       "       'Kenya', 'Afghanistan', 'Netherlands', 'Canada', 'South Africa',\n",
       "       'England', 'Zimbabwe', 'West Indies', 'Pakistan', 'Ireland',\n",
       "       'Scotland', 'Bangladesh', 'tied', 'U.A.E.', 'P.N.G.', 'Hong Kong',\n",
       "       'Nepal', 'Namibia', 'Oman', 'U.S.A.'], dtype=object)"
      ]
     },
     "execution_count": 27,
     "metadata": {},
     "output_type": "execute_result"
    }
   ],
   "source": [
    "data_2010_2021.Winner.unique()"
   ]
  },
  {
   "cell_type": "code",
   "execution_count": 28,
   "id": "f855b971",
   "metadata": {
    "execution": {
     "iopub.execute_input": "2021-11-01T06:23:26.755782Z",
     "iopub.status.busy": "2021-11-01T06:23:26.754880Z",
     "iopub.status.idle": "2021-11-01T06:23:26.761704Z",
     "shell.execute_reply": "2021-11-01T06:23:26.762190Z",
     "shell.execute_reply.started": "2021-11-01T06:01:08.865434Z"
    },
    "papermill": {
     "duration": 0.051519,
     "end_time": "2021-11-01T06:23:26.762356",
     "exception": false,
     "start_time": "2021-11-01T06:23:26.710837",
     "status": "completed"
    },
    "tags": []
   },
   "outputs": [
    {
     "data": {
      "text/plain": [
       "India           164\n",
       "Australia       133\n",
       "England         133\n",
       "South Africa    120\n",
       "Sri Lanka       118\n",
       "Pakistan        108\n",
       "New Zealand     104\n",
       "Bangladesh       81\n",
       "West Indies      76\n",
       "Afghanistan      60\n",
       "Ireland          54\n",
       "no result        48\n",
       "Zimbabwe         44\n",
       "Scotland         33\n",
       "Netherlands      16\n",
       "U.A.E.           16\n",
       "tied             15\n",
       "Hong Kong         9\n",
       "Oman              8\n",
       "Kenya             7\n",
       "P.N.G.            7\n",
       "U.S.A.            6\n",
       "Canada            5\n",
       "Nepal             5\n",
       "Namibia           5\n",
       "Name: Winner, dtype: int64"
      ]
     },
     "execution_count": 28,
     "metadata": {},
     "output_type": "execute_result"
    }
   ],
   "source": [
    "data_2010_2021.Winner.value_counts()"
   ]
  },
  {
   "cell_type": "markdown",
   "id": "0c063112",
   "metadata": {
    "papermill": {
     "duration": 0.041127,
     "end_time": "2021-11-01T06:23:26.844203",
     "exception": false,
     "start_time": "2021-11-01T06:23:26.803076",
     "status": "completed"
    },
    "tags": []
   },
   "source": [
    "Observe there are some values as `no result` 10 times and `tied` 4 times"
   ]
  },
  {
   "cell_type": "code",
   "execution_count": 29,
   "id": "552e4bef",
   "metadata": {
    "execution": {
     "iopub.execute_input": "2021-11-01T06:23:26.929806Z",
     "iopub.status.busy": "2021-11-01T06:23:26.928842Z",
     "iopub.status.idle": "2021-11-01T06:23:26.936003Z",
     "shell.execute_reply": "2021-11-01T06:23:26.936535Z",
     "shell.execute_reply.started": "2021-11-01T06:01:08.878435Z"
    },
    "papermill": {
     "duration": 0.051635,
     "end_time": "2021-11-01T06:23:26.936706",
     "exception": false,
     "start_time": "2021-11-01T06:23:26.885071",
     "status": "completed"
    },
    "tags": []
   },
   "outputs": [],
   "source": [
    "# Filtering out rows which contain winner column values as 'no result' and 'tied'\n",
    "data_2010_2021 = data_2010_2021[(data_2010_2021.Winner != 'no result') & (data_2010_2021.Winner != 'tied')]\n",
    "# reseting index of samples and droping extra \"index\" column from dataset\n",
    "data_2010_2021.reset_index().drop(['index'],axis=1,inplace=True)"
   ]
  },
  {
   "cell_type": "markdown",
   "id": "30f3feaa",
   "metadata": {
    "execution": {
     "iopub.execute_input": "2021-11-01T05:18:45.372087Z",
     "iopub.status.busy": "2021-11-01T05:18:45.371888Z",
     "iopub.status.idle": "2021-11-01T05:18:45.388158Z",
     "shell.execute_reply": "2021-11-01T05:18:45.387657Z",
     "shell.execute_reply.started": "2021-11-01T05:18:45.372062Z"
    },
    "papermill": {
     "duration": 0.040743,
     "end_time": "2021-11-01T06:23:27.018563",
     "exception": false,
     "start_time": "2021-11-01T06:23:26.977820",
     "status": "completed"
    },
    "tags": []
   },
   "source": [
    "# Feature Engineering -1\n",
    "The most important step in workflow of machine learning\n",
    "* ML model work well if data provided to model is relevant and useful"
   ]
  },
  {
   "cell_type": "code",
   "execution_count": 30,
   "id": "aebe14bb",
   "metadata": {
    "execution": {
     "iopub.execute_input": "2021-11-01T06:23:27.108541Z",
     "iopub.status.busy": "2021-11-01T06:23:27.107616Z",
     "iopub.status.idle": "2021-11-01T06:23:27.111039Z",
     "shell.execute_reply": "2021-11-01T06:23:27.111553Z",
     "shell.execute_reply.started": "2021-11-01T06:01:08.890129Z"
    },
    "papermill": {
     "duration": 0.051165,
     "end_time": "2021-11-01T06:23:27.111717",
     "exception": false,
     "start_time": "2021-11-01T06:23:27.060552",
     "status": "completed"
    },
    "tags": []
   },
   "outputs": [
    {
     "data": {
      "text/plain": [
       "array(['7 wickets', '5 wickets', '6 wickets', '9 wickets', '8 wickets',\n",
       "       '4 wickets', '140 runs', '40 runs', '135 runs', '2 wickets',\n",
       "       '146 runs', '113 runs', '3 wickets', '50 runs', '1 run', '80 runs',\n",
       "       '125 runs', '153 runs', '90 runs', '2 runs', '45 runs', '12 runs',\n",
       "       '141 runs', '51 runs', '208 runs', '66 runs', '17 runs', '67 runs',\n",
       "       '1 wicket', '16 runs', '39 runs', '126 runs', '139 runs',\n",
       "       '81 runs', '78 runs', '69 runs', '117 runs', '42 runs', '6 runs',\n",
       "       '5 runs', '144 runs', '200 runs', '70 runs', '105 runs', '74 runs',\n",
       "       '4 runs', '92 runs', '24 runs', '23 runs', '38 runs', '121 runs',\n",
       "       '20 runs', '9 runs', '64 runs', '3 runs', '272 runs', '29 runs',\n",
       "       '57 runs', '65 runs', '46 runs', '48 runs', '33 runs', '21 runs',\n",
       "       '43 runs', '41 runs', '26 runs', '87 runs', '10 wickets',\n",
       "       '210 runs', '91 runs', '205 runs', '27 runs', '11 runs',\n",
       "       '175 runs', '215 runs', '231 runs', '110 runs', '44 runs',\n",
       "       '97 runs', '60 runs', '131 runs', '18 runs', '112 runs',\n",
       "       '206 runs', '161 runs', '49 runs', '103 runs', '15 runs',\n",
       "       '183 runs', '93 runs', '28 runs', '133 runs', '56 runs', '95 runs',\n",
       "       '25 runs', '76 runs', '58 runs', '34 runs', '258 runs', '202 runs',\n",
       "       '130 runs', '30 runs', '114 runs', '59 runs', '55 runs', '88 runs',\n",
       "       '14 runs', '160 runs', '75 runs', '85 runs', '10 runs', '107 runs',\n",
       "       '127 runs', '32 runs', '54 runs', '156 runs', '96 runs', '83 runs',\n",
       "       '86 runs', '102 runs', '37 runs', '180 runs', '128 runs',\n",
       "       '108 runs', '72 runs', '68 runs', '36 runs', '134 runs',\n",
       "       '159 runs', '203 runs', '170 runs', '13 runs', '61 runs',\n",
       "       '129 runs', '79 runs', '157 runs', '7 runs', '47 runs', '82 runs',\n",
       "       '100 runs', '177 runs', '198 runs', '77 runs', '62 runs',\n",
       "       '63 runs', '124 runs', '169 runs', '73 runs', '147 runs',\n",
       "       '150 runs', '71 runs', '148 runs', '120 runs', '119 runs',\n",
       "       '98 runs', '111 runs', '257 runs', '201 runs', '275 runs',\n",
       "       '109 runs', '143 runs', '165 runs', '22 runs', '35 runs',\n",
       "       '214 runs', '145 runs', '19 runs', '89 runs', '136 runs',\n",
       "       '84 runs', '122 runs', '255 runs', '53 runs', '142 runs',\n",
       "       '31 runs', '190 runs', '106 runs', '116 runs', '186 runs',\n",
       "       '168 runs', '101 runs', '104 runs', '138 runs', '204 runs',\n",
       "       '163 runs', '154 runs', '52 runs', '226 runs', '242 runs',\n",
       "       '244 runs', '178 runs', '137 runs', '219 runs', '224 runs',\n",
       "       '115 runs', '8 runs', '196 runs', '94 runs', '123 runs',\n",
       "       '164 runs', '155 runs'], dtype=object)"
      ]
     },
     "execution_count": 30,
     "metadata": {},
     "output_type": "execute_result"
    }
   ],
   "source": [
    "data_2010_2021.Margin.unique()"
   ]
  },
  {
   "cell_type": "code",
   "execution_count": 31,
   "id": "0270db53",
   "metadata": {
    "execution": {
     "iopub.execute_input": "2021-11-01T06:23:27.199901Z",
     "iopub.status.busy": "2021-11-01T06:23:27.199311Z",
     "iopub.status.idle": "2021-11-01T06:23:27.203418Z",
     "shell.execute_reply": "2021-11-01T06:23:27.203869Z",
     "shell.execute_reply.started": "2021-11-01T06:01:08.902407Z"
    },
    "papermill": {
     "duration": 0.050582,
     "end_time": "2021-11-01T06:23:27.204072",
     "exception": false,
     "start_time": "2021-11-01T06:23:27.153490",
     "status": "completed"
    },
    "tags": []
   },
   "outputs": [
    {
     "data": {
      "text/plain": [
       "dtype('O')"
      ]
     },
     "execution_count": 31,
     "metadata": {},
     "output_type": "execute_result"
    }
   ],
   "source": [
    "data_2010_2021.Margin.dtype"
   ]
  },
  {
   "cell_type": "markdown",
   "id": "6fab3896",
   "metadata": {
    "papermill": {
     "duration": 0.041328,
     "end_time": "2021-11-01T06:23:27.287583",
     "exception": false,
     "start_time": "2021-11-01T06:23:27.246255",
     "status": "completed"
    },
    "tags": []
   },
   "source": [
    "**`Trying to break down `Margin` column which is Object data type into two columns named `won_by_runs` and `won_by_wickets` both as numerical datatype int64`**"
   ]
  },
  {
   "cell_type": "code",
   "execution_count": 32,
   "id": "6d6e37b6",
   "metadata": {
    "execution": {
     "iopub.execute_input": "2021-11-01T06:23:27.375183Z",
     "iopub.status.busy": "2021-11-01T06:23:27.374272Z",
     "iopub.status.idle": "2021-11-01T06:23:27.378222Z",
     "shell.execute_reply": "2021-11-01T06:23:27.378769Z",
     "shell.execute_reply.started": "2021-11-01T06:01:08.912454Z"
    },
    "papermill": {
     "duration": 0.050096,
     "end_time": "2021-11-01T06:23:27.378958",
     "exception": false,
     "start_time": "2021-11-01T06:23:27.328862",
     "status": "completed"
    },
    "tags": []
   },
   "outputs": [],
   "source": [
    "for element in data_2010_2021.Margin:\n",
    "    e = element"
   ]
  },
  {
   "cell_type": "code",
   "execution_count": 33,
   "id": "299d9b34",
   "metadata": {
    "execution": {
     "iopub.execute_input": "2021-11-01T06:23:27.466190Z",
     "iopub.status.busy": "2021-11-01T06:23:27.465279Z",
     "iopub.status.idle": "2021-11-01T06:23:27.469976Z",
     "shell.execute_reply": "2021-11-01T06:23:27.470509Z",
     "shell.execute_reply.started": "2021-11-01T06:01:08.921610Z"
    },
    "papermill": {
     "duration": 0.049562,
     "end_time": "2021-11-01T06:23:27.470667",
     "exception": false,
     "start_time": "2021-11-01T06:23:27.421105",
     "status": "completed"
    },
    "tags": []
   },
   "outputs": [
    {
     "data": {
      "text/plain": [
       "'6 wickets'"
      ]
     },
     "execution_count": 33,
     "metadata": {},
     "output_type": "execute_result"
    }
   ],
   "source": [
    "e"
   ]
  },
  {
   "cell_type": "markdown",
   "id": "a464d96f",
   "metadata": {
    "papermill": {
     "duration": 0.041378,
     "end_time": "2021-11-01T06:23:27.553712",
     "exception": false,
     "start_time": "2021-11-01T06:23:27.512334",
     "status": "completed"
    },
    "tags": []
   },
   "source": [
    "Observe there is space between number and words[43 runs] or [3 wickets], I am trying to split the on basis of space"
   ]
  },
  {
   "cell_type": "code",
   "execution_count": 34,
   "id": "7ca9fa61",
   "metadata": {
    "execution": {
     "iopub.execute_input": "2021-11-01T06:23:27.640782Z",
     "iopub.status.busy": "2021-11-01T06:23:27.639875Z",
     "iopub.status.idle": "2021-11-01T06:23:27.643887Z",
     "shell.execute_reply": "2021-11-01T06:23:27.644397Z",
     "shell.execute_reply.started": "2021-11-01T06:01:08.936423Z"
    },
    "papermill": {
     "duration": 0.048796,
     "end_time": "2021-11-01T06:23:27.644554",
     "exception": false,
     "start_time": "2021-11-01T06:23:27.595758",
     "status": "completed"
    },
    "tags": []
   },
   "outputs": [],
   "source": [
    "for element in data_2010_2021.Margin:\n",
    "    num_word_split_data = element.split(' ')\n",
    "    "
   ]
  },
  {
   "cell_type": "code",
   "execution_count": 35,
   "id": "c4b187dc",
   "metadata": {
    "execution": {
     "iopub.execute_input": "2021-11-01T06:23:27.731423Z",
     "iopub.status.busy": "2021-11-01T06:23:27.730508Z",
     "iopub.status.idle": "2021-11-01T06:23:27.735393Z",
     "shell.execute_reply": "2021-11-01T06:23:27.735909Z",
     "shell.execute_reply.started": "2021-11-01T06:01:08.946713Z"
    },
    "papermill": {
     "duration": 0.049888,
     "end_time": "2021-11-01T06:23:27.736090",
     "exception": false,
     "start_time": "2021-11-01T06:23:27.686202",
     "status": "completed"
    },
    "tags": []
   },
   "outputs": [
    {
     "data": {
      "text/plain": [
       "['6', 'wickets']"
      ]
     },
     "execution_count": 35,
     "metadata": {},
     "output_type": "execute_result"
    }
   ],
   "source": [
    "num_word_split_data"
   ]
  },
  {
   "cell_type": "code",
   "execution_count": 36,
   "id": "eb93caac",
   "metadata": {
    "execution": {
     "iopub.execute_input": "2021-11-01T06:23:27.824203Z",
     "iopub.status.busy": "2021-11-01T06:23:27.823245Z",
     "iopub.status.idle": "2021-11-01T06:23:27.836422Z",
     "shell.execute_reply": "2021-11-01T06:23:27.836941Z",
     "shell.execute_reply.started": "2021-11-01T06:03:22.303440Z"
    },
    "papermill": {
     "duration": 0.058524,
     "end_time": "2021-11-01T06:23:27.837109",
     "exception": false,
     "start_time": "2021-11-01T06:23:27.778585",
     "status": "completed"
    },
    "tags": []
   },
   "outputs": [],
   "source": [
    "# creating a list for storing runs\n",
    "won_by_runs = []\n",
    "# creating a list for storing wickets\n",
    "won_by_wickets = []\n",
    "# looping through dataset column Margin\n",
    "for element in data_2010_2021.Margin:\n",
    "# splitting string data by space and making a list\n",
    "    num_word_split_data = element.split(' ')\n",
    "    \n",
    "    ### Exception handling #####\n",
    "    try:    \n",
    "    # searching for index of \"run\" in string, after success index of \"run\" will be stored in index variable \n",
    "        run_index_search = num_word_split_data.index('run')\n",
    "    # appending first element from splitted data after converting to integer to won by run list created before looping \n",
    "        won_by_runs.append(int(num_word_split_data[run_index_search-1]))\n",
    "    # appending 0 from splitted data to won by wicket list created before looping\n",
    "        won_by_wickets.append(0)\n",
    "    except:\n",
    "    # if failed --> print(\"run_index_search_failes\")\n",
    "        #print('---run_index_search_failes---')\n",
    "        pass\n",
    "\n",
    "  ### Exceptin handling ###\n",
    "    try:\n",
    "    # searching for index of \"runs\" in string, after success index of \"runs\" will be stored in index variable \n",
    "        runs_index_search = num_word_split_data.index('runs')\n",
    "    # appending first element from splitted data after converting to integer to won by run list created before looping \n",
    "        won_by_runs.append(int(num_word_split_data[runs_index_search-1]))\n",
    "    # appending 0 from splitted data to won by wicket list created before looping\n",
    "        won_by_wickets.append(0)\n",
    "    except:\n",
    "    # if failed --> print(\"runs_index_search_failes\")\n",
    "        #print('---runs_index_search_failes---')\n",
    "        pass\n",
    "    \n",
    "\n",
    "  ### Exceptin handling ###\n",
    "    try:\n",
    "    # searching for index of \"wicket\" in string, after success index of \"wicket\" will be stored in index variable \n",
    "        wicket_index_search = num_word_split_data.index('wicket')\n",
    "    # appending first element from splitted data after converting to integer to won by wicket list created before looping \n",
    "        won_by_wickets.append(int(num_word_split_data[wicket_index_search-1]))\n",
    "    # appending 0 from splitted data to won by run list created before looping\n",
    "        won_by_runs.append(0)\n",
    "    except:\n",
    "    # if failed --> print(\"wicket_index_search_failes\")\n",
    "        #print('---wicket_index_search_failes---')\n",
    "        pass\n",
    "   \n",
    "\n",
    "  ### Exceptin handling ###\n",
    "    try:\n",
    "    # searching for index of \"wickets\" in string, after success index of \"wickets\" will be stored in index variable \n",
    "        wickets_index_search = num_word_split_data.index('wickets')\n",
    "    # appending first element from splitted data after converting to integer to won by wicket list created before looping \n",
    "        won_by_wickets.append(int(num_word_split_data[wickets_index_search-1]))\n",
    "    # appending 0 from splitted data to won by run list created before looping\n",
    "        won_by_runs.append(0)\n",
    "    except:\n",
    "    # if failed --> print(\"wickets_index_search_failes\")\n",
    "        #print('---wickets_index_search_failes---')\n",
    "        pass\n",
    "\n",
    "\n",
    "# adding a new column named 'won_by_runs' to Datframe with respectiev data list\n",
    "data_2010_2021['Won_by_runs'] = won_by_runs\n",
    "# adding a new column named 'won_by_wickets' to Datframe with respectiev data list\n",
    "data_2010_2021['Won_by_wickets'] = won_by_wickets"
   ]
  },
  {
   "cell_type": "code",
   "execution_count": 37,
   "id": "0a80eae6",
   "metadata": {
    "execution": {
     "iopub.execute_input": "2021-11-01T06:23:27.924873Z",
     "iopub.status.busy": "2021-11-01T06:23:27.923950Z",
     "iopub.status.idle": "2021-11-01T06:23:27.935985Z",
     "shell.execute_reply": "2021-11-01T06:23:27.936507Z",
     "shell.execute_reply.started": "2021-11-01T06:03:26.288144Z"
    },
    "papermill": {
     "duration": 0.05745,
     "end_time": "2021-11-01T06:23:27.936673",
     "exception": false,
     "start_time": "2021-11-01T06:23:27.879223",
     "status": "completed"
    },
    "tags": []
   },
   "outputs": [
    {
     "data": {
      "text/html": [
       "<div>\n",
       "<style scoped>\n",
       "    .dataframe tbody tr th:only-of-type {\n",
       "        vertical-align: middle;\n",
       "    }\n",
       "\n",
       "    .dataframe tbody tr th {\n",
       "        vertical-align: top;\n",
       "    }\n",
       "\n",
       "    .dataframe thead th {\n",
       "        text-align: right;\n",
       "    }\n",
       "</style>\n",
       "<table border=\"1\" class=\"dataframe\">\n",
       "  <thead>\n",
       "    <tr style=\"text-align: right;\">\n",
       "      <th></th>\n",
       "      <th>Scorecard</th>\n",
       "      <th>Team 1</th>\n",
       "      <th>Team 2</th>\n",
       "      <th>Winner</th>\n",
       "      <th>Margin</th>\n",
       "      <th>Ground</th>\n",
       "      <th>Match Date</th>\n",
       "      <th>Won_by_runs</th>\n",
       "      <th>Won_by_wickets</th>\n",
       "    </tr>\n",
       "  </thead>\n",
       "  <tbody>\n",
       "    <tr>\n",
       "      <th>0</th>\n",
       "      <td>ODI # 2937</td>\n",
       "      <td>Bangladesh</td>\n",
       "      <td>Sri Lanka</td>\n",
       "      <td>Sri Lanka</td>\n",
       "      <td>7 wickets</td>\n",
       "      <td>Dhaka</td>\n",
       "      <td>Jan 4, 2010</td>\n",
       "      <td>0</td>\n",
       "      <td>7</td>\n",
       "    </tr>\n",
       "    <tr>\n",
       "      <th>1</th>\n",
       "      <td>ODI # 2938</td>\n",
       "      <td>India</td>\n",
       "      <td>Sri Lanka</td>\n",
       "      <td>Sri Lanka</td>\n",
       "      <td>5 wickets</td>\n",
       "      <td>Dhaka</td>\n",
       "      <td>Jan 5, 2010</td>\n",
       "      <td>0</td>\n",
       "      <td>5</td>\n",
       "    </tr>\n",
       "    <tr>\n",
       "      <th>2</th>\n",
       "      <td>ODI # 2939</td>\n",
       "      <td>Bangladesh</td>\n",
       "      <td>India</td>\n",
       "      <td>India</td>\n",
       "      <td>6 wickets</td>\n",
       "      <td>Dhaka</td>\n",
       "      <td>Jan 7, 2010</td>\n",
       "      <td>0</td>\n",
       "      <td>6</td>\n",
       "    </tr>\n",
       "    <tr>\n",
       "      <th>3</th>\n",
       "      <td>ODI # 2940</td>\n",
       "      <td>Bangladesh</td>\n",
       "      <td>Sri Lanka</td>\n",
       "      <td>Sri Lanka</td>\n",
       "      <td>9 wickets</td>\n",
       "      <td>Dhaka</td>\n",
       "      <td>Jan 8, 2010</td>\n",
       "      <td>0</td>\n",
       "      <td>9</td>\n",
       "    </tr>\n",
       "    <tr>\n",
       "      <th>4</th>\n",
       "      <td>ODI # 2941</td>\n",
       "      <td>India</td>\n",
       "      <td>Sri Lanka</td>\n",
       "      <td>India</td>\n",
       "      <td>8 wickets</td>\n",
       "      <td>Dhaka</td>\n",
       "      <td>Jan 10, 2010</td>\n",
       "      <td>0</td>\n",
       "      <td>8</td>\n",
       "    </tr>\n",
       "  </tbody>\n",
       "</table>\n",
       "</div>"
      ],
      "text/plain": [
       "    Scorecard      Team 1     Team 2     Winner     Margin Ground  \\\n",
       "0  ODI # 2937  Bangladesh  Sri Lanka  Sri Lanka  7 wickets  Dhaka   \n",
       "1  ODI # 2938       India  Sri Lanka  Sri Lanka  5 wickets  Dhaka   \n",
       "2  ODI # 2939  Bangladesh      India      India  6 wickets  Dhaka   \n",
       "3  ODI # 2940  Bangladesh  Sri Lanka  Sri Lanka  9 wickets  Dhaka   \n",
       "4  ODI # 2941       India  Sri Lanka      India  8 wickets  Dhaka   \n",
       "\n",
       "     Match Date  Won_by_runs  Won_by_wickets  \n",
       "0   Jan 4, 2010            0               7  \n",
       "1   Jan 5, 2010            0               5  \n",
       "2   Jan 7, 2010            0               6  \n",
       "3   Jan 8, 2010            0               9  \n",
       "4  Jan 10, 2010            0               8  "
      ]
     },
     "execution_count": 37,
     "metadata": {},
     "output_type": "execute_result"
    }
   ],
   "source": [
    "data_2010_2021.head()"
   ]
  },
  {
   "cell_type": "markdown",
   "id": "782fd1ac",
   "metadata": {
    "papermill": {
     "duration": 0.042478,
     "end_time": "2021-11-01T06:23:28.022016",
     "exception": false,
     "start_time": "2021-11-01T06:23:27.979538",
     "status": "completed"
    },
    "tags": []
   },
   "source": [
    "# Feature Engineering -2 \n",
    "* Trying to find out which team bolled first and wise versa\n",
    "\n",
    "\n",
    "Trying to Extract `Team1_batted_first` and `Team2_batted_first` column data from `Won_by_runs` and `Won_by_wickets` columns\n",
    "\n",
    "**`Domain knowledge:`**<br>\n",
    "* if team wins by wickets means => team got first chance to bowl\n",
    "* if team wins by runs means => team got first chance to batt"
   ]
  },
  {
   "attachments": {
    "15398b26-cf47-49b0-9a9e-bfe2e1909b1d.png": {
     "image/png": "[encoded data removed]"
    },
    "8c6e9094-12f0-4ef0-9da5-f45088e6efe4.png": {
     "image/png": "[encoded data removed]"
    }
   },
   "cell_type": "markdown",
   "id": "1eac9b9f",
   "metadata": {
    "papermill": {
     "duration": 0.042187,
     "end_time": "2021-11-01T06:23:28.107660",
     "exception": false,
     "start_time": "2021-11-01T06:23:28.065473",
     "status": "completed"
    },
    "tags": []
   },
   "source": [
    "<h2><center>Work In Progress</center></h2>\n"
   ]
  },
  {
   "attachments": {
    "0b05555d-6839-4321-a329-19307c3fd940.png": {
     "image/png": "[encoded data removed]"
    }
   },
   "cell_type": "markdown",
   "id": "f54fde73",
   "metadata": {
    "papermill": {
     "duration": 0.042418,
     "end_time": "2021-11-01T06:23:28.193544",
     "exception": false,
     "start_time": "2021-11-01T06:23:28.151126",
     "status": "completed"
    },
    "tags": []
   },
   "source": [
    "![image.png](attachment:0b05555d-6839-4321-a329-19307c3fd940.png)"
   ]
  }
 ],
 "metadata": {
  "kernelspec": {
   "display_name": "Python 3",
   "language": "python",
   "name": "python3"
  },
  "language_info": {
   "codemirror_mode": {
    "name": "ipython",
    "version": 3
   },
   "file_extension": ".py",
   "mimetype": "text/x-python",
   "name": "python",
   "nbconvert_exporter": "python",
   "pygments_lexer": "ipython3",
   "version": "3.7.10"
  },
  "papermill": {
   "default_parameters": {},
   "duration": 18.082996,
   "end_time": "2021-11-01T06:23:28.846984",
   "environment_variables": {},
   "exception": null,
   "input_path": "__notebook__.ipynb",
   "output_path": "__notebook__.ipynb",
   "parameters": {},
   "start_time": "2021-11-01T06:23:10.763988",
   "version": "2.3.3"
  }
 },
 "nbformat": 4,
 "nbformat_minor": 5
}
